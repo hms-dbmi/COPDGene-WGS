{
 "cells": [
  {
   "cell_type": "code",
   "execution_count": null,
   "metadata": {
    "collapsed": true
   },
   "outputs": [],
   "source": [
    "library(dplyr)\n",
    "library(data.table)\n",
    "library(tidyr)"
   ]
  },
  {
   "cell_type": "markdown",
   "metadata": {},
   "source": [
    "# Import data"
   ]
  },
  {
   "cell_type": "markdown",
   "metadata": {},
   "source": [
    "For token go to https://copdgene.hms.harvard.edu/transmart/login/auth, utilities, user profile, IRCT Token"
   ]
  },
  {
   "cell_type": "code",
   "execution_count": null,
   "metadata": {
    "collapsed": true
   },
   "outputs": [],
   "source": [
    "source(\"functions.R\")\n",
    "token = \"\"\n",
    "IRCT_REST_BASE_URL = \"https://copdgene.hms.harvard.edu\""
   ]
  },
  {
   "cell_type": "markdown",
   "metadata": {},
   "source": [
    "Phenotypes of interest for all patients in freeze 5"
   ]
  },
  {
   "cell_type": "code",
   "execution_count": null,
   "metadata": {
    "collapsed": true
   },
   "outputs": [],
   "source": [
    "pheno.df = reloadDfFormFile(\"/path_to_ids.txt\", token, IRCT_REST_BASE_URL)"
   ]
  },
  {
   "cell_type": "markdown",
   "metadata": {},
   "source": [
    "Remove \"other\" and \"exclusionary disease\" from Affection status such that you only have binary value\n"
   ]
  },
  {
   "cell_type": "code",
   "execution_count": null,
   "metadata": {
    "collapsed": true
   },
   "outputs": [],
   "source": [
    "pheno.df = pheno.df[pheno.df$Affection_status == \"Control\" | pheno.df$Affection_status ==\"Case\", ] \n",
    "summary(as.factor(pheno.df$Affection_status)) #check"
   ]
  },
  {
   "cell_type": "markdown",
   "metadata": {},
   "source": [
    "Change phenotypic scores to 1s, 0s and NAs \n"
   ]
  },
  {
   "cell_type": "code",
   "execution_count": null,
   "metadata": {
    "collapsed": true
   },
   "outputs": [],
   "source": [
    "pheno.df[pheno.df == \"Yes\"] = 1\n",
    "pheno.df[pheno.df == \"No\"]  = 0 \n",
    "pheno.df[pheno.df == \"Do not know\"] = NA"
   ]
  },
  {
   "cell_type": "markdown",
   "metadata": {},
   "source": [
    "Change affection status to 1s, 0s, but keep as class character"
   ]
  },
  {
   "cell_type": "code",
   "execution_count": null,
   "metadata": {
    "collapsed": true
   },
   "outputs": [],
   "source": [
    "pheno.df$Affection_status[pheno.df$Affection_status == \"Case\"]    = 1\n",
    "pheno.df$Affection_status[pheno.df$Affection_status == \"Control\"] = 0"
   ]
  },
  {
   "cell_type": "markdown",
   "metadata": {},
   "source": [
    "Change phenotypic scores from character to numeric\n"
   ]
  },
  {
   "cell_type": "code",
   "execution_count": null,
   "metadata": {
    "collapsed": true
   },
   "outputs": [],
   "source": [
    "pheno.df[ ,3:ncol(pheno.df)] = lapply(pheno.df[ ,3:ncol(pheno.df)], function(x) {\n",
    "  if(is.character(x)) as.numeric((x))\n",
    "})\n",
    "str(pheno.df) # check"
   ]
  },
  {
   "cell_type": "markdown",
   "metadata": {},
   "source": [
    "s.df has samples of interest: freeze 4 (n = 2000)"
   ]
  },
  {
   "cell_type": "code",
   "execution_count": null,
   "metadata": {
    "collapsed": true
   },
   "outputs": [],
   "source": [
    "s.df = read.csv(\"data/COPDannotations.txt\", \n",
    "                stringsAsFactors = FALSE, \n",
    "                header = TRUE,  \n",
    "                sep = \"\\t\")"
   ]
  },
  {
   "cell_type": "markdown",
   "metadata": {},
   "source": [
    "Subset the samples in pheno.df based on samples in s.df"
   ]
  },
  {
   "cell_type": "code",
   "execution_count": null,
   "metadata": {
    "collapsed": true
   },
   "outputs": [],
   "source": [
    "final.df = pheno.df[pheno.df$Patient.Id %in% s.df$dbGaP_Subject_ID, ]"
   ]
  },
  {
   "cell_type": "markdown",
   "metadata": {},
   "source": [
    "# Building Output"
   ]
  },
  {
   "cell_type": "markdown",
   "metadata": {},
   "source": [
    "df of possible phenotypes"
   ]
  },
  {
   "cell_type": "code",
   "execution_count": null,
   "metadata": {
    "collapsed": true
   },
   "outputs": [],
   "source": [
    "pheno.names = names(final.df[ ,c(3:ncol(final.df))])"
   ]
  },
  {
   "cell_type": "markdown",
   "metadata": {},
   "source": [
    "Create df to store results in"
   ]
  },
  {
   "cell_type": "code",
   "execution_count": null,
   "metadata": {
    "collapsed": true
   },
   "outputs": [],
   "source": [
    "phewasOutput.df = as.data.frame(matrix(ncol = 7)) \n"
   ]
  },
  {
   "cell_type": "code",
   "execution_count": null,
   "metadata": {
    "collapsed": true
   },
   "outputs": [],
   "source": [
    "for(i in 1:length(pheno.names)){\n",
    "    \n",
    "  #general linear regression on phenotype of interest(POI)\n",
    "  POI.glm = glm(formula = final.df[ ,pheno.names[i]]~Affection_status, family = binomial(), data = final.df, na.action = na.omit)\n",
    "  \n",
    "  # confidence interval\n",
    "  ci = exp(summary(POI.glm)$coefficients[\"Affection_status1\", 1] + qnorm(c(0.025, 0.975)) * summary(POI.glm)$coefficients[\"Affection_status1\", 2])\n",
    "  \n",
    "  # caco.df is df with specific phenotype, patient ID, case/ctrl\n",
    "  caco.df        = final.df[ ,c((pheno.names)[i], \"Patient.Id\", \"Affection_status\")]\n",
    "  caco.df        = na.omit(caco.df)\n",
    "  \n",
    "  # Count number of cases with disease (CaseDisease), without etc etc \n",
    "  CaseDisease   = length(unique(caco.df[caco.df[ ,1] == 1 & caco.df$Affection_status == \"1\", \"Patient.Id\"]))\n",
    "  CaseNoDisease = length(unique(caco.df[caco.df[ ,1] == 0 & caco.df$Affection_status == \"1\", \"Patient.Id\"]))\n",
    "  CtrlDisease   = length(unique(caco.df[caco.df[ ,1] == 1 & caco.df$Affection_status == \"0\", \"Patient.Id\"]))\n",
    "  CtrlNoDisease = length(unique(caco.df[caco.df[ ,1] == 0 & caco.df$Affection_status == \"0\", \"Patient.Id\"]))\n",
    "  newRow        = c(pheno.names[i], \n",
    "                    round(summary(POI.glm)$coefficients[2] ,2), \n",
    "                    round(exp(summary(POI.glm)$coefficients[2]), 2), \n",
    "                    paste0(\"[\", round(ci[1][1],3), \", \", round(ci[2][1],3), \"]\"),\n",
    "                    if(summary(POI.glm)$coefficients[2,4] > 10e-150){\n",
    "                      summary(POI.glm)$coefficients[2,4]\n",
    "                    # all p-values lower than 10e-150 will be noted as 10e-150\n",
    "                    }else{\n",
    "                      10e-150\n",
    "                    }, \n",
    "                    paste0(CaseDisease   + CtrlDisease,   \"(\", CaseDisease,  \"/\", CtrlDisease,  \")\"), \n",
    "                    paste0(CaseNoDisease + CtrlNoDisease, \"(\", CaseNoDisease,\"/\", CtrlNoDisease,\")\")\n",
    "  )\n",
    "  phewasOutput.df = rbind(newRow, phewasOutput.df)\n",
    "}\n"
   ]
  },
  {
   "cell_type": "code",
   "execution_count": null,
   "metadata": {
    "collapsed": true
   },
   "outputs": [],
   "source": [
    "colnames(phewasOutput.df) = c(\"Phenotype\", \"Coefficient\", \"OR\", \"Confidence_interval\", \"Pvalue\", \"Phenotype_present\", \"Phenotype_absent\")"
   ]
  },
  {
   "cell_type": "markdown",
   "metadata": {},
   "source": [
    "Multiple testing correction (bonferroni)"
   ]
  },
  {
   "cell_type": "code",
   "execution_count": null,
   "metadata": {
    "collapsed": true
   },
   "outputs": [],
   "source": [
    "phewasOutput.df$adjPvalue = p.adjust(as.numeric(phewasOutput.df$Pvalue), method = \"bonferroni\")"
   ]
  },
  {
   "cell_type": "markdown",
   "metadata": {},
   "source": [
    "Remove all rows with only NAs"
   ]
  },
  {
   "cell_type": "code",
   "execution_count": null,
   "metadata": {
    "collapsed": true
   },
   "outputs": [],
   "source": [
    "phewasOutput.df = phewasOutput.df[complete.cases(phewasOutput.df), ]"
   ]
  },
  {
   "cell_type": "markdown",
   "metadata": {},
   "source": [
    "Clean up representation of names of clinical variables"
   ]
  },
  {
   "cell_type": "code",
   "execution_count": null,
   "metadata": {
    "collapsed": true
   },
   "outputs": [],
   "source": [
    "phewasOutput.df$Phenotype = gsub(\"_\", \" \", phewasOutput.df$Phenotype)"
   ]
  },
  {
   "cell_type": "markdown",
   "metadata": {},
   "source": [
    "Significant phenotypes based onf  adj\n"
   ]
  },
  {
   "cell_type": "code",
   "execution_count": null,
   "metadata": {
    "collapsed": true
   },
   "outputs": [],
   "source": [
    "adjPvalue_Sign.df = phewasOutput.df[as.numeric(phewasOutput.df$adjPvalue) < 0.05, ]\n",
    "OR_Sign.df   = adjPvalue_Sign.df[as.numeric(adjPvalue_Sign.df$OR) > 2, ] "
   ]
  }
 ],
 "metadata": {
  "kernelspec": {
   "display_name": "R",
   "language": "R",
   "name": "ir"
  },
  "language_info": {
   "codemirror_mode": "r",
   "file_extension": ".r",
   "mimetype": "text/x-r-source",
   "name": "R",
   "pygments_lexer": "r",
   "version": "3.3.1"
  }
 },
 "nbformat": 4,
 "nbformat_minor": 1
}
