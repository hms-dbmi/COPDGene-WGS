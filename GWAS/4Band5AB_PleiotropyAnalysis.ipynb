{
 "cells": [
  {
   "cell_type": "code",
   "execution_count": null,
   "metadata": {
    "collapsed": true
   },
   "outputs": [],
   "source": [
    "library(dplyr)\n",
    "library(data.table)\n",
    "library(tidyr)\n",
    "library(Hmisc)"
   ]
  },
  {
   "cell_type": "markdown",
   "metadata": {},
   "source": [
    "# Import data"
   ]
  },
  {
   "cell_type": "markdown",
   "metadata": {},
   "source": [
    "To obtain token go to https://copdgene.hms.harvard.edu/transmart/login/auth, utilities, user profile, IRCT Token"
   ]
  },
  {
   "cell_type": "code",
   "execution_count": null,
   "metadata": {
    "collapsed": true
   },
   "outputs": [],
   "source": [
    "source(\"src/functions.R\")\n",
    "token = \"token\"\n",
    "IRCT_REST_BASE_URL = \"https://copdgene.hms.harvard.edu\"\n"
   ]
  },
  {
   "cell_type": "markdown",
   "metadata": {},
   "source": [
    "Phenotypes of interest for all patients in freeze 5 are loaded in with reloadDfFormFile() from function.R\n"
   ]
  },
  {
   "cell_type": "code",
   "execution_count": null,
   "metadata": {
    "collapsed": true
   },
   "outputs": [],
   "source": [
    "pheno.df = reloadDfFormFile(\"data/ids.txt\", token, IRCT_REST_BASE_URL)"
   ]
  },
  {
   "cell_type": "markdown",
   "metadata": {},
   "source": [
    "Select only cases"
   ]
  },
  {
   "cell_type": "code",
   "execution_count": null,
   "metadata": {
    "collapsed": true
   },
   "outputs": [],
   "source": [
    "pheno.df = pheno.df[pheno.df$Affection_status ==\"Case\", ] "
   ]
  },
  {
   "cell_type": "markdown",
   "metadata": {},
   "source": [
    "Show which factors appear within Affection_status"
   ]
  },
  {
   "cell_type": "code",
   "execution_count": null,
   "metadata": {
    "collapsed": true
   },
   "outputs": [],
   "source": [
    "summary(as.factor(pheno.df$Affection_status))"
   ]
  },
  {
   "cell_type": "markdown",
   "metadata": {},
   "source": [
    "Remove phenotypes that are unspecific, that are inherent to COPD (because all subjects are COPD cases) and lung cancer"
   ]
  },
  {
   "cell_type": "code",
   "execution_count": null,
   "metadata": {
    "collapsed": true
   },
   "outputs": [],
   "source": [
    "pheno.df = subset(pheno.df, select = -c(COPD,                     \n",
    "                                          Affection_status,        \n",
    "                                          Chest_injuries,           \n",
    "                                          Chest_operations,\n",
    "                                          Other_chest_illnesses,\n",
    "                                          Prostate_cancer,\n",
    "                                          High_cholesterol,\n",
    "                                          High_blood_pressure\n",
    "                                          ))"
   ]
  },
  {
   "cell_type": "markdown",
   "metadata": {},
   "source": [
    "GT.df has genotype calls of selected variants for samples of interest: freeze 4 (n = 2000)"
   ]
  },
  {
   "cell_type": "code",
   "execution_count": null,
   "metadata": {
    "collapsed": true
   },
   "outputs": [],
   "source": [
    "GT.df = read.csv(\"path_to_file.csv\",       \n",
    "                 stringsAsFactors = FALSE, \n",
    "                 header = TRUE,  \n",
    "                 sep = \",\")           "
   ]
  },
  {
   "cell_type": "markdown",
   "metadata": {},
   "source": [
    "Assign 1 if GT call is [1,0] or [0,1] and 0 if [0,0]"
   ]
  },
  {
   "cell_type": "code",
   "execution_count": null,
   "metadata": {
    "collapsed": true
   },
   "outputs": [],
   "source": [
    "GT.df$GT.alleles[GT.df$GT.alleles != \"[0, 0]\"] = 1\n",
    "GT.df$GT.alleles[GT.df$GT.alleles == \"[0, 0]\"] = 0\n",
    "GT.df$locus = paste0(GT.df$locus.contig, \":\", GT.df$locus.position)"
   ]
  },
  {
   "cell_type": "markdown",
   "metadata": {},
   "source": [
    "Only keep genotype calls of cases as was already selected for in pheno.df"
   ]
  },
  {
   "cell_type": "code",
   "execution_count": null,
   "metadata": {
    "collapsed": true
   },
   "outputs": [],
   "source": [
    "GT.df = GT.df[GT.df$dbGaP_Subject_ID %in% pheno.df$Patient.Id, ]"
   ]
  },
  {
   "cell_type": "markdown",
   "metadata": {},
   "source": [
    "Subset the samples in pheno.df (freeze 5) based on samples in GT.df (freeze 4)"
   ]
  },
  {
   "cell_type": "code",
   "execution_count": null,
   "metadata": {
    "collapsed": true
   },
   "outputs": [],
   "source": [
    "pheno.df = pheno.df[pheno.df$Patient.Id %in% GT.df$dbGaP_Subject_ID, ]"
   ]
  },
  {
   "cell_type": "markdown",
   "metadata": {},
   "source": [
    "# Filter"
   ]
  },
  {
   "cell_type": "markdown",
   "metadata": {},
   "source": [
    "Create new dataframe without patientID such that you have only numerical data."
   ]
  },
  {
   "cell_type": "code",
   "execution_count": null,
   "metadata": {
    "collapsed": true
   },
   "outputs": [],
   "source": [
    "pheno.df1 = subset(pheno.df, select = -c(Patient.Id))"
   ]
  },
  {
   "cell_type": "markdown",
   "metadata": {},
   "source": [
    "#### 1. Remove clinical variable when missingness above 5%"
   ]
  },
  {
   "cell_type": "code",
   "execution_count": null,
   "metadata": {
    "collapsed": true
   },
   "outputs": [],
   "source": [
    "pheno.df1 = pheno.df1[ ,colSums(pheno.df1, na.rm = TRUE) > 0.05 * dim(pheno.df1)]\n",
    "colSums(pheno.df1, na.rm = TRUE)"
   ]
  },
  {
   "cell_type": "markdown",
   "metadata": {},
   "source": [
    "#### 2. Check correlation between clinical variables using Pearson correlation"
   ]
  },
  {
   "cell_type": "code",
   "execution_count": null,
   "metadata": {
    "collapsed": true
   },
   "outputs": [],
   "source": [
    "correlation = rcorr(as.matrix(pheno.df1), type=\"pearson\")"
   ]
  },
  {
   "cell_type": "markdown",
   "metadata": {},
   "source": [
    "Represent data in a clearer way"
   ]
  },
  {
   "cell_type": "code",
   "execution_count": null,
   "metadata": {
    "collapsed": true
   },
   "outputs": [],
   "source": [
    "flattenCorrMatrix <- function(cormat, pmat) {\n",
    "  ut <- upper.tri(cormat)\n",
    "  data.frame(\n",
    "    row = rownames(cormat)[row(cormat)[ut]],\n",
    "    column = rownames(cormat)[col(cormat)[ut]],\n",
    "    cor  =(cormat)[ut],\n",
    "    p = pmat[ut]\n",
    "  )\n",
    "}\n",
    "\n",
    "corflat = flattenCorrMatrix(correlation$r, correlation$P)"
   ]
  },
  {
   "cell_type": "markdown",
   "metadata": {},
   "source": [
    "Display which combinations have high correlation above 0.3"
   ]
  },
  {
   "cell_type": "code",
   "execution_count": null,
   "metadata": {
    "collapsed": true
   },
   "outputs": [],
   "source": [
    "na.omit(corflat[corflat$cor > 0.3, ])    "
   ]
  },
  {
   "cell_type": "markdown",
   "metadata": {},
   "source": [
    "Remove highly correlated clinical variables from data"
   ]
  },
  {
   "cell_type": "code",
   "execution_count": null,
   "metadata": {
    "collapsed": true
   },
   "outputs": [],
   "source": [
    "pheno.df1 = subset(pheno.df1, select = -c(Bronchitis, Heart_attack, Angina)) #Bronchitis, Angina, Heart_attack, high_cholesterol, "
   ]
  },
  {
   "cell_type": "markdown",
   "metadata": {},
   "source": [
    "Add the non-numerical patientID"
   ]
  },
  {
   "cell_type": "code",
   "execution_count": null,
   "metadata": {
    "collapsed": true
   },
   "outputs": [],
   "source": [
    "pheno.df1$Patient.Id = pheno.df$patientID"
   ]
  },
  {
   "cell_type": "markdown",
   "metadata": {},
   "source": [
    "# PheWAS per variant\n"
   ]
  },
  {
   "cell_type": "markdown",
   "metadata": {},
   "source": [
    "Collect all phenotypes and loci in objects"
   ]
  },
  {
   "cell_type": "code",
   "execution_count": null,
   "metadata": {
    "collapsed": true
   },
   "outputs": [],
   "source": [
    "final.df = pheno.df1\n",
    "pheno.names = names(final.df[ ,-ncol(final.df)]) #all phenotypes\n",
    "locus.names = unique(GT.df$locus) # all loci"
   ]
  },
  {
   "cell_type": "markdown",
   "metadata": {},
   "source": [
    "Bonferroni correctioni by number of variants (va), by phenotypes (ph) and by both (vaph), for alpha significance level of 0.05"
   ]
  },
  {
   "cell_type": "code",
   "execution_count": null,
   "metadata": {
    "collapsed": true
   },
   "outputs": [],
   "source": [
    "signlv = 0.05 \n",
    "va = signlv/length(locus.names) \n",
    "ph = signlv/length(pheno.names) \n",
    "vaph = signlv/length(locus.names)/length(pheno.names)\n",
    "print(c(\"corrected by variants = \", round(va, 4), \n",
    "        \"corrected by phenotypes = \", round(ph, 4), \n",
    "        \"corrected by variants & phenotypes = \", round(vaph,8)))\n",
    "ph = round(ph, 3)"
   ]
  },
  {
   "cell_type": "markdown",
   "metadata": {},
   "source": [
    "#### General linear regression model on each variant with each clinical variable.\n",
    "- Unless all genotype calls for this loci is homozygous to reference (0). \n",
    "- Display those associations with p-value < 0.05"
   ]
  },
  {
   "cell_type": "code",
   "execution_count": null,
   "metadata": {
    "collapsed": true
   },
   "outputs": [],
   "source": [
    "for(l in 1:length(locus.names)){\n",
    "  # select for variant\n",
    "  var.df = GT.df[GT.df$locus == locus.names[l], ]\n",
    "  #annotate GT calls of selected variant\n",
    "  if(sum(as.numeric(var.df$GT.alleles)) == 0) next # skip iteration\n",
    "  final.df$GTalleles = as.character(var.df$GT.alleles)    \n",
    "  for(i in 1:length(pheno.names)){\n",
    "    #general linear regression on phenotype of interest(POI)\n",
    "    POI.glm = glm(formula = final.df[ ,pheno.names[i]]~GTalleles, \n",
    "                   family = binomial(), \n",
    "                   data = final.df, \n",
    "                   na.action = na.omit)\n",
    "    #summary(POI.glm)\n",
    "    if(summary(POI.glm)$coefficients[2,4] < 0.05){\n",
    "      print(c(locus.names[l] , pheno.names[i], summary(POI.glm)$coefficients[2,4], round(exp(summary(POI.glm)$coefficients[2]) ,3)))\n",
    "    }\n",
    "  }\n",
    "}"
   ]
  },
  {
   "cell_type": "markdown",
   "metadata": {},
   "source": [
    "General linear regression model on a SINLGE variant (l)"
   ]
  },
  {
   "cell_type": "markdown",
   "metadata": {},
   "source": [
    "Specify locus position in final.df as l"
   ]
  },
  {
   "cell_type": "code",
   "execution_count": null,
   "metadata": {
    "collapsed": true
   },
   "outputs": [],
   "source": [
    "l = 61"
   ]
  },
  {
   "cell_type": "markdown",
   "metadata": {},
   "source": [
    "Select only one specific variant in the genotype dataframe"
   ]
  },
  {
   "cell_type": "code",
   "execution_count": null,
   "metadata": {
    "collapsed": true
   },
   "outputs": [],
   "source": [
    "var.df = GT.df[GT.df$locus == locus.names[l], ]"
   ]
  },
  {
   "cell_type": "markdown",
   "metadata": {},
   "source": [
    "Add the genotype calls from var.df that were just selected to final.df"
   ]
  },
  {
   "cell_type": "code",
   "execution_count": null,
   "metadata": {
    "collapsed": true
   },
   "outputs": [],
   "source": [
    "final.df$GTalleles = var.df$GT.alleles"
   ]
  },
  {
   "cell_type": "markdown",
   "metadata": {},
   "source": [
    "Create dataframe to store output in\n"
   ]
  },
  {
   "cell_type": "code",
   "execution_count": null,
   "metadata": {
    "collapsed": true
   },
   "outputs": [],
   "source": [
    "phewasOutput.df = as.data.frame(matrix(ncol = 7)) \n"
   ]
  },
  {
   "cell_type": "code",
   "execution_count": null,
   "metadata": {
    "collapsed": true
   },
   "outputs": [],
   "source": [
    "for(i in 1:length(pheno.names)){\n",
    "  \n",
    "  #general linear regression on phenotype of interest(POI)\n",
    "  POI.glm = glm(formula = final.df[ ,pheno.names[i]]~GTalleles, family = binomial(), data = final.df, na.action = na.omit)\n",
    "  \n",
    "  # confidence interval\n",
    "  ci = exp(summary(POI.glm)$coefficients[\"GTalleles1\", 1] + qnorm(c(0.025, 0.975)) * summary(POI.glm)$coefficients[\"GTalleles\", 2])\n",
    "  \n",
    "  # caco.df: for COPD cases, which patient has pheno (case (1)), and which do not (ctrl (0)) \n",
    "  caco.df        = final.df[ ,c((pheno.names)[i], \"Patient.Id\", \"GTalleles\")]\n",
    "  caco.df        = na.omit(caco.df)\n",
    "  \n",
    "  # Count number of cases with disease (CaseDisease), without (controls) etc etc \n",
    "  CaseDisease   = length(unique(caco.df1[caco.df[ ,1] == 1 & caco.df$GTalleles == \"1\", \"Patient.Id\"])) # pheno yes; variant yes\n",
    "  CaseNoDisease = length(unique(caco.df1[caco.df[ ,1] == 0 & caco.df$GTalleles == \"1\", \"Patient.Id\"])) # pheno no; variant yes\n",
    "  CtrlDisease   = length(unique(caco.df1[caco.df[ ,1] == 1 & caco.df$GTalleles == \"0\", \"Patient.Id\"])) # pheno yes; variant no\n",
    "  CtrlNoDisease = length(unique(caco.df1[caco.df[ ,1] == 0 & caco.df$GTalleles == \"0\", \"Patient.Id\"])) # pheno no; variant no\n",
    "  \n",
    "  #Add values to dataframe\n",
    "  newRow        = c(pheno.names[i], \n",
    "                     round(summary(POI.glm)$coefficients[2] , 3), \n",
    "                     round(exp(summary(POI.glm)$coefficients[2]) ,3), \n",
    "                     paste0(\"[\", round(ci[1][1],3), \", \", round(ci[2][1],3), \"]\"),\n",
    "                     round(summary(POI.glm)$coefficients[2,4] , 4), \n",
    "                     paste0(CaseDisease   + CtrlDisease,   \"(\", CaseDisease,  \"/\", CtrlDisease,  \")\"), \n",
    "                     paste0(CaseNoDisease + CtrlNoDisease, \"(\", CaseNoDisease,\"/\", CtrlNoDisease,\")\"))\n",
    "  phewasOutput.df = rbind(newRow, phewasOutput.df)\n",
    "}"
   ]
  },
  {
   "cell_type": "markdown",
   "metadata": {},
   "source": [
    "Add colnames "
   ]
  },
  {
   "cell_type": "code",
   "execution_count": null,
   "metadata": {
    "collapsed": true
   },
   "outputs": [],
   "source": [
    "colnames(phewasOutput.df) = c(\"Phenotype\", \"Coefficient\", \"OR\", \"Confidence_interval\", \"Pvalue\", \"Pheno_present(variant/novariant)\", \"Pheno_absent(variant/novariant)\")"
   ]
  },
  {
   "cell_type": "markdown",
   "metadata": {},
   "source": [
    "Remove all rows with only NAs"
   ]
  },
  {
   "cell_type": "code",
   "execution_count": null,
   "metadata": {
    "collapsed": true
   },
   "outputs": [],
   "source": [
    "phewasOutput.df = phewasOutput.df[complete.cases(phewasOutput.df), ]"
   ]
  },
  {
   "cell_type": "markdown",
   "metadata": {},
   "source": [
    "Replace \"_\" in the names of the clinical variables to \" \""
   ]
  },
  {
   "cell_type": "code",
   "execution_count": null,
   "metadata": {
    "collapsed": true
   },
   "outputs": [],
   "source": [
    "phewasOutput.df$Phenotype = gsub(\"_\", \" \", phewasOutput.df$Phenotype)"
   ]
  },
  {
   "cell_type": "markdown",
   "metadata": {},
   "source": [
    "Perform multiple correction (benjamini & hochberg)"
   ]
  },
  {
   "cell_type": "code",
   "execution_count": null,
   "metadata": {
    "collapsed": true
   },
   "outputs": [],
   "source": [
    "phewasOutput.df$adjustPvalue <- p.adjust(as.numeric(phewasOutput.df$Pvalue), method = \"BH\")"
   ]
  },
  {
   "cell_type": "markdown",
   "metadata": {},
   "source": [
    "Significant phenotypes based on adjusted P-values"
   ]
  },
  {
   "cell_type": "code",
   "execution_count": null,
   "metadata": {
    "collapsed": true
   },
   "outputs": [],
   "source": [
    "adjPvalue_Sign.df = phewasOutput.df[as.numeric(phewasOutput.df$adjPvalue) < 0.05, ]\n",
    "OR_Sign.df   = adjPvalue_Sign.df[as.numeric(adjPvalue_Sign.df$OR) > 2, ] "
   ]
  }
 ],
 "metadata": {
  "kernelspec": {
   "display_name": "R",
   "language": "R",
   "name": "ir"
  },
  "language_info": {
   "codemirror_mode": "r",
   "file_extension": ".r",
   "mimetype": "text/x-r-source",
   "name": "R",
   "pygments_lexer": "r",
   "version": "3.3.1"
  }
 },
 "nbformat": 4,
 "nbformat_minor": 1
}
