{
 "cells": [
  {
   "cell_type": "code",
   "execution_count": null,
   "metadata": {
    "collapsed": true
   },
   "outputs": [],
   "source": [
    "install.packages(\"devtools\")\n",
    "library(devtools)\n",
    "library(httr)\n",
    "library(dplyr)\n",
    "install_github(\"hms-dbmi/Rcupcake\")\n",
    "library(Rcupcake)"
   ]
  },
  {
   "cell_type": "markdown",
   "metadata": {},
   "source": [
    "Following functions are provided internal by Vianney Jouhet to access the data from i2b2/TranSMART. See below for application of functions. "
   ]
  },
  {
   "cell_type": "code",
   "execution_count": 11,
   "metadata": {
    "collapsed": true
   },
   "outputs": [],
   "source": [
    "transmartVar <- setClass(\"transmartVar\", slots=list(path=\"character\",targetName=\"character\"))"
   ]
  },
  {
   "cell_type": "code",
   "execution_count": 12,
   "metadata": {
    "collapsed": true
   },
   "outputs": [],
   "source": [
    "getRessources <- function (IRCT_REST_BASE_URL,token,path){\n",
    "  url <- paste0(IRCT_REST_BASE_URL,\"/rest/v1/resourceService/path\",path)\n",
    "  getdata<-httr::GET(url=url, httr::add_headers(Authorization=paste0(\"bearer \",token)))\n",
    "  manageHttrRequest(getdata)\n",
    "  \n",
    "  ressource <- data.frame(unlist(httr::content(getdata)))\n",
    "  \n",
    "  return(httr::content(getdata,encoding = \"UTF-8\"))\n",
    "}\n",
    "\n",
    "\n"
   ]
  },
  {
   "cell_type": "code",
   "execution_count": null,
   "metadata": {
    "collapsed": true
   },
   "outputs": [],
   "source": [
    "getPuiFromRessourcesJson <- function(ressourcesJson){\n",
    "    puis<- c()\n",
    "    if (length(ressourcesJson)>0){\n",
    "        for (i in 1:length(ressourcesJson)){\n",
    "          print(tail(unlist(strsplit(ressourcesJson[[i]]$pui,\"/\")),1))\n",
    "          puis<- c(puis,ressourcesJson[[i]]$pui)\n",
    "        }\n",
    "    }\n",
    "    \n",
    "    return(puis)\n",
    "}"
   ]
  },
  {
   "cell_type": "code",
   "execution_count": 13,
   "metadata": {
    "collapsed": true
   },
   "outputs": [],
   "source": [
    "getDataFromReq <- function (req,token,IRCT_REST_BASE_URL,saveIds,saveIdsFile){\n",
    "  print(req)\n",
    "  IRCT_REST_BASE_URL <- \"https://copdgene.hms.harvard.edu\"\n",
    "  url <- paste0(IRCT_REST_BASE_URL,\"/rest/v1/queryService/runQuery\")\n",
    "  res<-httr::POST(url=url, httr::add_headers(Authorization=paste0(\"bearer \",token)),body = req)\n",
    "  manageHttrRequest(res)\n",
    "  reqId <- httr::content(res,encoding = \"UTF-8\")$resultId\n",
    "  \n",
    "  if(saveIds){\n",
    "    write(reqId,file = saveIdsFile, append = T)\n",
    "  }\n",
    "  print(reqId)\n",
    "  \n",
    "  mes <- \"`Result` has been initialized.\"\n",
    "  while (mes == \"`Result` has been initialized.\") {\n",
    "    url <- paste0(IRCT_REST_BASE_URL,paste0(\"/rest/v1/resultService/resultStatus/\",reqId))\n",
    "    getdata<-httr::GET(url=url, httr::add_headers(Authorization=paste0(\"bearer \",token)))\n",
    "    mes <- httr::content(getdata,encoding = \"UTF-8\")$message    \n",
    "    print(mes)\n",
    "    Sys.sleep(3)\n",
    "  }\n",
    "  \n",
    "  dfResult <- retrieveDataFromId(reqId,token,IRCT_REST_BASE_URL)\n",
    "  return(dfResult)\n",
    "}"
   ]
  },
  {
   "cell_type": "code",
   "execution_count": 14,
   "metadata": {
    "collapsed": true
   },
   "outputs": [],
   "source": [
    "retrieveDataFromId <- function(reqId,token,IRCT_REST_BASE_URL){\n",
    "  url <- paste0(IRCT_REST_BASE_URL,paste0(\"/rest/v1/resultService/result/\",reqId,\"/JSON?download=yes\"))\n",
    "  print(paste0(\"Retrieve data for \",reqId))\n",
    "  getdata<-httr::GET(url=url, httr::add_headers(Authorization=paste0(\"bearer \",token)))\n",
    "  manageHttrRequest(getdata)\n",
    "  jsonResult <- jsonlite::fromJSON(httr::content(getdata,type=\"text\",encoding = \"UTF-8\"),simplifyDataFrame = FALSE)\n",
    "  \n",
    "  listResult <- jsonResult[[2]]\n",
    "  \n",
    "  dfResult <- data.frame(t(unlist(listResult[[1]])))\n",
    "  for (i in 2:length(listResult)){\n",
    "    dfResult<-suppressWarnings(bind_rows(dfResult,data.frame(t(unlist(listResult[[i]])))))\n",
    "  }  \n",
    "  \n",
    "  return(dfResult)\n",
    "}"
   ]
  },
  {
   "cell_type": "code",
   "execution_count": 15,
   "metadata": {
    "collapsed": true
   },
   "outputs": [],
   "source": [
    "getData4Variable <- function(pui,alias,modality = T,token,IRCT_REST_BASE_URL) {\n",
    "  if(modality){\n",
    "    values <- getPuiFromRessourcesJson(getRessources(IRCT_REST_BASE_URL,token,pui))\n",
    "    if (is.null(values)||length(values)==0){\n",
    "      values <- c(pui)\n",
    "    }\n",
    "    \n",
    "    print(values)  \n",
    "    print(length(values))  \n",
    "    \n",
    "    if (length(values < 6)){\n",
    "      req <- paste0(\n",
    "        '{',\n",
    "        '\"select\": ['\n",
    "      )\n",
    "      for(i in 1:length(values)){\n",
    "        req <- paste0(req,\n",
    "                      '{',\n",
    "                      '\"field\": {',\n",
    "                      '\"pui\": \"',values[i],'\",',\n",
    "                      '\"dataType\": \"STRING\"',\n",
    "                      '},',\n",
    "                      '\"alias\": \"',alias,'\"',\n",
    "                      '}'\n",
    "        )\n",
    "        if (i < length(values)){\n",
    "          req <- paste0(req,',')\n",
    "        }\n",
    "      }\n",
    "      req <- paste0(req,\n",
    "                    '],',\n",
    "                    '\"where\": [',\n",
    "                    '{',\n",
    "                    '\"field\": {',\n",
    "                    '\"pui\": \"/i2b2-wildfly-default/Demo/00 Affection status/00 Affection status/\",',\n",
    "                    '\"dataType\": \"STRING\"',\n",
    "                    '},',\n",
    "                    '\"predicate\": \"CONTAINS\",',\n",
    "                    '\"fields\": {\"ENCOUNTER\": \"YES\"}',\n",
    "                    '}',\n",
    "                    ']',\n",
    "                    '}'\n",
    "      )\n",
    "    }\n",
    "    print(req)\n",
    "    print(jsonlite::prettify(req))\n",
    "    return (req)\n",
    "  }\n",
    "}"
   ]
  },
  {
   "cell_type": "code",
   "execution_count": 16,
   "metadata": {
    "collapsed": true
   },
   "outputs": [],
   "source": [
    "buildDf <- function(transmartVars,token,IRCT_REST_BASE_URL,saveIds = T,saveIdsFile = \"ids.txt\"){\n",
    "  if(saveIds){\n",
    "    write(\"\",file = saveIdsFile, append = F)\n",
    "  }\n",
    "  for(i in 1:length(transmartVars)){\n",
    "    print(\"======Querying data ======\") \n",
    "    print(transmartVars[[i]]@path) \n",
    "    print(transmartVars[[i]]@targetName)\n",
    "    print(\"======Querying data ======\") \n",
    "    req <- getData4Variable(transmartVars[[i]]@path,transmartVars[[i]]@targetName,T,token,IRCT_REST_BASE_URL)\n",
    "    dfT<-getDataFromReq(req,token,IRCT_REST_BASE_URL,saveIds,saveIdsFile)\n",
    "    print(\"======Querying end ======\") \n",
    "  \n",
    "    \n",
    "    if (i == 1){\n",
    "      df <- dfT\n",
    "    }else{\n",
    "      df <- merge(df,dfT,all = T,by = \"Patient.Id\")\n",
    "    }\n",
    "  }\n",
    "  \n",
    "  return(df)\n",
    "}"
   ]
  },
  {
   "cell_type": "code",
   "execution_count": 17,
   "metadata": {
    "collapsed": true
   },
   "outputs": [],
   "source": [
    "reloadDfFormFile <- function(file,token,IRCT_REST_BASE_URL){\n",
    "  print(paste0(\"=============== Building from File ==> \", file, \"====================\"))\n",
    "  con = file(file)\n",
    "  line = readLines(con)\n",
    "  j=0\n",
    "  for( i in 1:length(line)){\n",
    "    if (line[i] !=\"\"){\n",
    "      j= j+1\n",
    "      dfT <- retrieveDataFromId(line[i],token,IRCT_REST_BASE_URL)\n",
    "      if (j == 1){\n",
    "        df <- dfT\n",
    "      }else{\n",
    "        df <- merge(df,dfT,all = T,by = \"Patient.Id\")\n",
    "      }\n",
    "    }\n",
    "  }\n",
    "  \n",
    "  return(df)\n",
    "}"
   ]
  },
  {
   "cell_type": "code",
   "execution_count": 18,
   "metadata": {
    "collapsed": true
   },
   "outputs": [],
   "source": [
    "printRessourceList<-function(ressourceList){\n",
    "  for (i in 1:length(ressourceList)){\n",
    "    print(paste0(\"========== Ressource => [\", i ,\"] ===============\"))\n",
    "    print(paste0(\"Path ==> \", ressourceList[[i]]@path))\n",
    "    print(paste0(\"targetName ==> \", ressourceList[[i]]@targetName))\n",
    "  }\n",
    "}"
   ]
  },
  {
   "cell_type": "code",
   "execution_count": 19,
   "metadata": {
    "collapsed": true
   },
   "outputs": [],
   "source": [
    "manageHttrRequest <- function (httrRequest){\n",
    "  if(httr::http_error(httrRequest)){\n",
    "    print(\"PIC-SURE - Request ERROR ******************\")\n",
    "    print(paste(\"Status : \", httr::http_status(httrRequest)))\n",
    "    print(paste(\"message : \", httr::content(httrRequest,as=\"text\",encoding = \"UTF-8\")))\n",
    "  }\n",
    "}"
   ]
  },
  {
   "cell_type": "markdown",
   "metadata": {},
   "source": [
    "### Applying the internal function to download from i2b2 tranSMART"
   ]
  },
  {
   "cell_type": "code",
   "execution_count": null,
   "metadata": {
    "collapsed": true
   },
   "outputs": [],
   "source": [
    "source(\"functions.R\")"
   ]
  },
  {
   "cell_type": "markdown",
   "metadata": {},
   "source": [
    "To obtain token go to https://copdgene.hms.harvard.edu/transmart/login/auth, utilities, user profile, IRCT Token\n",
    "\n"
   ]
  },
  {
   "cell_type": "code",
   "execution_count": null,
   "metadata": {
    "collapsed": true
   },
   "outputs": [],
   "source": [
    "token <- \"tokenfromtransmart\"\n",
    "IRCT_REST_BASE_URL <- \"https://copdgene.hms.harvard.edu\""
   ]
  },
  {
   "cell_type": "markdown",
   "metadata": {},
   "source": [
    "Build query based on the condition to recursivly go into the lowest folder."
   ]
  },
  {
   "cell_type": "code",
   "execution_count": null,
   "metadata": {
    "collapsed": true
   },
   "outputs": [],
   "source": [
    "transmartVars <- c(transmartVars,transmartVar(path=\"/i2b2-wildfly-default/Demo/02 Medical history/02 Medical history/Medical history form/02 Disease history/Cardiology/\"))\n",
    "transmartVars <- c(transmartVars,transmartVar(path=\"/i2b2-wildfly-default/Demo/02 Medical history/02 Medical history/Medical history form/02 Disease history/Gastrointestinal/\")\n",
    "transmartVars <- c(transmartVars,transmartVar(path=\"/i2b2-wildfly-default/Demo/02 Medical history/02 Medical history/Medical history form/02 Disease history/Musculoskeletal/\"))\n",
    "transmartVars <- c(transmartVars,transmartVar(path=\"/i2b2-wildfly-default/Demo/02 Medical history/02 Medical history/Medical history form/02 Disease history/Neurology/\")\n",
    "transmartVars <- c(transmartVars,transmartVar(path=\"/i2b2-wildfly-default/Demo/02 Medical history/02 Medical history/Medical history form/02 Disease history/Oncology/\")\n",
    "transmartVars <- c(transmartVars,transmartVar(path=\"/i2b2-wildfly-default/Demo/03 Clinical data/03 Clinical data/Respiratory disease form/04 Respiratory Conditions/\")"
   ]
  },
  {
   "cell_type": "markdown",
   "metadata": {},
   "source": [
    "Build dataframe"
   ]
  },
  {
   "cell_type": "code",
   "execution_count": null,
   "metadata": {
    "collapsed": true
   },
   "outputs": [],
   "source": [
    "df <- buildDf(transmartVars, token, IRCT_REST_BASE_URL)"
   ]
  },
  {
   "cell_type": "markdown",
   "metadata": {},
   "source": [
    "Reload dataframe from saved IDs"
   ]
  },
  {
   "cell_type": "code",
   "execution_count": null,
   "metadata": {
    "collapsed": true
   },
   "outputs": [],
   "source": [
    "df2 <- reloadDfFormFile(\"ids.txt\",token,IRCT_REST_BASE_URL)"
   ]
  }
 ],
 "metadata": {
  "kernelspec": {
   "display_name": "R",
   "language": "R",
   "name": "ir"
  },
  "language_info": {
   "codemirror_mode": "r",
   "file_extension": ".r",
   "mimetype": "text/x-r-source",
   "name": "R",
   "pygments_lexer": "r",
   "version": "3.3.1"
  }
 },
 "nbformat": 4,
 "nbformat_minor": 1
}
