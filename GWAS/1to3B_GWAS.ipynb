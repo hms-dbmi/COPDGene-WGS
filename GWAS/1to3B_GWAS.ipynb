{
 "cells": [
  {
   "cell_type": "markdown",
   "metadata": {},
   "source": [
    "# GWAS COPDGene Freeze4"
   ]
  },
  {
   "cell_type": "markdown",
   "metadata": {},
   "source": [
    "#### Load HAIL:"
   ]
  },
  {
   "cell_type": "code",
   "execution_count": 1,
   "metadata": {},
   "outputs": [
    {
     "name": "stderr",
     "output_type": "stream",
     "text": [
      "Running on Apache Spark version 2.4.0\n",
      "SparkUI available at http://ip-1-0-30-3.ec2.internal:4040\n",
      "Welcome to\n",
      "     __  __     <>__\n",
      "    / /_/ /__  __/ /\n",
      "   / __  / _ `/ / /\n",
      "  /_/ /_/\\_,_/_/_/   version 0.2.18-cfb3e336c553\n",
      "LOGGING: writing to /opt/hail-on-AWS-spot-instances/notebook/copd/hail-20190723-1042-0.2.18-cfb3e336c553.log\n"
     ]
    }
   ],
   "source": [
    "import hail as hl\n",
    "hl.init()"
   ]
  },
  {
   "cell_type": "markdown",
   "metadata": {},
   "source": [
    "#### Load packages:"
   ]
  },
  {
   "cell_type": "code",
   "execution_count": 2,
   "metadata": {},
   "outputs": [
    {
     "data": {
      "text/html": [
       "\n",
       "    <div class=\"bk-root\">\n",
       "        <a href=\"https://bokeh.pydata.org\" target=\"_blank\" class=\"bk-logo bk-logo-small bk-logo-notebook\"></a>\n",
       "        <span id=\"1001\">Loading BokehJS ...</span>\n",
       "    </div>"
      ]
     },
     "metadata": {},
     "output_type": "display_data"
    },
    {
     "data": {
      "application/javascript": [
       "\n",
       "(function(root) {\n",
       "  function now() {\n",
       "    return new Date();\n",
       "  }\n",
       "\n",
       "  var force = true;\n",
       "\n",
       "  if (typeof root._bokeh_onload_callbacks === \"undefined\" || force === true) {\n",
       "    root._bokeh_onload_callbacks = [];\n",
       "    root._bokeh_is_loading = undefined;\n",
       "  }\n",
       "\n",
       "  var JS_MIME_TYPE = 'application/javascript';\n",
       "  var HTML_MIME_TYPE = 'text/html';\n",
       "  var EXEC_MIME_TYPE = 'application/vnd.bokehjs_exec.v0+json';\n",
       "  var CLASS_NAME = 'output_bokeh rendered_html';\n",
       "\n",
       "  /**\n",
       "   * Render data to the DOM node\n",
       "   */\n",
       "  function render(props, node) {\n",
       "    var script = document.createElement(\"script\");\n",
       "    node.appendChild(script);\n",
       "  }\n",
       "\n",
       "  /**\n",
       "   * Handle when an output is cleared or removed\n",
       "   */\n",
       "  function handleClearOutput(event, handle) {\n",
       "    var cell = handle.cell;\n",
       "\n",
       "    var id = cell.output_area._bokeh_element_id;\n",
       "    var server_id = cell.output_area._bokeh_server_id;\n",
       "    // Clean up Bokeh references\n",
       "    if (id != null && id in Bokeh.index) {\n",
       "      Bokeh.index[id].model.document.clear();\n",
       "      delete Bokeh.index[id];\n",
       "    }\n",
       "\n",
       "    if (server_id !== undefined) {\n",
       "      // Clean up Bokeh references\n",
       "      var cmd = \"from bokeh.io.state import curstate; print(curstate().uuid_to_server['\" + server_id + \"'].get_sessions()[0].document.roots[0]._id)\";\n",
       "      cell.notebook.kernel.execute(cmd, {\n",
       "        iopub: {\n",
       "          output: function(msg) {\n",
       "            var id = msg.content.text.trim();\n",
       "            if (id in Bokeh.index) {\n",
       "              Bokeh.index[id].model.document.clear();\n",
       "              delete Bokeh.index[id];\n",
       "            }\n",
       "          }\n",
       "        }\n",
       "      });\n",
       "      // Destroy server and session\n",
       "      var cmd = \"import bokeh.io.notebook as ion; ion.destroy_server('\" + server_id + \"')\";\n",
       "      cell.notebook.kernel.execute(cmd);\n",
       "    }\n",
       "  }\n",
       "\n",
       "  /**\n",
       "   * Handle when a new output is added\n",
       "   */\n",
       "  function handleAddOutput(event, handle) {\n",
       "    var output_area = handle.output_area;\n",
       "    var output = handle.output;\n",
       "\n",
       "    // limit handleAddOutput to display_data with EXEC_MIME_TYPE content only\n",
       "    if ((output.output_type != \"display_data\") || (!output.data.hasOwnProperty(EXEC_MIME_TYPE))) {\n",
       "      return\n",
       "    }\n",
       "\n",
       "    var toinsert = output_area.element.find(\".\" + CLASS_NAME.split(' ')[0]);\n",
       "\n",
       "    if (output.metadata[EXEC_MIME_TYPE][\"id\"] !== undefined) {\n",
       "      toinsert[toinsert.length - 1].firstChild.textContent = output.data[JS_MIME_TYPE];\n",
       "      // store reference to embed id on output_area\n",
       "      output_area._bokeh_element_id = output.metadata[EXEC_MIME_TYPE][\"id\"];\n",
       "    }\n",
       "    if (output.metadata[EXEC_MIME_TYPE][\"server_id\"] !== undefined) {\n",
       "      var bk_div = document.createElement(\"div\");\n",
       "      bk_div.innerHTML = output.data[HTML_MIME_TYPE];\n",
       "      var script_attrs = bk_div.children[0].attributes;\n",
       "      for (var i = 0; i < script_attrs.length; i++) {\n",
       "        toinsert[toinsert.length - 1].firstChild.setAttribute(script_attrs[i].name, script_attrs[i].value);\n",
       "      }\n",
       "      // store reference to server id on output_area\n",
       "      output_area._bokeh_server_id = output.metadata[EXEC_MIME_TYPE][\"server_id\"];\n",
       "    }\n",
       "  }\n",
       "\n",
       "  function register_renderer(events, OutputArea) {\n",
       "\n",
       "    function append_mime(data, metadata, element) {\n",
       "      // create a DOM node to render to\n",
       "      var toinsert = this.create_output_subarea(\n",
       "        metadata,\n",
       "        CLASS_NAME,\n",
       "        EXEC_MIME_TYPE\n",
       "      );\n",
       "      this.keyboard_manager.register_events(toinsert);\n",
       "      // Render to node\n",
       "      var props = {data: data, metadata: metadata[EXEC_MIME_TYPE]};\n",
       "      render(props, toinsert[toinsert.length - 1]);\n",
       "      element.append(toinsert);\n",
       "      return toinsert\n",
       "    }\n",
       "\n",
       "    /* Handle when an output is cleared or removed */\n",
       "    events.on('clear_output.CodeCell', handleClearOutput);\n",
       "    events.on('delete.Cell', handleClearOutput);\n",
       "\n",
       "    /* Handle when a new output is added */\n",
       "    events.on('output_added.OutputArea', handleAddOutput);\n",
       "\n",
       "    /**\n",
       "     * Register the mime type and append_mime function with output_area\n",
       "     */\n",
       "    OutputArea.prototype.register_mime_type(EXEC_MIME_TYPE, append_mime, {\n",
       "      /* Is output safe? */\n",
       "      safe: true,\n",
       "      /* Index of renderer in `output_area.display_order` */\n",
       "      index: 0\n",
       "    });\n",
       "  }\n",
       "\n",
       "  // register the mime type if in Jupyter Notebook environment and previously unregistered\n",
       "  if (root.Jupyter !== undefined) {\n",
       "    var events = require('base/js/events');\n",
       "    var OutputArea = require('notebook/js/outputarea').OutputArea;\n",
       "\n",
       "    if (OutputArea.prototype.mime_types().indexOf(EXEC_MIME_TYPE) == -1) {\n",
       "      register_renderer(events, OutputArea);\n",
       "    }\n",
       "  }\n",
       "\n",
       "  \n",
       "  if (typeof (root._bokeh_timeout) === \"undefined\" || force === true) {\n",
       "    root._bokeh_timeout = Date.now() + 5000;\n",
       "    root._bokeh_failed_load = false;\n",
       "  }\n",
       "\n",
       "  var NB_LOAD_WARNING = {'data': {'text/html':\n",
       "     \"<div style='background-color: #fdd'>\\n\"+\n",
       "     \"<p>\\n\"+\n",
       "     \"BokehJS does not appear to have successfully loaded. If loading BokehJS from CDN, this \\n\"+\n",
       "     \"may be due to a slow or bad network connection. Possible fixes:\\n\"+\n",
       "     \"</p>\\n\"+\n",
       "     \"<ul>\\n\"+\n",
       "     \"<li>re-rerun `output_notebook()` to attempt to load from CDN again, or</li>\\n\"+\n",
       "     \"<li>use INLINE resources instead, as so:</li>\\n\"+\n",
       "     \"</ul>\\n\"+\n",
       "     \"<code>\\n\"+\n",
       "     \"from bokeh.resources import INLINE\\n\"+\n",
       "     \"output_notebook(resources=INLINE)\\n\"+\n",
       "     \"</code>\\n\"+\n",
       "     \"</div>\"}};\n",
       "\n",
       "  function display_loaded() {\n",
       "    var el = document.getElementById(\"1001\");\n",
       "    if (el != null) {\n",
       "      el.textContent = \"BokehJS is loading...\";\n",
       "    }\n",
       "    if (root.Bokeh !== undefined) {\n",
       "      if (el != null) {\n",
       "        el.textContent = \"BokehJS \" + root.Bokeh.version + \" successfully loaded.\";\n",
       "      }\n",
       "    } else if (Date.now() < root._bokeh_timeout) {\n",
       "      setTimeout(display_loaded, 100)\n",
       "    }\n",
       "  }\n",
       "\n",
       "\n",
       "  function run_callbacks() {\n",
       "    try {\n",
       "      root._bokeh_onload_callbacks.forEach(function(callback) {\n",
       "        if (callback != null)\n",
       "          callback();\n",
       "      });\n",
       "    } finally {\n",
       "      delete root._bokeh_onload_callbacks\n",
       "    }\n",
       "    console.debug(\"Bokeh: all callbacks have finished\");\n",
       "  }\n",
       "\n",
       "  function load_libs(css_urls, js_urls, callback) {\n",
       "    if (css_urls == null) css_urls = [];\n",
       "    if (js_urls == null) js_urls = [];\n",
       "\n",
       "    root._bokeh_onload_callbacks.push(callback);\n",
       "    if (root._bokeh_is_loading > 0) {\n",
       "      console.debug(\"Bokeh: BokehJS is being loaded, scheduling callback at\", now());\n",
       "      return null;\n",
       "    }\n",
       "    if (js_urls == null || js_urls.length === 0) {\n",
       "      run_callbacks();\n",
       "      return null;\n",
       "    }\n",
       "    console.debug(\"Bokeh: BokehJS not loaded, scheduling load and callback at\", now());\n",
       "    root._bokeh_is_loading = css_urls.length + js_urls.length;\n",
       "\n",
       "    function on_load() {\n",
       "      root._bokeh_is_loading--;\n",
       "      if (root._bokeh_is_loading === 0) {\n",
       "        console.debug(\"Bokeh: all BokehJS libraries/stylesheets loaded\");\n",
       "        run_callbacks()\n",
       "      }\n",
       "    }\n",
       "\n",
       "    function on_error() {\n",
       "      console.error(\"failed to load \" + url);\n",
       "    }\n",
       "\n",
       "    for (var i = 0; i < css_urls.length; i++) {\n",
       "      var url = css_urls[i];\n",
       "      const element = document.createElement(\"link\");\n",
       "      element.onload = on_load;\n",
       "      element.onerror = on_error;\n",
       "      element.rel = \"stylesheet\";\n",
       "      element.type = \"text/css\";\n",
       "      element.href = url;\n",
       "      console.debug(\"Bokeh: injecting link tag for BokehJS stylesheet: \", url);\n",
       "      document.body.appendChild(element);\n",
       "    }\n",
       "\n",
       "    for (var i = 0; i < js_urls.length; i++) {\n",
       "      var url = js_urls[i];\n",
       "      var element = document.createElement('script');\n",
       "      element.onload = on_load;\n",
       "      element.onerror = on_error;\n",
       "      element.async = false;\n",
       "      element.src = url;\n",
       "      console.debug(\"Bokeh: injecting script tag for BokehJS library: \", url);\n",
       "      document.head.appendChild(element);\n",
       "    }\n",
       "  };var element = document.getElementById(\"1001\");\n",
       "  if (element == null) {\n",
       "    console.error(\"Bokeh: ERROR: autoload.js configured with elementid '1001' but no matching script tag was found. \")\n",
       "    return false;\n",
       "  }\n",
       "\n",
       "  function inject_raw_css(css) {\n",
       "    const element = document.createElement(\"style\");\n",
       "    element.appendChild(document.createTextNode(css));\n",
       "    document.body.appendChild(element);\n",
       "  }\n",
       "\n",
       "  var js_urls = [\"https://cdn.pydata.org/bokeh/release/bokeh-1.3.0.min.js\", \"https://cdn.pydata.org/bokeh/release/bokeh-widgets-1.3.0.min.js\", \"https://cdn.pydata.org/bokeh/release/bokeh-tables-1.3.0.min.js\", \"https://cdn.pydata.org/bokeh/release/bokeh-gl-1.3.0.min.js\"];\n",
       "  var css_urls = [];\n",
       "\n",
       "  var inline_js = [\n",
       "    function(Bokeh) {\n",
       "      Bokeh.set_log_level(\"info\");\n",
       "    },\n",
       "    \n",
       "    function(Bokeh) {\n",
       "      \n",
       "    },\n",
       "    function(Bokeh) {} // ensure no trailing comma for IE\n",
       "  ];\n",
       "\n",
       "  function run_inline_js() {\n",
       "    \n",
       "    if ((root.Bokeh !== undefined) || (force === true)) {\n",
       "      for (var i = 0; i < inline_js.length; i++) {\n",
       "        inline_js[i].call(root, root.Bokeh);\n",
       "      }if (force === true) {\n",
       "        display_loaded();\n",
       "      }} else if (Date.now() < root._bokeh_timeout) {\n",
       "      setTimeout(run_inline_js, 100);\n",
       "    } else if (!root._bokeh_failed_load) {\n",
       "      console.log(\"Bokeh: BokehJS failed to load within specified timeout.\");\n",
       "      root._bokeh_failed_load = true;\n",
       "    } else if (force !== true) {\n",
       "      var cell = $(document.getElementById(\"1001\")).parents('.cell').data().cell;\n",
       "      cell.output_area.append_execute_result(NB_LOAD_WARNING)\n",
       "    }\n",
       "\n",
       "  }\n",
       "\n",
       "  if (root._bokeh_is_loading === 0) {\n",
       "    console.debug(\"Bokeh: BokehJS loaded, going straight to plotting\");\n",
       "    run_inline_js();\n",
       "  } else {\n",
       "    load_libs(css_urls, js_urls, function() {\n",
       "      console.debug(\"Bokeh: BokehJS plotting callback run at\", now());\n",
       "      run_inline_js();\n",
       "    });\n",
       "  }\n",
       "}(window));"
      ],
      "application/vnd.bokehjs_load.v0+json": "\n(function(root) {\n  function now() {\n    return new Date();\n  }\n\n  var force = true;\n\n  if (typeof root._bokeh_onload_callbacks === \"undefined\" || force === true) {\n    root._bokeh_onload_callbacks = [];\n    root._bokeh_is_loading = undefined;\n  }\n\n  \n\n  \n  if (typeof (root._bokeh_timeout) === \"undefined\" || force === true) {\n    root._bokeh_timeout = Date.now() + 5000;\n    root._bokeh_failed_load = false;\n  }\n\n  var NB_LOAD_WARNING = {'data': {'text/html':\n     \"<div style='background-color: #fdd'>\\n\"+\n     \"<p>\\n\"+\n     \"BokehJS does not appear to have successfully loaded. If loading BokehJS from CDN, this \\n\"+\n     \"may be due to a slow or bad network connection. Possible fixes:\\n\"+\n     \"</p>\\n\"+\n     \"<ul>\\n\"+\n     \"<li>re-rerun `output_notebook()` to attempt to load from CDN again, or</li>\\n\"+\n     \"<li>use INLINE resources instead, as so:</li>\\n\"+\n     \"</ul>\\n\"+\n     \"<code>\\n\"+\n     \"from bokeh.resources import INLINE\\n\"+\n     \"output_notebook(resources=INLINE)\\n\"+\n     \"</code>\\n\"+\n     \"</div>\"}};\n\n  function display_loaded() {\n    var el = document.getElementById(\"1001\");\n    if (el != null) {\n      el.textContent = \"BokehJS is loading...\";\n    }\n    if (root.Bokeh !== undefined) {\n      if (el != null) {\n        el.textContent = \"BokehJS \" + root.Bokeh.version + \" successfully loaded.\";\n      }\n    } else if (Date.now() < root._bokeh_timeout) {\n      setTimeout(display_loaded, 100)\n    }\n  }\n\n\n  function run_callbacks() {\n    try {\n      root._bokeh_onload_callbacks.forEach(function(callback) {\n        if (callback != null)\n          callback();\n      });\n    } finally {\n      delete root._bokeh_onload_callbacks\n    }\n    console.debug(\"Bokeh: all callbacks have finished\");\n  }\n\n  function load_libs(css_urls, js_urls, callback) {\n    if (css_urls == null) css_urls = [];\n    if (js_urls == null) js_urls = [];\n\n    root._bokeh_onload_callbacks.push(callback);\n    if (root._bokeh_is_loading > 0) {\n      console.debug(\"Bokeh: BokehJS is being loaded, scheduling callback at\", now());\n      return null;\n    }\n    if (js_urls == null || js_urls.length === 0) {\n      run_callbacks();\n      return null;\n    }\n    console.debug(\"Bokeh: BokehJS not loaded, scheduling load and callback at\", now());\n    root._bokeh_is_loading = css_urls.length + js_urls.length;\n\n    function on_load() {\n      root._bokeh_is_loading--;\n      if (root._bokeh_is_loading === 0) {\n        console.debug(\"Bokeh: all BokehJS libraries/stylesheets loaded\");\n        run_callbacks()\n      }\n    }\n\n    function on_error() {\n      console.error(\"failed to load \" + url);\n    }\n\n    for (var i = 0; i < css_urls.length; i++) {\n      var url = css_urls[i];\n      const element = document.createElement(\"link\");\n      element.onload = on_load;\n      element.onerror = on_error;\n      element.rel = \"stylesheet\";\n      element.type = \"text/css\";\n      element.href = url;\n      console.debug(\"Bokeh: injecting link tag for BokehJS stylesheet: \", url);\n      document.body.appendChild(element);\n    }\n\n    for (var i = 0; i < js_urls.length; i++) {\n      var url = js_urls[i];\n      var element = document.createElement('script');\n      element.onload = on_load;\n      element.onerror = on_error;\n      element.async = false;\n      element.src = url;\n      console.debug(\"Bokeh: injecting script tag for BokehJS library: \", url);\n      document.head.appendChild(element);\n    }\n  };var element = document.getElementById(\"1001\");\n  if (element == null) {\n    console.error(\"Bokeh: ERROR: autoload.js configured with elementid '1001' but no matching script tag was found. \")\n    return false;\n  }\n\n  function inject_raw_css(css) {\n    const element = document.createElement(\"style\");\n    element.appendChild(document.createTextNode(css));\n    document.body.appendChild(element);\n  }\n\n  var js_urls = [\"https://cdn.pydata.org/bokeh/release/bokeh-1.3.0.min.js\", \"https://cdn.pydata.org/bokeh/release/bokeh-widgets-1.3.0.min.js\", \"https://cdn.pydata.org/bokeh/release/bokeh-tables-1.3.0.min.js\", \"https://cdn.pydata.org/bokeh/release/bokeh-gl-1.3.0.min.js\"];\n  var css_urls = [];\n\n  var inline_js = [\n    function(Bokeh) {\n      Bokeh.set_log_level(\"info\");\n    },\n    \n    function(Bokeh) {\n      \n    },\n    function(Bokeh) {} // ensure no trailing comma for IE\n  ];\n\n  function run_inline_js() {\n    \n    if ((root.Bokeh !== undefined) || (force === true)) {\n      for (var i = 0; i < inline_js.length; i++) {\n        inline_js[i].call(root, root.Bokeh);\n      }if (force === true) {\n        display_loaded();\n      }} else if (Date.now() < root._bokeh_timeout) {\n      setTimeout(run_inline_js, 100);\n    } else if (!root._bokeh_failed_load) {\n      console.log(\"Bokeh: BokehJS failed to load within specified timeout.\");\n      root._bokeh_failed_load = true;\n    } else if (force !== true) {\n      var cell = $(document.getElementById(\"1001\")).parents('.cell').data().cell;\n      cell.output_area.append_execute_result(NB_LOAD_WARNING)\n    }\n\n  }\n\n  if (root._bokeh_is_loading === 0) {\n    console.debug(\"Bokeh: BokehJS loaded, going straight to plotting\");\n    run_inline_js();\n  } else {\n    load_libs(css_urls, js_urls, function() {\n      console.debug(\"Bokeh: BokehJS plotting callback run at\", now());\n      run_inline_js();\n    });\n  }\n}(window));"
     },
     "metadata": {},
     "output_type": "display_data"
    },
    {
     "data": {
      "text/html": [
       "\n",
       "    <div class=\"bk-root\">\n",
       "        <a href=\"https://bokeh.pydata.org\" target=\"_blank\" class=\"bk-logo bk-logo-small bk-logo-notebook\"></a>\n",
       "        <span id=\"1002\">Loading BokehJS ...</span>\n",
       "    </div>"
      ]
     },
     "metadata": {},
     "output_type": "display_data"
    },
    {
     "data": {
      "application/javascript": [
       "\n",
       "(function(root) {\n",
       "  function now() {\n",
       "    return new Date();\n",
       "  }\n",
       "\n",
       "  var force = true;\n",
       "\n",
       "  if (typeof root._bokeh_onload_callbacks === \"undefined\" || force === true) {\n",
       "    root._bokeh_onload_callbacks = [];\n",
       "    root._bokeh_is_loading = undefined;\n",
       "  }\n",
       "\n",
       "  var JS_MIME_TYPE = 'application/javascript';\n",
       "  var HTML_MIME_TYPE = 'text/html';\n",
       "  var EXEC_MIME_TYPE = 'application/vnd.bokehjs_exec.v0+json';\n",
       "  var CLASS_NAME = 'output_bokeh rendered_html';\n",
       "\n",
       "  /**\n",
       "   * Render data to the DOM node\n",
       "   */\n",
       "  function render(props, node) {\n",
       "    var script = document.createElement(\"script\");\n",
       "    node.appendChild(script);\n",
       "  }\n",
       "\n",
       "  /**\n",
       "   * Handle when an output is cleared or removed\n",
       "   */\n",
       "  function handleClearOutput(event, handle) {\n",
       "    var cell = handle.cell;\n",
       "\n",
       "    var id = cell.output_area._bokeh_element_id;\n",
       "    var server_id = cell.output_area._bokeh_server_id;\n",
       "    // Clean up Bokeh references\n",
       "    if (id != null && id in Bokeh.index) {\n",
       "      Bokeh.index[id].model.document.clear();\n",
       "      delete Bokeh.index[id];\n",
       "    }\n",
       "\n",
       "    if (server_id !== undefined) {\n",
       "      // Clean up Bokeh references\n",
       "      var cmd = \"from bokeh.io.state import curstate; print(curstate().uuid_to_server['\" + server_id + \"'].get_sessions()[0].document.roots[0]._id)\";\n",
       "      cell.notebook.kernel.execute(cmd, {\n",
       "        iopub: {\n",
       "          output: function(msg) {\n",
       "            var id = msg.content.text.trim();\n",
       "            if (id in Bokeh.index) {\n",
       "              Bokeh.index[id].model.document.clear();\n",
       "              delete Bokeh.index[id];\n",
       "            }\n",
       "          }\n",
       "        }\n",
       "      });\n",
       "      // Destroy server and session\n",
       "      var cmd = \"import bokeh.io.notebook as ion; ion.destroy_server('\" + server_id + \"')\";\n",
       "      cell.notebook.kernel.execute(cmd);\n",
       "    }\n",
       "  }\n",
       "\n",
       "  /**\n",
       "   * Handle when a new output is added\n",
       "   */\n",
       "  function handleAddOutput(event, handle) {\n",
       "    var output_area = handle.output_area;\n",
       "    var output = handle.output;\n",
       "\n",
       "    // limit handleAddOutput to display_data with EXEC_MIME_TYPE content only\n",
       "    if ((output.output_type != \"display_data\") || (!output.data.hasOwnProperty(EXEC_MIME_TYPE))) {\n",
       "      return\n",
       "    }\n",
       "\n",
       "    var toinsert = output_area.element.find(\".\" + CLASS_NAME.split(' ')[0]);\n",
       "\n",
       "    if (output.metadata[EXEC_MIME_TYPE][\"id\"] !== undefined) {\n",
       "      toinsert[toinsert.length - 1].firstChild.textContent = output.data[JS_MIME_TYPE];\n",
       "      // store reference to embed id on output_area\n",
       "      output_area._bokeh_element_id = output.metadata[EXEC_MIME_TYPE][\"id\"];\n",
       "    }\n",
       "    if (output.metadata[EXEC_MIME_TYPE][\"server_id\"] !== undefined) {\n",
       "      var bk_div = document.createElement(\"div\");\n",
       "      bk_div.innerHTML = output.data[HTML_MIME_TYPE];\n",
       "      var script_attrs = bk_div.children[0].attributes;\n",
       "      for (var i = 0; i < script_attrs.length; i++) {\n",
       "        toinsert[toinsert.length - 1].firstChild.setAttribute(script_attrs[i].name, script_attrs[i].value);\n",
       "      }\n",
       "      // store reference to server id on output_area\n",
       "      output_area._bokeh_server_id = output.metadata[EXEC_MIME_TYPE][\"server_id\"];\n",
       "    }\n",
       "  }\n",
       "\n",
       "  function register_renderer(events, OutputArea) {\n",
       "\n",
       "    function append_mime(data, metadata, element) {\n",
       "      // create a DOM node to render to\n",
       "      var toinsert = this.create_output_subarea(\n",
       "        metadata,\n",
       "        CLASS_NAME,\n",
       "        EXEC_MIME_TYPE\n",
       "      );\n",
       "      this.keyboard_manager.register_events(toinsert);\n",
       "      // Render to node\n",
       "      var props = {data: data, metadata: metadata[EXEC_MIME_TYPE]};\n",
       "      render(props, toinsert[toinsert.length - 1]);\n",
       "      element.append(toinsert);\n",
       "      return toinsert\n",
       "    }\n",
       "\n",
       "    /* Handle when an output is cleared or removed */\n",
       "    events.on('clear_output.CodeCell', handleClearOutput);\n",
       "    events.on('delete.Cell', handleClearOutput);\n",
       "\n",
       "    /* Handle when a new output is added */\n",
       "    events.on('output_added.OutputArea', handleAddOutput);\n",
       "\n",
       "    /**\n",
       "     * Register the mime type and append_mime function with output_area\n",
       "     */\n",
       "    OutputArea.prototype.register_mime_type(EXEC_MIME_TYPE, append_mime, {\n",
       "      /* Is output safe? */\n",
       "      safe: true,\n",
       "      /* Index of renderer in `output_area.display_order` */\n",
       "      index: 0\n",
       "    });\n",
       "  }\n",
       "\n",
       "  // register the mime type if in Jupyter Notebook environment and previously unregistered\n",
       "  if (root.Jupyter !== undefined) {\n",
       "    var events = require('base/js/events');\n",
       "    var OutputArea = require('notebook/js/outputarea').OutputArea;\n",
       "\n",
       "    if (OutputArea.prototype.mime_types().indexOf(EXEC_MIME_TYPE) == -1) {\n",
       "      register_renderer(events, OutputArea);\n",
       "    }\n",
       "  }\n",
       "\n",
       "  \n",
       "  if (typeof (root._bokeh_timeout) === \"undefined\" || force === true) {\n",
       "    root._bokeh_timeout = Date.now() + 5000;\n",
       "    root._bokeh_failed_load = false;\n",
       "  }\n",
       "\n",
       "  var NB_LOAD_WARNING = {'data': {'text/html':\n",
       "     \"<div style='background-color: #fdd'>\\n\"+\n",
       "     \"<p>\\n\"+\n",
       "     \"BokehJS does not appear to have successfully loaded. If loading BokehJS from CDN, this \\n\"+\n",
       "     \"may be due to a slow or bad network connection. Possible fixes:\\n\"+\n",
       "     \"</p>\\n\"+\n",
       "     \"<ul>\\n\"+\n",
       "     \"<li>re-rerun `output_notebook()` to attempt to load from CDN again, or</li>\\n\"+\n",
       "     \"<li>use INLINE resources instead, as so:</li>\\n\"+\n",
       "     \"</ul>\\n\"+\n",
       "     \"<code>\\n\"+\n",
       "     \"from bokeh.resources import INLINE\\n\"+\n",
       "     \"output_notebook(resources=INLINE)\\n\"+\n",
       "     \"</code>\\n\"+\n",
       "     \"</div>\"}};\n",
       "\n",
       "  function display_loaded() {\n",
       "    var el = document.getElementById(\"1002\");\n",
       "    if (el != null) {\n",
       "      el.textContent = \"BokehJS is loading...\";\n",
       "    }\n",
       "    if (root.Bokeh !== undefined) {\n",
       "      if (el != null) {\n",
       "        el.textContent = \"BokehJS \" + root.Bokeh.version + \" successfully loaded.\";\n",
       "      }\n",
       "    } else if (Date.now() < root._bokeh_timeout) {\n",
       "      setTimeout(display_loaded, 100)\n",
       "    }\n",
       "  }\n",
       "\n",
       "\n",
       "  function run_callbacks() {\n",
       "    try {\n",
       "      root._bokeh_onload_callbacks.forEach(function(callback) {\n",
       "        if (callback != null)\n",
       "          callback();\n",
       "      });\n",
       "    } finally {\n",
       "      delete root._bokeh_onload_callbacks\n",
       "    }\n",
       "    console.debug(\"Bokeh: all callbacks have finished\");\n",
       "  }\n",
       "\n",
       "  function load_libs(css_urls, js_urls, callback) {\n",
       "    if (css_urls == null) css_urls = [];\n",
       "    if (js_urls == null) js_urls = [];\n",
       "\n",
       "    root._bokeh_onload_callbacks.push(callback);\n",
       "    if (root._bokeh_is_loading > 0) {\n",
       "      console.debug(\"Bokeh: BokehJS is being loaded, scheduling callback at\", now());\n",
       "      return null;\n",
       "    }\n",
       "    if (js_urls == null || js_urls.length === 0) {\n",
       "      run_callbacks();\n",
       "      return null;\n",
       "    }\n",
       "    console.debug(\"Bokeh: BokehJS not loaded, scheduling load and callback at\", now());\n",
       "    root._bokeh_is_loading = css_urls.length + js_urls.length;\n",
       "\n",
       "    function on_load() {\n",
       "      root._bokeh_is_loading--;\n",
       "      if (root._bokeh_is_loading === 0) {\n",
       "        console.debug(\"Bokeh: all BokehJS libraries/stylesheets loaded\");\n",
       "        run_callbacks()\n",
       "      }\n",
       "    }\n",
       "\n",
       "    function on_error() {\n",
       "      console.error(\"failed to load \" + url);\n",
       "    }\n",
       "\n",
       "    for (var i = 0; i < css_urls.length; i++) {\n",
       "      var url = css_urls[i];\n",
       "      const element = document.createElement(\"link\");\n",
       "      element.onload = on_load;\n",
       "      element.onerror = on_error;\n",
       "      element.rel = \"stylesheet\";\n",
       "      element.type = \"text/css\";\n",
       "      element.href = url;\n",
       "      console.debug(\"Bokeh: injecting link tag for BokehJS stylesheet: \", url);\n",
       "      document.body.appendChild(element);\n",
       "    }\n",
       "\n",
       "    for (var i = 0; i < js_urls.length; i++) {\n",
       "      var url = js_urls[i];\n",
       "      var element = document.createElement('script');\n",
       "      element.onload = on_load;\n",
       "      element.onerror = on_error;\n",
       "      element.async = false;\n",
       "      element.src = url;\n",
       "      console.debug(\"Bokeh: injecting script tag for BokehJS library: \", url);\n",
       "      document.head.appendChild(element);\n",
       "    }\n",
       "  };var element = document.getElementById(\"1002\");\n",
       "  if (element == null) {\n",
       "    console.error(\"Bokeh: ERROR: autoload.js configured with elementid '1002' but no matching script tag was found. \")\n",
       "    return false;\n",
       "  }\n",
       "\n",
       "  function inject_raw_css(css) {\n",
       "    const element = document.createElement(\"style\");\n",
       "    element.appendChild(document.createTextNode(css));\n",
       "    document.body.appendChild(element);\n",
       "  }\n",
       "\n",
       "  var js_urls = [\"https://cdn.pydata.org/bokeh/release/bokeh-1.3.0.min.js\", \"https://cdn.pydata.org/bokeh/release/bokeh-widgets-1.3.0.min.js\", \"https://cdn.pydata.org/bokeh/release/bokeh-tables-1.3.0.min.js\", \"https://cdn.pydata.org/bokeh/release/bokeh-gl-1.3.0.min.js\"];\n",
       "  var css_urls = [];\n",
       "\n",
       "  var inline_js = [\n",
       "    function(Bokeh) {\n",
       "      Bokeh.set_log_level(\"info\");\n",
       "    },\n",
       "    \n",
       "    function(Bokeh) {\n",
       "      \n",
       "    },\n",
       "    function(Bokeh) {} // ensure no trailing comma for IE\n",
       "  ];\n",
       "\n",
       "  function run_inline_js() {\n",
       "    \n",
       "    if ((root.Bokeh !== undefined) || (force === true)) {\n",
       "      for (var i = 0; i < inline_js.length; i++) {\n",
       "        inline_js[i].call(root, root.Bokeh);\n",
       "      }if (force === true) {\n",
       "        display_loaded();\n",
       "      }} else if (Date.now() < root._bokeh_timeout) {\n",
       "      setTimeout(run_inline_js, 100);\n",
       "    } else if (!root._bokeh_failed_load) {\n",
       "      console.log(\"Bokeh: BokehJS failed to load within specified timeout.\");\n",
       "      root._bokeh_failed_load = true;\n",
       "    } else if (force !== true) {\n",
       "      var cell = $(document.getElementById(\"1002\")).parents('.cell').data().cell;\n",
       "      cell.output_area.append_execute_result(NB_LOAD_WARNING)\n",
       "    }\n",
       "\n",
       "  }\n",
       "\n",
       "  if (root._bokeh_is_loading === 0) {\n",
       "    console.debug(\"Bokeh: BokehJS loaded, going straight to plotting\");\n",
       "    run_inline_js();\n",
       "  } else {\n",
       "    load_libs(css_urls, js_urls, function() {\n",
       "      console.debug(\"Bokeh: BokehJS plotting callback run at\", now());\n",
       "      run_inline_js();\n",
       "    });\n",
       "  }\n",
       "}(window));"
      ],
      "application/vnd.bokehjs_load.v0+json": "\n(function(root) {\n  function now() {\n    return new Date();\n  }\n\n  var force = true;\n\n  if (typeof root._bokeh_onload_callbacks === \"undefined\" || force === true) {\n    root._bokeh_onload_callbacks = [];\n    root._bokeh_is_loading = undefined;\n  }\n\n  \n\n  \n  if (typeof (root._bokeh_timeout) === \"undefined\" || force === true) {\n    root._bokeh_timeout = Date.now() + 5000;\n    root._bokeh_failed_load = false;\n  }\n\n  var NB_LOAD_WARNING = {'data': {'text/html':\n     \"<div style='background-color: #fdd'>\\n\"+\n     \"<p>\\n\"+\n     \"BokehJS does not appear to have successfully loaded. If loading BokehJS from CDN, this \\n\"+\n     \"may be due to a slow or bad network connection. Possible fixes:\\n\"+\n     \"</p>\\n\"+\n     \"<ul>\\n\"+\n     \"<li>re-rerun `output_notebook()` to attempt to load from CDN again, or</li>\\n\"+\n     \"<li>use INLINE resources instead, as so:</li>\\n\"+\n     \"</ul>\\n\"+\n     \"<code>\\n\"+\n     \"from bokeh.resources import INLINE\\n\"+\n     \"output_notebook(resources=INLINE)\\n\"+\n     \"</code>\\n\"+\n     \"</div>\"}};\n\n  function display_loaded() {\n    var el = document.getElementById(\"1002\");\n    if (el != null) {\n      el.textContent = \"BokehJS is loading...\";\n    }\n    if (root.Bokeh !== undefined) {\n      if (el != null) {\n        el.textContent = \"BokehJS \" + root.Bokeh.version + \" successfully loaded.\";\n      }\n    } else if (Date.now() < root._bokeh_timeout) {\n      setTimeout(display_loaded, 100)\n    }\n  }\n\n\n  function run_callbacks() {\n    try {\n      root._bokeh_onload_callbacks.forEach(function(callback) {\n        if (callback != null)\n          callback();\n      });\n    } finally {\n      delete root._bokeh_onload_callbacks\n    }\n    console.debug(\"Bokeh: all callbacks have finished\");\n  }\n\n  function load_libs(css_urls, js_urls, callback) {\n    if (css_urls == null) css_urls = [];\n    if (js_urls == null) js_urls = [];\n\n    root._bokeh_onload_callbacks.push(callback);\n    if (root._bokeh_is_loading > 0) {\n      console.debug(\"Bokeh: BokehJS is being loaded, scheduling callback at\", now());\n      return null;\n    }\n    if (js_urls == null || js_urls.length === 0) {\n      run_callbacks();\n      return null;\n    }\n    console.debug(\"Bokeh: BokehJS not loaded, scheduling load and callback at\", now());\n    root._bokeh_is_loading = css_urls.length + js_urls.length;\n\n    function on_load() {\n      root._bokeh_is_loading--;\n      if (root._bokeh_is_loading === 0) {\n        console.debug(\"Bokeh: all BokehJS libraries/stylesheets loaded\");\n        run_callbacks()\n      }\n    }\n\n    function on_error() {\n      console.error(\"failed to load \" + url);\n    }\n\n    for (var i = 0; i < css_urls.length; i++) {\n      var url = css_urls[i];\n      const element = document.createElement(\"link\");\n      element.onload = on_load;\n      element.onerror = on_error;\n      element.rel = \"stylesheet\";\n      element.type = \"text/css\";\n      element.href = url;\n      console.debug(\"Bokeh: injecting link tag for BokehJS stylesheet: \", url);\n      document.body.appendChild(element);\n    }\n\n    for (var i = 0; i < js_urls.length; i++) {\n      var url = js_urls[i];\n      var element = document.createElement('script');\n      element.onload = on_load;\n      element.onerror = on_error;\n      element.async = false;\n      element.src = url;\n      console.debug(\"Bokeh: injecting script tag for BokehJS library: \", url);\n      document.head.appendChild(element);\n    }\n  };var element = document.getElementById(\"1002\");\n  if (element == null) {\n    console.error(\"Bokeh: ERROR: autoload.js configured with elementid '1002' but no matching script tag was found. \")\n    return false;\n  }\n\n  function inject_raw_css(css) {\n    const element = document.createElement(\"style\");\n    element.appendChild(document.createTextNode(css));\n    document.body.appendChild(element);\n  }\n\n  var js_urls = [\"https://cdn.pydata.org/bokeh/release/bokeh-1.3.0.min.js\", \"https://cdn.pydata.org/bokeh/release/bokeh-widgets-1.3.0.min.js\", \"https://cdn.pydata.org/bokeh/release/bokeh-tables-1.3.0.min.js\", \"https://cdn.pydata.org/bokeh/release/bokeh-gl-1.3.0.min.js\"];\n  var css_urls = [];\n\n  var inline_js = [\n    function(Bokeh) {\n      Bokeh.set_log_level(\"info\");\n    },\n    \n    function(Bokeh) {\n      \n    },\n    function(Bokeh) {} // ensure no trailing comma for IE\n  ];\n\n  function run_inline_js() {\n    \n    if ((root.Bokeh !== undefined) || (force === true)) {\n      for (var i = 0; i < inline_js.length; i++) {\n        inline_js[i].call(root, root.Bokeh);\n      }if (force === true) {\n        display_loaded();\n      }} else if (Date.now() < root._bokeh_timeout) {\n      setTimeout(run_inline_js, 100);\n    } else if (!root._bokeh_failed_load) {\n      console.log(\"Bokeh: BokehJS failed to load within specified timeout.\");\n      root._bokeh_failed_load = true;\n    } else if (force !== true) {\n      var cell = $(document.getElementById(\"1002\")).parents('.cell').data().cell;\n      cell.output_area.append_execute_result(NB_LOAD_WARNING)\n    }\n\n  }\n\n  if (root._bokeh_is_loading === 0) {\n    console.debug(\"Bokeh: BokehJS loaded, going straight to plotting\");\n    run_inline_js();\n  } else {\n    load_libs(css_urls, js_urls, function() {\n      console.debug(\"Bokeh: BokehJS plotting callback run at\", now());\n      run_inline_js();\n    });\n  }\n}(window));"
     },
     "metadata": {},
     "output_type": "display_data"
    }
   ],
   "source": [
    "from hail.plot import show\n",
    "hl.plot.output_notebook()\n",
    "from hail.expr import aggregators \n",
    "from hail.expr.expressions import *\n",
    "from hail.expr.expressions import Expression\n",
    "from hail.typecheck import *\n",
    "from hail import Table\n",
    "\n",
    "from bokeh.plotting import figure, output_file, show, save\n",
    "from pprint import pprint\n",
    "from bokeh.io import output_notebook, show\n",
    "from bokeh.layouts import gridplot\n",
    "from bokeh.models import Span, ColumnDataSource\n",
    "output_notebook()\n",
    "from bokeh.models import *\n",
    "\n",
    "import numpy as np\n",
    "from numpy import array, empty\n",
    "import pandas as pd\n",
    "from pprint import pprint\n",
    "from math import log, isnan, log10\n",
    "from itertools import cycle\n",
    "import os, time, sys "
   ]
  },
  {
   "cell_type": "code",
   "execution_count": 3,
   "metadata": {},
   "outputs": [],
   "source": [
    "plot_path=os.getcwd()+'/ssc'\n",
    "sys.path.append(plot_path)\n",
    "import plotting"
   ]
  },
  {
   "cell_type": "markdown",
   "metadata": {},
   "source": [
    "#### Load COPD freeze 4 matrix and annotation table"
   ]
  },
  {
   "cell_type": "markdown",
   "metadata": {},
   "source": [
    "Import matrixtable with genomic data and table with phenotypic data from google storage (gs) bucket. Then, annotate the table to matrixtable.\n"
   ]
  },
  {
   "cell_type": "code",
   "execution_count": 4,
   "metadata": {},
   "outputs": [],
   "source": [
    "mt = hl.read_matrix_table(\"s3://path_to_/raw\")\n",
    "t  = hl.import_table('s3://path_to_/COPDannotations.txt', impute = True).key_by('Samples')\n",
    "\n",
    "mt = mt.annotate_cols(**t[mt.s]) "
   ]
  },
  {
   "cell_type": "markdown",
   "metadata": {},
   "source": [
    "COPDGene cohort is part of the bigger TOPMed initiative, as consequency each VCF file (that we visualize in MT format) has all possible SNPs from all projects within TOPMed (219.154.452). Therefore removing  monomorphic data, which are variants homozygous to reference (hom_ref) and thus keeping all other polymorphic variants (SNPs, indels, etc)."
   ]
  },
  {
   "cell_type": "code",
   "execution_count": 9,
   "metadata": {},
   "outputs": [],
   "source": [
    "mt = mt.filter_rows(hl.agg.fraction(mt.GT.is_hom_ref()) < 1) "
   ]
  },
  {
   "cell_type": "code",
   "execution_count": null,
   "metadata": {},
   "outputs": [],
   "source": [
    "CPU = 16\n",
    "nodes = 20\n",
    "mt = mt.repartition(4 * CPU * nodes)"
   ]
  },
  {
   "cell_type": "markdown",
   "metadata": {},
   "source": [
    "### Speed up by dividing mt in partitions\n",
    "- Number of repartitions depends on CPU per node and number of nodes.\n",
    "- especially PCA sensitive to partitions, important to use it before PCA"
   ]
  },
  {
   "cell_type": "markdown",
   "metadata": {},
   "source": [
    "# 1. Sanity check"
   ]
  },
  {
   "cell_type": "markdown",
   "metadata": {},
   "source": [
    "Alleles consist out of reference nucleotide(s) and alternate nucleotide(s). For each locus, an index is created based on all possibilities occuring in the samples. The reference is always indexed 0, and the alternates starting from 1 up to the number of possibile variants. A GT call consist out of two alleles per sample(diploid human), either corresponding to REF (0) or to index of possible ALT_n (n = 1, 2, etc).  "
   ]
  },
  {
   "cell_type": "markdown",
   "metadata": {},
   "source": [
    "Show globals, rows and columns of matrixtable."
   ]
  },
  {
   "cell_type": "code",
   "execution_count": 10,
   "metadata": {},
   "outputs": [
    {
     "name": "stdout",
     "output_type": "stream",
     "text": [
      "----------------------------------------\n",
      "Global fields:\n",
      "    None\n",
      "----------------------------------------\n",
      "Column fields:\n",
      "    's': str\n",
      "    'dbGaP_Subject_ID': int32\n",
      "    'Consent_groups': str\n",
      "    'Age': float64\n",
      "    'Gender': str\n",
      "    'is_female': int32\n",
      "    'Race': str\n",
      "    'Affection': str\n",
      "    'AffectionBool': int32\n",
      "    'Heart_Rate': str\n",
      "    'SaO2': str\n",
      "    'Images': str\n",
      "    'CurrentSmoker': str\n",
      "    'SmokerBool': int32\n",
      "    'PackYear': str\n",
      "    'FEV1PB': str\n",
      "    'FEV1FVC': str\n",
      "    'FEV1perc': str\n",
      "----------------------------------------\n",
      "Row fields:\n",
      "    'locus': locus<GRCh37>\n",
      "    'alleles': array<str>\n",
      "    'rsid': str\n",
      "    'qual': float64\n",
      "    'filters': set<str>\n",
      "    'info': struct {\n",
      "        AC: array<int32>, \n",
      "        AF: array<float64>, \n",
      "        AN: int32, \n",
      "        DP: int32, \n",
      "        AVGDP: float64, \n",
      "        GC: array<int32>, \n",
      "        GN: int32, \n",
      "        HWEAF: array<float64>, \n",
      "        HWDGF: array<float64>, \n",
      "        IBC: float64, \n",
      "        HWE_SLP: float64, \n",
      "        ABE: float64, \n",
      "        ABZ: float64, \n",
      "        NS_NREF: int32, \n",
      "        BQZ: float64, \n",
      "        CYZ: float64, \n",
      "        STZ: float64, \n",
      "        NMZ: float64, \n",
      "        IOR: float64, \n",
      "        NM0: float64, \n",
      "        NM1: float64, \n",
      "        SVM: float64, \n",
      "        OVERLAP: array<str>, \n",
      "        ANN: array<str>, \n",
      "        LOF: array<str>, \n",
      "        NMD: array<str>, \n",
      "        IS_HWE_SLP: float64, \n",
      "        IS_IBC: float64\n",
      "    }\n",
      "    'hwe_ctrl': struct {\n",
      "        het_freq_hwe: float64, \n",
      "        p_value: float64\n",
      "    }\n",
      "----------------------------------------\n",
      "Entry fields:\n",
      "    'GT': call\n",
      "    'DP': int32\n",
      "    'PL': array<int32>\n",
      "    'GQ': int32\n",
      "    'AD': array<int32>\n",
      "----------------------------------------\n",
      "Column key: ['s']\n",
      "Row key: ['locus', 'alleles']\n",
      "----------------------------------------\n"
     ]
    }
   ],
   "source": [
    "mt.describe()"
   ]
  },
  {
   "cell_type": "code",
   "execution_count": null,
   "metadata": {},
   "outputs": [],
   "source": [
    "mt.count()"
   ]
  },
  {
   "cell_type": "markdown",
   "metadata": {},
   "source": [
    "Alleles consist out of reference nucleotide(s) and alternate nucleotide(s). For each locus, an index is created based on all possibilities occuring in the samples. The reference is always indexed 0, and the alternates starting from 1 up to the number of possibile variants. A GT call consist out of two alleles per sample(diploid human), either corresponding to REF (0) or to index of possible ALT_n (n = 1, 2, etc). Because this data is bi-allelic, we find 0 and 1. "
   ]
  },
  {
   "cell_type": "code",
   "execution_count": null,
   "metadata": {},
   "outputs": [],
   "source": [
    "mt.row.show(5)"
   ]
  },
  {
   "cell_type": "code",
   "execution_count": null,
   "metadata": {},
   "outputs": [],
   "source": [
    "mt.row.alleles.show(5)"
   ]
  },
  {
   "cell_type": "markdown",
   "metadata": {},
   "source": [
    "#### Calculate all possible GT calls over entire dataset:\n",
    "\n",
    "There are no multiple variants, because you see no 2, 3 etc in output. This is because the data was prefiltered by TOPMed."
   ]
  },
  {
   "cell_type": "code",
   "execution_count": null,
   "metadata": {},
   "outputs": [],
   "source": [
    "possibleGT = mt.aggregate_entries(hl.agg.collect_as_set(mt.GT))\n",
    "print(len(possibleGT))\n",
    "possibleGT"
   ]
  },
  {
   "cell_type": "markdown",
   "metadata": {},
   "source": [
    "#### Show unique possible calls occuring in entire dataset\n",
    "- reference (ref) and alternate allele calls (alt).\n",
    "- Contains homozygous reference, SNPs, indels, CNVs."
   ]
  },
  {
   "cell_type": "code",
   "execution_count": null,
   "metadata": {},
   "outputs": [],
   "source": [
    "unique_allelecalls = mt.aggregate_rows(hl.struct(\n",
    "    ref = hl.agg.collect_as_set(mt.alleles[0]), \n",
    "    alt = hl.agg.collect_as_set(mt.alleles[1])))\n",
    "pprint(unique_allelecalls)"
   ]
  },
  {
   "cell_type": "markdown",
   "metadata": {},
   "source": [
    "# 2. Quality Control Variants"
   ]
  },
  {
   "cell_type": "markdown",
   "metadata": {},
   "source": [
    "Initial QC:\n",
    "- samples: sex, concordance with previous array data, relatedness (by TOPMed). \n",
    "- variants: SVM based on mendelian consistency (by University of Michigan)."
   ]
  },
  {
   "cell_type": "markdown",
   "metadata": {},
   "source": [
    "### 2.1. Optional: Pruning variants in Linkage Disequilibrium\n",
    "- Remove correlated variants from a matrix table. ld_prune() requires mt to contain only diploid GT calls.\n",
    "- Windowsize for prunign follows the population specific haplotype block span. In African chromosomes 50% of genome lies in haplotype blocks > 22kb, and Europeans/Asians in >44 kb, because they descended from small number of ancestors who left Africa(Gabriel 2002 Science).\n",
    "- However, the algorithm in Hail cannot handle such large data using a windowsize this small (Error summary: OutOfMemoryError: GC overhead limit exceeded). This was the case using 25 nodes of the type i3.4xlarge master and pre-empitble worker nodes with partitioned data (4 * 16 CPU * 25 nodes),  Hail version: 0.2.9-28ab341611d, bringing fs.s3.maxConnections wihtin the master node up to 5000 (see emr-timeout.sh); and waiting over 24hrs. \n"
   ]
  },
  {
   "cell_type": "code",
   "execution_count": null,
   "metadata": {},
   "outputs": [],
   "source": [
    "biallelic_mt = mt.filter_rows(hl.len(mt.alleles) == 2)"
   ]
  },
  {
   "cell_type": "code",
   "execution_count": null,
   "metadata": {},
   "outputs": [],
   "source": [
    "pruned_t = hl.ld_prune(mt.GT, r2 = 0.8, bp_window_size = 44000,  memory_per_core = 128)"
   ]
  },
  {
   "cell_type": "code",
   "execution_count": null,
   "metadata": {},
   "outputs": [],
   "source": [
    "mt = mt.filter_rows(hl.is_defined(pruned_t[mt.row_key]))"
   ]
  },
  {
   "cell_type": "markdown",
   "metadata": {},
   "source": [
    "### 2.2.  Hardy-weinberg equilibrium\n",
    "- HWE on only controls, separately for each ethnic group (Turner, 2011).\n",
    "- The real difference is that Hail uses a mid-p correction on the exact test, but there should be no differences for small p-values (Graffelman et al., 2010). "
   ]
  },
  {
   "cell_type": "markdown",
   "metadata": {},
   "source": [
    "Filter for Caucasian population"
   ]
  },
  {
   "cell_type": "code",
   "execution_count": 9,
   "metadata": {},
   "outputs": [],
   "source": [
    "mt_NHW = mt.filter_cols(mt.Race == \"Caucasian\") "
   ]
  },
  {
   "cell_type": "code",
   "execution_count": 10,
   "metadata": {},
   "outputs": [],
   "source": [
    "mt_AA = mt.filter_cols(mt.Race == \"African American\") "
   ]
  },
  {
   "cell_type": "code",
   "execution_count": 11,
   "metadata": {},
   "outputs": [],
   "source": [
    "mt_NHW = mt_NHW.annotate_rows(hwe_ctrl = hl.agg.filter(mt_NHW.Affection == 'Control', hl.agg.hardy_weinberg_test(mt_NHW.GT)))\n",
    "mt_NHW = mt_NHW.filter_rows(mt_NHW.hwe_ctrl.p_value > 10**-5)\n"
   ]
  },
  {
   "cell_type": "code",
   "execution_count": 12,
   "metadata": {},
   "outputs": [],
   "source": [
    "mt_AA = mt_AA.annotate_rows(hwe_ctrl = hl.agg.filter(mt_AA.Affection == 'Control', hl.agg.hardy_weinberg_test(mt_AA.GT)))\n",
    "mt_AA = mt_AA.filter_rows(mt_AA.hwe_ctrl.p_value > 10**-5)\n"
   ]
  },
  {
   "cell_type": "code",
   "execution_count": 13,
   "metadata": {},
   "outputs": [],
   "source": [
    "mt = mt_AA.union_cols(mt_NHW)"
   ]
  },
  {
   "cell_type": "markdown",
   "metadata": {},
   "source": [
    "After HWE filter, 74164504 variants and 1876 samples remain."
   ]
  },
  {
   "cell_type": "markdown",
   "metadata": {},
   "source": [
    "### 2.3. Check for missingness\n",
    "Calculate statistics per variant\n",
    "\n",
    "Missing rate > 2%, thus keep variants with call rate > 0.98.\n",
    "\n",
    "call_rate = called / (non-called + called)."
   ]
  },
  {
   "cell_type": "code",
   "execution_count": null,
   "metadata": {},
   "outputs": [],
   "source": [
    "mt = hl.variant_qc(mt)"
   ]
  },
  {
   "cell_type": "code",
   "execution_count": null,
   "metadata": {},
   "outputs": [],
   "source": [
    "mt = mt.filter_rows(mt.variant_qc.call_rate > 0.98)"
   ]
  },
  {
   "cell_type": "markdown",
   "metadata": {},
   "source": [
    "No variants were removed, call rate is 100% for all due to initial QC by TOPMed."
   ]
  },
  {
   "cell_type": "markdown",
   "metadata": {},
   "source": [
    "### 2.4. Remove duplicate IDs\n",
    "Remove samples with same ID classifier."
   ]
  },
  {
   "cell_type": "code",
   "execution_count": null,
   "metadata": {},
   "outputs": [],
   "source": [
    "t = hl.rename_duplicates(mt).cols()"
   ]
  },
  {
   "cell_type": "code",
   "execution_count": null,
   "metadata": {},
   "outputs": [],
   "source": [
    "t.key_by(\"s\") \n",
    "mt.key_cols_by(\"s\")"
   ]
  },
  {
   "cell_type": "code",
   "execution_count": null,
   "metadata": {},
   "outputs": [],
   "source": [
    "mt = mt.filter_cols(hl.is_defined(t[mt.s]))"
   ]
  },
  {
   "cell_type": "markdown",
   "metadata": {},
   "source": [
    "No variants were removed."
   ]
  },
  {
   "cell_type": "markdown",
   "metadata": {},
   "source": [
    "### 2.5. Remove wrongly assigned variant types\n",
    "Genotype called homozygous reference with >10% alternate reads, a genotype called homozygous alternate with >10% reference reads, or a genotype called heterozygote without a ref / alt balance near 1:1, it is likely to be an error"
   ]
  },
  {
   "cell_type": "code",
   "execution_count": null,
   "metadata": {},
   "outputs": [],
   "source": [
    "ab = mt.AD[1] / hl.sum(mt.AD)\n",
    "\n",
    "filter_condition_ab = ((mt.GT.is_hom_ref() & (ab <= 0.1)) |\n",
    "                        (mt.GT.is_het() & (ab >= 0.25) & (ab <= 0.75)) |\n",
    "                        (mt.GT.is_hom_var() & (ab >= 0.9)))\n",
    "\n",
    "mt = mt.filter_entries(filter_condition_ab)"
   ]
  },
  {
   "cell_type": "markdown",
   "metadata": {},
   "source": [
    "No variants removed, due to prefiltering by TOPMed."
   ]
  },
  {
   "cell_type": "markdown",
   "metadata": {},
   "source": [
    "### 2.6. Remove non-autosomes\n",
    "This step needs to be executed after the sex check for samples, because impute_sex() function needs the sex chromosome. You can find this step after the sample filtering steps.  "
   ]
  },
  {
   "cell_type": "markdown",
   "metadata": {},
   "source": [
    "### 2.7. Optional: Keep SNPs (remove indels, CNVs etc.)"
   ]
  },
  {
   "cell_type": "markdown",
   "metadata": {},
   "source": [
    "Comparing reference allele (0) to alternates (1)"
   ]
  },
  {
   "cell_type": "code",
   "execution_count": null,
   "metadata": {},
   "outputs": [],
   "source": [
    "mt_snp = mt.filter_rows(hl.is_snp(mt.alleles[0], mt.alleles[1]))"
   ]
  },
  {
   "cell_type": "markdown",
   "metadata": {},
   "source": [
    "Check SNPs: unique possible reference (ref) and alternate allele calls (alt) from entire dataset (all samples)"
   ]
  },
  {
   "cell_type": "code",
   "execution_count": null,
   "metadata": {},
   "outputs": [],
   "source": [
    "unique_allelecalls = mt_snp.aggregate_rows(hl.struct(\n",
    "    ref = hl.agg.collect_as_set(mt_snp.alleles[0]), \n",
    "    alt = hl.agg.collect_as_set(mt_snp.alleles[1])))\n",
    "pprint(unique_allelecalls)"
   ]
  },
  {
   "cell_type": "markdown",
   "metadata": {},
   "source": [
    "Check SNPs: shows all lenghts of vectors with possible allels (including ref, alternate)"
   ]
  },
  {
   "cell_type": "code",
   "execution_count": null,
   "metadata": {},
   "outputs": [],
   "source": [
    "a = mt_snp.aggregate_rows(hl.agg.collect_as_set(hl.len(mt_snp.alleles)))\n",
    "pprint(a)"
   ]
  },
  {
   "cell_type": "code",
   "execution_count": null,
   "metadata": {},
   "outputs": [],
   "source": [
    "mt_AF = mt.filter_rows(mt.variant_qc.AF[1] >= 0.01)"
   ]
  },
  {
   "cell_type": "markdown",
   "metadata": {},
   "source": [
    "# 3. Quality Control Samples "
   ]
  },
  {
   "cell_type": "markdown",
   "metadata": {},
   "source": [
    "### 3.1. Filter samples for outliers more than (6 * SD) from mean (part 1).\n",
    "Calculate mean and SD per individual prior other sample filtering steps, because filtering affects the sample_qc(). \n",
    "\n",
    "The actual filtering is at step 3.5.\n",
    "\n"
   ]
  },
  {
   "cell_type": "code",
   "execution_count": 5,
   "metadata": {},
   "outputs": [],
   "source": [
    "mt = hl.sample_qc(mt)"
   ]
  },
  {
   "cell_type": "code",
   "execution_count": 6,
   "metadata": {
    "scrolled": true
   },
   "outputs": [
    {
     "name": "stderr",
     "output_type": "stream",
     "text": [
      "2019-05-24 21:23:28 Hail: INFO: Coerced sorted dataset\n",
      "2019-05-24 21:30:13 Hail: INFO: Coerced sorted dataset\n",
      "2019-05-24 21:31:51 Hail: INFO: Coerced sorted dataset\n",
      "2019-05-24 21:33:02 Hail: INFO: Coerced sorted dataset\n"
     ]
    }
   ],
   "source": [
    "stats_singleton   = mt.aggregate_cols(hl.agg.stats(mt.sample_qc.n_singleton))\n",
    "stats_ti_tv       = mt.aggregate_cols(hl.agg.stats(mt.sample_qc.r_ti_tv))\n",
    "stats_het_hom_var = mt.aggregate_cols(hl.agg.stats(mt.sample_qc.r_het_hom_var))\n",
    "stats_het         = mt.aggregate_cols(hl.agg.stats(mt.sample_qc.n_het))"
   ]
  },
  {
   "cell_type": "markdown",
   "metadata": {},
   "source": [
    "### 3.2. Concordance \n",
    "Concordance of sequenced with previous genotyped/imputed data, however this data is not available. Concordance was only a problem in the version freeze 5 (and not freeze 4 what we are using here)."
   ]
  },
  {
   "cell_type": "markdown",
   "metadata": {},
   "source": [
    "### 3.3. Sex check on chromosome X (inbreeding coefficient)\n",
    "Remove samples where imputed genetic sex does not equal reported sex."
   ]
  },
  {
   "cell_type": "code",
   "execution_count": 8,
   "metadata": {},
   "outputs": [
    {
     "name": "stderr",
     "output_type": "stream",
     "text": [
      "2019-05-24 21:33:03 Hail: WARN: cols(): Resulting column table is sorted by 'col_key'.\n",
      "    To preserve matrix table column order, first unkey columns with 'key_cols_by()'\n"
     ]
    }
   ],
   "source": [
    "t = hl.impute_sex(mt.GT)"
   ]
  },
  {
   "cell_type": "code",
   "execution_count": 9,
   "metadata": {
    "scrolled": true
   },
   "outputs": [],
   "source": [
    "mt = mt.filter_cols(t[mt.s].is_female == mt.is_female)"
   ]
  },
  {
   "cell_type": "markdown",
   "metadata": {},
   "source": [
    "### 3.4. Check for genetic relationship / \"duplicates\"\n",
    "- Calculate the Identity-By-Descent matrix: \n",
    "- Requires bi-allelic and preferably pruned input. "
   ]
  },
  {
   "cell_type": "code",
   "execution_count": null,
   "metadata": {},
   "outputs": [],
   "source": [
    "mt_relatedness = hl.identity_by_descent(mt)"
   ]
  },
  {
   "cell_type": "markdown",
   "metadata": {},
   "source": [
    "- keep pairs of samples with PI_HAT in [0.2, 1] using MAF computed from the dataset itself in row field panel_maf."
   ]
  },
  {
   "cell_type": "code",
   "execution_count": null,
   "metadata": {},
   "outputs": [],
   "source": [
    "t_ibd = relatedness.filter(relatedness.ibd.PI_HAT > 0.2)"
   ]
  },
  {
   "cell_type": "code",
   "execution_count": null,
   "metadata": {
    "scrolled": true
   },
   "outputs": [],
   "source": [
    "t_ibd.key_by('i')"
   ]
  },
  {
   "cell_type": "code",
   "execution_count": null,
   "metadata": {
    "scrolled": true
   },
   "outputs": [],
   "source": [
    "mt.key_cols_by(\"s\")"
   ]
  },
  {
   "cell_type": "markdown",
   "metadata": {},
   "source": [
    "- Collect the IDs of the related samples in t_ibd"
   ]
  },
  {
   "cell_type": "code",
   "execution_count": null,
   "metadata": {},
   "outputs": [],
   "source": [
    "ibd_idx = t_ibd.aggregate(hl.agg.collect_as_set(t_ibd.i))"
   ]
  },
  {
   "cell_type": "code",
   "execution_count": null,
   "metadata": {},
   "outputs": [],
   "source": [
    "mt_ibd = mt.filter_cols(hl.is_defined(ibd_idx))"
   ]
  },
  {
   "cell_type": "markdown",
   "metadata": {},
   "source": [
    "No samples were removed."
   ]
  },
  {
   "cell_type": "markdown",
   "metadata": {},
   "source": [
    "### 3.5. Filter on outliers:"
   ]
  },
  {
   "cell_type": "markdown",
   "metadata": {},
   "source": [
    "####  Number of singletons"
   ]
  },
  {
   "cell_type": "code",
   "execution_count": 11,
   "metadata": {},
   "outputs": [],
   "source": [
    "mt = mt.filter_cols(mt.sample_qc.n_singleton < (stats_singleton.mean + (6 * stats_singleton.stdev)))\n",
    "mt = mt.filter_cols(mt.sample_qc.n_singleton > (stats_singleton.mean - (6 * stats_singleton.stdev)))"
   ]
  },
  {
   "cell_type": "markdown",
   "metadata": {},
   "source": [
    "#### Ti/Tv ratio "
   ]
  },
  {
   "cell_type": "code",
   "execution_count": 13,
   "metadata": {
    "scrolled": true
   },
   "outputs": [],
   "source": [
    "mt = mt.filter_cols(mt.sample_qc.r_ti_tv < (stats_ti_tv.mean + (6 * stats_ti_tv.stdev)))\n",
    "mt = mt.filter_cols(mt.sample_qc.r_ti_tv > (stats_ti_tv.mean - (6 * stats_ti_tv.stdev)))"
   ]
  },
  {
   "cell_type": "markdown",
   "metadata": {},
   "source": [
    "#### Het/hom ratio \n",
    "Only consider homologous variants, because homologous reference are filtered out."
   ]
  },
  {
   "cell_type": "code",
   "execution_count": 15,
   "metadata": {},
   "outputs": [],
   "source": [
    "mt = mt.filter_cols(mt.sample_qc.r_het_hom_var < (stats_het_hom_var.mean + (6 * stats_het_hom_var.stdev)))\n",
    "mt = mt.filter_cols(mt.sample_qc.r_het_hom_var > (stats_het_hom_var.mean - (6 * stats_het_hom_var.stdev)))"
   ]
  },
  {
   "cell_type": "markdown",
   "metadata": {},
   "source": [
    "#### Number of heterozygous calls"
   ]
  },
  {
   "cell_type": "code",
   "execution_count": 17,
   "metadata": {},
   "outputs": [],
   "source": [
    "mt = mt.filter_cols(mt.sample_qc.n_het < (stats_het.mean + (6 * stats_het.stdev)))\n",
    "mt = mt.filter_cols(mt.sample_qc.n_het > (stats_het.mean - (6 * stats_het.stdev)))"
   ]
  },
  {
   "cell_type": "markdown",
   "metadata": {},
   "source": [
    "No samples were removed."
   ]
  },
  {
   "cell_type": "markdown",
   "metadata": {},
   "source": [
    "### 3.6. Remove non-autosomes(X, Y and MT DNA)\n",
    "- Do this step after sex check"
   ]
  },
  {
   "cell_type": "code",
   "execution_count": 20,
   "metadata": {},
   "outputs": [],
   "source": [
    "mt = mt.filter_rows(mt.locus.in_autosome())"
   ]
  },
  {
   "cell_type": "markdown",
   "metadata": {},
   "source": [
    "### 3.7 Export QC filtered file"
   ]
  },
  {
   "cell_type": "code",
   "execution_count": null,
   "metadata": {},
   "outputs": [],
   "source": [
    "mt.write(\"s3://yourpath\", overwrite = True)"
   ]
  },
  {
   "cell_type": "markdown",
   "metadata": {},
   "source": [
    "# 4. Characteristics filtered data"
   ]
  },
  {
   "cell_type": "markdown",
   "metadata": {},
   "source": [
    "### 4.1 Number of SNPs, singletons, indels"
   ]
  },
  {
   "cell_type": "markdown",
   "metadata": {},
   "source": [
    "- Total variants: 72083383\n",
    "- SNP: 66419084 alternate alleles\n",
    "- Deletion: 3980503 alternate alleles\n",
    "- Insertion: 1683796 alternate alleles"
   ]
  },
  {
   "cell_type": "code",
   "execution_count": 22,
   "metadata": {},
   "outputs": [
    {
     "name": "stdout",
     "output_type": "stream",
     "text": [
      "==============================\n",
      "Number of variants: 72083383\n",
      "==============================\n",
      "Alleles per variant\n",
      "-------------------\n",
      "  2 alleles: 72083383 variants\n",
      "==============================\n",
      "Variants per contig\n",
      "-------------------\n",
      "   1: 5719537 variants\n",
      "   2: 6237105 variants\n",
      "   3: 5128944 variants\n",
      "   4: 5082138 variants\n",
      "   5: 4707472 variants\n",
      "   6: 4454090 variants\n",
      "   7: 4222573 variants\n",
      "   8: 4087631 variants\n",
      "   9: 3224037 variants\n",
      "  10: 3529399 variants\n",
      "  11: 3538315 variants\n",
      "  12: 3422240 variants\n",
      "  13: 2527331 variants\n",
      "  14: 2336668 variants\n",
      "  15: 2154702 variants\n",
      "  16: 2387231 variants\n",
      "  17: 2082892 variants\n",
      "  18: 2007482 variants\n",
      "  19: 1657815 variants\n",
      "  20: 1600922 variants\n",
      "  21: 988639 variants\n",
      "  22: 986220 variants\n",
      "==============================\n",
      "Allele type distribution\n",
      "------------------------\n",
      "        SNP: 66419084 alternate alleles\n",
      "   Deletion: 3980503 alternate alleles\n",
      "  Insertion: 1683796 alternate alleles\n",
      "==============================\n"
     ]
    }
   ],
   "source": [
    "hl.summarize_variants(mt)"
   ]
  },
  {
   "cell_type": "markdown",
   "metadata": {},
   "source": [
    "### 4.2. Subject Stats"
   ]
  },
  {
   "cell_type": "markdown",
   "metadata": {},
   "source": [
    "Partition data into cases (mt_case) and controls (mt_ctrl) for African American and Caucasian populations and calculate for each the mean age, number of individuals, mean pack-years and mean FEV1%."
   ]
  },
  {
   "cell_type": "code",
   "execution_count": 23,
   "metadata": {},
   "outputs": [],
   "source": [
    "ca = mt.filter_cols(mt.Affection == 'Case')\n",
    "co = mt.filter_cols(mt.Affection == 'Control')\n",
    "ca_AA = ca.filter_cols(ca.Race == 'African American')\n",
    "co_AA = co.filter_cols(co.Race == 'African American')\n",
    "ca_CAU = ca.filter_cols(ca.Race == 'Caucasian')\n",
    "co_CAU = co.filter_cols(co.Race == 'Caucasian')"
   ]
  },
  {
   "cell_type": "code",
   "execution_count": null,
   "metadata": {},
   "outputs": [],
   "source": [
    "print('#Individuals of Cases:', mt_case.aggregate_cols(hl.agg.counter(mt_case.Race))) \n",
    "print('#Individuals of Controls:', mt_ctrl.aggregate_cols(hl.agg.counter(mt_ctrl.Race)))  \n",
    "\n",
    "print('Age case AA =', ca_AA.aggregate_cols(hl.agg.stats(ca_AA.Age))) \n",
    "print('Age control AA =', co_AA.aggregate_cols(hl.agg.stats(co_AA.Age))) \n",
    "print('Age case CAU =', ca_CAU.aggregate_cols(hl.agg.stats(ca_CAU.Age))) \n",
    "print('Age control CAU =', co_CAU.aggregate_cols(hl.agg.stats(co_CAU.Age))) \n",
    "\n",
    "print('Gender case AA:', ca_AA.aggregate_cols(hl.agg.counter(ca_AA.is_female)))  \n",
    "print('Gender control AA:', co_AA.aggregate_cols(hl.agg.counter(co_AA.is_female))) \n",
    "print('Gender case CAU:', ca_CAU.aggregate_cols(hl.agg.counter(ca_CAU.is_female)))  \n",
    "print('Gender control CAU:', co_CAU.aggregate_cols(hl.agg.counter(co_CAU.is_female))) \n",
    "\n",
    "print(\"FEV1 case AA\", ca_AA.aggregate_cols(hl.agg.stats(hl.float(ca_AA.FEV1perc))))\n",
    "print(\"FEV1 control AA\", co_AA.aggregate_cols(hl.agg.stats(hl.float(co_AA.FEV1perc))))\n",
    "print(\"FEV1 case CAU\", ca_CAU.aggregate_cols(hl.agg.stats(hl.float(ca_CAU.FEV1perc))))\n",
    "print(\"FEV1 control CAU\", co_CAU.aggregate_cols(hl.agg.stats(hl.float(co_CAU.FEV1perc))))\n",
    "\n",
    "print(\"FEV1FVC case AA\", ca_AA.aggregate_cols(hl.agg.stats(hl.float(ca_AA.FEV1FVC))))\n",
    "print(\"FEV1FVC control AA\", co_AA.aggregate_cols(hl.agg.stats(hl.float(co_AA.FEV1FVC))))\n",
    "print(\"FEV1FVC case CAU\", ca_CAU.aggregate_cols(hl.agg.stats(hl.float(ca_CAU.FEV1FVC))))\n",
    "print(\"FEV1FVC control CAU\", co_CAU.aggregate_cols(hl.agg.stats(hl.float(co_CAU.FEV1FVC))))\n",
    "\n",
    "print('Pack-years of case AA =', ca_AA.aggregate_cols(hl.agg.stats(hl.float(ca_AA.PackYear)))) #\n",
    "print('Pack-years of control AA =', co_AA.aggregate_cols(hl.agg.stats(hl.float(co_AA.PackYear)))) #\n",
    "print('Pack-years of case CAU =', ca_CAU.aggregate_cols(hl.agg.stats(hl.float(ca_CAU.PackYear)))) #\n",
    "print('Pack-years of control CAU =', co_CAU.aggregate_cols(hl.agg.stats(hl.float(co_CAU.PackYear)))) #\n",
    "\n",
    "print('#Current Smoker case AA:', ca_AA.aggregate_cols(hl.agg.counter(ca_AA.CurrentSmoker)))  # M , F: }\n",
    "print('#Current Smoker control AA:', co_AA.aggregate_cols(hl.agg.counter(co_AA.CurrentSmoker)))  # M , F: }\n",
    "print('#Current Smoker case CAU:', ca_CAU.aggregate_cols(hl.agg.counter(ca_CAU.CurrentSmoker))) # M , F:\n",
    "print('#Current Smoker control CAU:', co_CAU.aggregate_cols(hl.agg.counter(co_CAU.CurrentSmoker)))  # M , F: }\n",
    "\n"
   ]
  },
  {
   "cell_type": "markdown",
   "metadata": {},
   "source": [
    "# 5. Correct for population stratification"
   ]
  },
  {
   "cell_type": "markdown",
   "metadata": {},
   "source": [
    "Sample ancestry leads to a stratified distribution of the phenotype."
   ]
  },
  {
   "cell_type": "markdown",
   "metadata": {},
   "source": [
    "### 5.1 Common variants to preserve power. \n",
    "Similar to conventional EIGENSTRAT method."
   ]
  },
  {
   "cell_type": "code",
   "execution_count": 7,
   "metadata": {},
   "outputs": [],
   "source": [
    "mt = hl.variant_qc(mt)"
   ]
  },
  {
   "cell_type": "code",
   "execution_count": 8,
   "metadata": {},
   "outputs": [],
   "source": [
    "mt_common = mt.filter_rows(mt.variant_qc.AF[1] > 0.05)"
   ]
  },
  {
   "cell_type": "markdown",
   "metadata": {},
   "source": [
    "7.426.338 of 72.083.383 variants are common"
   ]
  },
  {
   "cell_type": "markdown",
   "metadata": {},
   "source": [
    "#### Pruning"
   ]
  },
  {
   "cell_type": "markdown",
   "metadata": {},
   "source": [
    "r2 = 0 means that variants are unrelated, and when 1 they are in full linkage disequilibrium. r = 0.5 means removing those with correlation between 0.5 and 1."
   ]
  },
  {
   "cell_type": "code",
   "execution_count": 10,
   "metadata": {},
   "outputs": [
    {
     "name": "stderr",
     "output_type": "stream",
     "text": [
      "2019-05-29 13:25:27 Hail: INFO: ld_prune: running local pruning stage with max queue size of 137519 variants\n",
      "2019-05-29 13:28:45 Hail: INFO: Wrote all 281 blocks of 1147272 x 1752 matrix with block size 4096.\n",
      "2019-05-29 13:28:48 Hail: INFO: wrote table with 1147449 rows in 2560 partitions to hdfs://lindsay1-m/tmp/hail.fDj73JEwV5cC/kXHYqofZhB\n",
      "2019-05-29 13:32:02 Hail: INFO: Wrote all 281 blocks of 1147449 x 1752 matrix with block size 4096.\n",
      "2019-05-29 13:36:40 Hail: INFO: wrote table with 22896 rows in 561 partitions to hdfs://lindsay1-m/tmp/hail.fDj73JEwV5cC/A894GQPueT\n"
     ]
    }
   ],
   "source": [
    "pruned_t = hl.ld_prune(mt_common.GT, r2 = 0.5, bp_window_size = 500000)\n"
   ]
  },
  {
   "cell_type": "markdown",
   "metadata": {},
   "source": [
    "After pruning, 1.129.238 variants"
   ]
  },
  {
   "cell_type": "code",
   "execution_count": 16,
   "metadata": {},
   "outputs": [],
   "source": [
    "mt_pruned = mt_common.filter_rows(hl.is_defined(pruned_t[mt_common.row_key]))"
   ]
  },
  {
   "cell_type": "markdown",
   "metadata": {},
   "source": [
    "### 5.3 Eigenvalues and PC scores"
   ]
  },
  {
   "cell_type": "code",
   "execution_count": 22,
   "metadata": {},
   "outputs": [
    {
     "name": "stderr",
     "output_type": "stream",
     "text": [
      "2019-05-29 14:12:49 Hail: INFO: hwe_normalized_pca: running PCA using 1129328 variants.\n",
      "2019-05-29 14:12:57 Hail: INFO: pca: running PCA with 10 components...\n",
      "2019-05-29 14:14:40 Hail: INFO: Coerced sorted dataset\n"
     ]
    }
   ],
   "source": [
    "eigenvalues, scores, loadings = hl.hwe_normalized_pca(\n",
    "    mt_common.GT, k = 10, compute_loadings = True)"
   ]
  },
  {
   "cell_type": "code",
   "execution_count": 23,
   "metadata": {},
   "outputs": [
    {
     "name": "stdout",
     "output_type": "stream",
     "text": [
      "[159.4295821415391,\n",
      " 2.2998149072116423,\n",
      " 1.5611533801079325,\n",
      " 1.541044253018341,\n",
      " 1.539295927454413,\n",
      " 1.5305640925963002,\n",
      " 1.5201277241750528,\n",
      " 1.5061649330313953,\n",
      " 1.5019689834918581,\n",
      " 1.4970116493813483]\n"
     ]
    }
   ],
   "source": [
    "pprint(eigenvalues)"
   ]
  },
  {
   "cell_type": "code",
   "execution_count": 24,
   "metadata": {},
   "outputs": [
    {
     "name": "stdout",
     "output_type": "stream",
     "text": [
      "+-------------+\n",
      "| s           |\n",
      "+-------------+\n",
      "| str         |\n",
      "+-------------+\n",
      "| \"NWD100295\" |\n",
      "| \"NWD100314\" |\n",
      "| \"NWD100651\" |\n",
      "| \"NWD101660\" |\n",
      "| \"NWD101749\" |\n",
      "+-------------+\n",
      "\n",
      "+--------------------------------------------------------------------------------------------------+\n",
      "| scores                                                                                           |\n",
      "+--------------------------------------------------------------------------------------------------+\n",
      "| array<float64>                                                                                   |\n",
      "+--------------------------------------------------------------------------------------------------+\n",
      "| [-1.86e-01,-5.56e-05,4.23e-02,-1.55e-03,7.69e-02,-2.23e-02,2.51e-02,-3.92e-02,-2.72e-02,2.80e... |\n",
      "| [3.00e-01,1.97e-02,8.74e-03,-5.86e-03,-1.35e-03,-4.46e-03,-3.85e-03,3.63e-03,-4.71e-03,-7.09e... |\n",
      "| [-2.81e-01,5.02e-03,-8.55e-02,-5.37e-02,1.97e-02,4.75e-02,-1.84e-02,-7.98e-02,-3.07e-02,-4.28... |\n",
      "| [2.99e-01,5.96e-03,-7.30e-03,-2.37e-03,-4.89e-03,-2.65e-03,-2.55e-03,6.91e-03,4.35e-03,-1.59e... |\n",
      "| [-2.65e-01,6.00e-03,7.31e-02,-3.16e-03,-3.66e-02,1.89e-02,-8.00e-03,1.03e-01,5.99e-02,7.53e-02]  |\n",
      "+--------------------------------------------------------------------------------------------------+\n",
      "showing top 5 rows\n",
      "\n"
     ]
    }
   ],
   "source": [
    "scores.show(5, width = 100)"
   ]
  },
  {
   "cell_type": "code",
   "execution_count": 25,
   "metadata": {},
   "outputs": [],
   "source": [
    "mt = mt.annotate_cols(scores = scores[mt.s].scores) "
   ]
  },
  {
   "cell_type": "code",
   "execution_count": 38,
   "metadata": {},
   "outputs": [
    {
     "name": "stderr",
     "output_type": "stream",
     "text": [
      "2019-05-29 14:30:13 Hail: INFO: Coerced sorted dataset\n"
     ]
    },
    {
     "data": {
      "text/html": [
       "\n",
       "\n",
       "\n",
       "\n",
       "\n",
       "\n",
       "  <div class=\"bk-root\" id=\"cfd846e2-ce7d-4674-b4ab-c7b7b5ed3c00\"></div>\n"
      ]
     },
     "metadata": {},
     "output_type": "display_data"
    },
    {
     "data": {
      "application/javascript": [
       "(function(root) {\n",
       "  function embed_document(root) {\n",
       "    \n",
       "  var docs_json = {\"9cf01df4-b8a6-4473-850a-4da16a48981e\":{\"roots\":{\"references\":[{\"attributes\":{\"label\":{\"field\":\"label\"},\"renderers\":[{\"id\":\"3dcb144a-7cd6-4a5b-b398-65bafac68c48\",\"type\":\"GlyphRenderer\"}]},\"id\":\"f7d29381-ffd4-4b7a-9f27-403b00bfcc08\",\"type\":\"LegendItem\"},{\"attributes\":{},\"id\":\"27a70cfa-e175-452a-9f30-6fef00e39764\",\"type\":\"BasicTickFormatter\"},{\"attributes\":{\"data_source\":{\"id\":\"9011d1a9-ccef-4110-9959-f4405a282953\",\"type\":\"ColumnDataSource\"},\"glyph\":{\"id\":\"0ef606d8-d922-4ade-b752-b8a5319791f9\",\"type\":\"Circle\"},\"hover_glyph\":null,\"muted_glyph\":null,\"nonselection_glyph\":{\"id\":\"099e4a15-caa5-43ac-affa-6168f3af021b\",\"type\":\"Circle\"},\"selection_glyph\":null,\"view\":{\"id\":\"e808aaa6-1deb-4e78-a00f-97a3834277e3\",\"type\":\"CDSView\"}},\"id\":\"3dcb144a-7cd6-4a5b-b398-65bafac68c48\",\"type\":\"GlyphRenderer\"},{\"attributes\":{},\"id\":\"8a3596a5-6857-4218-ba38-d5af114de55b\",\"type\":\"BasicTickFormatter\"},{\"attributes\":{\"items\":[{\"id\":\"f7d29381-ffd4-4b7a-9f27-403b00bfcc08\",\"type\":\"LegendItem\"}],\"plot\":{\"id\":\"648740a0-d7ff-445d-a1c7-873952cb7bdc\",\"subtype\":\"Figure\",\"type\":\"Plot\"}},\"id\":\"dc01af9c-846e-41de-8a12-a5216c93836a\",\"type\":\"Legend\"},{\"attributes\":{},\"id\":\"fcedd168-7f0e-409f-9ca5-045126c40d1c\",\"type\":\"ResetTool\"},{\"attributes\":{},\"id\":\"955ad832-5c05-4b4c-b863-d0c1070741c4\",\"type\":\"HelpTool\"},{\"attributes\":{\"overlay\":{\"id\":\"80cfa6ae-4f0a-4182-8119-7b3639154d6c\",\"type\":\"BoxAnnotation\"}},\"id\":\"4644270a-936a-4255-9aa6-481d05b812c7\",\"type\":\"BoxZoomTool\"},{\"attributes\":{},\"id\":\"3dbf4af9-7db0-4bff-8863-4783cc87cbf4\",\"type\":\"SaveTool\"},{\"attributes\":{},\"id\":\"ff212873-bb55-4bf1-8407-52433a68b1fd\",\"type\":\"WheelZoomTool\"},{\"attributes\":{\"source\":{\"id\":\"9011d1a9-ccef-4110-9959-f4405a282953\",\"type\":\"ColumnDataSource\"}},\"id\":\"e808aaa6-1deb-4e78-a00f-97a3834277e3\",\"type\":\"CDSView\"},{\"attributes\":{\"callback\":null,\"data\":{\"label\":[\"Caucasian\",\"African American\",\"African American\",\"African American\",\"African American\",\"Caucasian\",\"Caucasian\",\"Caucasian\",\"Caucasian\",\"Caucasian\",\"Caucasian\",\"African American\",\"African American\",\"Caucasian\",\"African American\",\"African American\",\"African American\",\"Caucasian\",\"African American\",\"African American\",\"African American\",\"African American\",\"African American\",\"African American\",\"Caucasian\",\"Caucasian\",\"Caucasian\",\"African American\",\"African American\",\"Caucasian\",\"Caucasian\",\"Caucasian\",\"African American\",\"African American\",\"African American\",\"African American\",\"Caucasian\",\"Caucasian\",\"African American\",\"African American\",\"African American\",\"African American\",\"African American\",\"Caucasian\",\"Caucasian\",\"African American\",\"African American\",\"Caucasian\",\"Caucasian\",\"Caucasian\",\"Caucasian\",\"Caucasian\",\"African American\",\"African American\",\"African American\",\"African American\",\"African American\",\"African American\",\"Caucasian\",\"Caucasian\",\"Caucasian\",\"African American\",\"Caucasian\",\"African American\",\"Caucasian\",\"African American\",\"African American\",\"African American\",\"African American\",\"Caucasian\",\"African American\",\"Caucasian\",\"Caucasian\",\"Caucasian\",\"African American\",\"African American\",\"African American\",\"Caucasian\",\"African American\",\"Caucasian\",\"Caucasian\",\"African American\",\"African American\",\"Caucasian\",\"Caucasian\",\"Caucasian\",\"African American\",\"African American\",\"African American\",\"African American\",\"African American\",\"African American\",\"African American\",\"Caucasian\",\"African American\",\"Caucasian\",\"African American\",\"African American\",\"Caucasian\",\"Caucasian\",\"African American\",\"Caucasian\",\"African American\",\"Caucasian\",\"Caucasian\",\"Caucasian\",\"Caucasian\",\"Caucasian\",\"Caucasian\",\"African American\",\"African American\",\"African American\",\"Caucasian\",\"Caucasian\",\"African American\",\"Caucasian\",\"African American\",\"Caucasian\",\"African American\",\"Caucasian\",\"African American\",\"Caucasian\",\"Caucasian\",\"Caucasian\",\"African American\",\"Caucasian\",\"Caucasian\",\"African American\",\"African American\",\"African American\",\"African American\",\"Caucasian\",\"Caucasian\",\"Caucasian\",\"Caucasian\",\"African American\",\"Caucasian\",\"African American\",\"African American\",\"Caucasian\",\"African American\",\"African American\",\"Caucasian\",\"African American\",\"African American\",\"African American\",\"Caucasian\",\"Caucasian\",\"African American\",\"Caucasian\",\"African American\",\"African American\",\"African American\",\"African American\",\"Caucasian\",\"African American\",\"African American\",\"African American\",\"African American\",\"Caucasian\",\"African American\",\"Caucasian\",\"Caucasian\",\"African American\",\"Caucasian\",\"African American\",\"African American\",\"African American\",\"Caucasian\",\"African American\",\"African American\",\"African American\",\"African American\",\"Caucasian\",\"African American\",\"African American\",\"African American\",\"African American\",\"Caucasian\",\"African American\",\"African American\",\"African American\",\"Caucasian\",\"Caucasian\",\"African American\",\"Caucasian\",\"Caucasian\",\"African American\",\"African American\",\"African American\",\"African American\",\"African American\",\"African American\",\"African American\",\"African American\",\"Caucasian\",\"African American\",\"Caucasian\",\"African American\",\"African American\",\"Caucasian\",\"African American\",\"Caucasian\",\"Caucasian\",\"African American\",\"African American\",\"Caucasian\",\"African American\",\"African American\",\"African American\",\"Caucasian\",\"Caucasian\",\"Caucasian\",\"Caucasian\",\"Caucasian\",\"African American\",\"African American\",\"Caucasian\",\"African American\",\"Caucasian\",\"African American\",\"African American\",\"Caucasian\",\"African American\",\"Caucasian\",\"Caucasian\",\"Caucasian\",\"African American\",\"African American\",\"African American\",\"Caucasian\",\"African American\",\"Caucasian\",\"Caucasian\",\"Caucasian\",\"Caucasian\",\"Caucasian\",\"African American\",\"Caucasian\",\"Caucasian\",\"African American\",\"Caucasian\",\"African American\",\"Caucasian\",\"African American\",\"Caucasian\",\"African American\",\"African American\",\"African American\",\"African American\",\"African American\",\"African American\",\"Caucasian\",\"African American\",\"Caucasian\",\"Caucasian\",\"African American\",\"African American\",\"African American\",\"African American\",\"Caucasian\",\"African American\",\"African American\",\"African American\",\"African American\",\"Caucasian\",\"African American\",\"African American\",\"Caucasian\",\"Caucasian\",\"Caucasian\",\"Caucasian\",\"Caucasian\",\"Caucasian\",\"African American\",\"Caucasian\",\"Caucasian\",\"Caucasian\",\"African American\",\"African American\",\"African American\",\"Caucasian\",\"African American\",\"African American\",\"African American\",\"Caucasian\",\"Caucasian\",\"African American\",\"Caucasian\",\"African American\",\"Caucasian\",\"African American\",\"Caucasian\",\"African American\",\"African American\",\"Caucasian\",\"Caucasian\",\"Caucasian\",\"Caucasian\",\"Caucasian\",\"African American\",\"African American\",\"Caucasian\",\"Caucasian\",\"Caucasian\",\"African American\",\"Caucasian\",\"African American\",\"African American\",\"African American\",\"Caucasian\",\"African American\",\"African American\",\"African American\",\"Caucasian\",\"African American\",\"Caucasian\",\"African American\",\"African American\",\"African American\",\"African American\",\"African American\",\"African American\",\"Caucasian\",\"Caucasian\",\"African American\",\"African American\",\"African American\",\"African American\",\"Caucasian\",\"Caucasian\",\"African American\",\"African American\",\"Caucasian\",\"African American\",\"Caucasian\",\"Caucasian\",\"African American\",\"African American\",\"African American\",\"African American\",\"African American\",\"African American\",\"Caucasian\",\"Caucasian\",\"African American\",\"African American\",\"African American\",\"African American\",\"African American\",\"Caucasian\",\"African American\",\"Caucasian\",\"African American\",\"African American\",\"African American\",\"African American\",\"Caucasian\",\"Caucasian\",\"African American\",\"African American\",\"African American\",\"African American\",\"Caucasian\",\"African American\",\"African American\",\"African American\",\"African American\",\"Caucasian\",\"African American\",\"African American\",\"African American\",\"African American\",\"African American\",\"Caucasian\",\"Caucasian\",\"Caucasian\",\"African American\",\"Caucasian\",\"Caucasian\",\"African American\",\"African American\",\"Caucasian\",\"African American\",\"African American\",\"Caucasian\",\"African American\",\"African American\",\"African American\",\"African American\",\"Caucasian\",\"African American\",\"Caucasian\",\"African American\",\"Caucasian\",\"African American\",\"African American\",\"African American\",\"Caucasian\",\"African American\",\"Caucasian\",\"Caucasian\",\"African American\",\"Caucasian\",\"African American\",\"African American\",\"Caucasian\",\"African American\",\"African American\",\"Caucasian\",\"Caucasian\",\"Caucasian\",\"Caucasian\",\"African American\",\"African American\",\"Caucasian\",\"African American\",\"Caucasian\",\"Caucasian\",\"African American\",\"Caucasian\",\"Caucasian\",\"African American\",\"Caucasian\",\"Caucasian\",\"African American\",\"African American\",\"Caucasian\",\"African American\",\"Caucasian\",\"African American\",\"Caucasian\",\"Caucasian\",\"Caucasian\",\"Caucasian\",\"African American\",\"African American\",\"African American\",\"African American\",\"African American\",\"African American\",\"Caucasian\",\"Caucasian\",\"Caucasian\",\"Caucasian\",\"African American\",\"Caucasian\",\"Caucasian\",\"African American\",\"African American\",\"Caucasian\",\"African American\",\"African American\",\"Caucasian\",\"African American\",\"African American\",\"African American\",\"African American\",\"Caucasian\",\"African American\",\"African American\",\"Caucasian\",\"Caucasian\",\"African American\",\"African American\",\"African American\",\"Caucasian\",\"African American\",\"Caucasian\",\"Caucasian\",\"Caucasian\",\"Caucasian\",\"African American\",\"Caucasian\",\"Caucasian\",\"Caucasian\",\"African American\",\"Caucasian\",\"African American\",\"African American\",\"African American\",\"African American\",\"Caucasian\",\"Caucasian\",\"African American\",\"Caucasian\",\"Caucasian\",\"African American\",\"Caucasian\",\"African American\",\"African American\",\"African American\",\"Caucasian\",\"Caucasian\",\"African American\",\"African American\",\"African American\",\"African American\",\"Caucasian\",\"African American\",\"Caucasian\",\"African American\",\"African American\",\"Caucasian\",\"African American\",\"African American\",\"Caucasian\",\"African American\",\"African American\",\"Caucasian\",\"African American\",\"Caucasian\",\"Caucasian\",\"African American\",\"African American\",\"African American\",\"African American\",\"African American\",\"Caucasian\",\"Caucasian\",\"African American\",\"Caucasian\",\"African American\",\"Caucasian\",\"Caucasian\",\"Caucasian\",\"Caucasian\",\"African American\",\"Caucasian\",\"African American\",\"African American\",\"African American\",\"African American\",\"African American\",\"African American\",\"Caucasian\",\"African American\",\"African American\",\"Caucasian\",\"African American\",\"Caucasian\",\"African American\",\"Caucasian\",\"African American\",\"African American\",\"African American\",\"Caucasian\",\"Caucasian\",\"African American\",\"Caucasian\",\"Caucasian\",\"African American\",\"African American\",\"African American\",\"African American\",\"Caucasian\",\"African American\",\"Caucasian\",\"African American\",\"Caucasian\",\"African American\",\"African American\",\"African American\",\"African American\",\"African American\",\"African American\",\"Caucasian\",\"African American\",\"African American\",\"Caucasian\",\"Caucasian\",\"African American\",\"Caucasian\",\"African American\",\"Caucasian\",\"Caucasian\",\"Caucasian\",\"Caucasian\",\"Caucasian\",\"African American\",\"African American\",\"Caucasian\",\"Caucasian\",\"African American\",\"Caucasian\",\"African American\",\"Caucasian\",\"African American\",\"Caucasian\",\"Caucasian\",\"African American\",\"African American\",\"Caucasian\",\"Caucasian\",\"African American\",\"Caucasian\",\"African American\",\"African American\",\"Caucasian\",\"Caucasian\",\"Caucasian\",\"Caucasian\",\"Caucasian\",\"African American\",\"African American\",\"Caucasian\",\"African American\",\"Caucasian\",\"African American\",\"African American\",\"Caucasian\",\"African American\",\"Caucasian\",\"Caucasian\",\"Caucasian\",\"Caucasian\",\"Caucasian\",\"Caucasian\",\"African American\",\"Caucasian\",\"African American\",\"African American\",\"African American\",\"Caucasian\",\"Caucasian\",\"African American\",\"African American\",\"African American\",\"Caucasian\",\"Caucasian\",\"Caucasian\",\"Caucasian\",\"Caucasian\",\"African American\",\"African American\",\"African American\",\"African American\",\"African American\",\"Caucasian\",\"Caucasian\",\"Caucasian\",\"Caucasian\",\"Caucasian\",\"African American\",\"Caucasian\",\"African American\",\"African American\",\"Caucasian\",\"Caucasian\",\"Caucasian\",\"African American\",\"African American\",\"Caucasian\",\"Caucasian\",\"African American\",\"Caucasian\",\"Caucasian\",\"Caucasian\",\"African American\",\"African American\",\"Caucasian\",\"African American\",\"African American\",\"African American\",\"Caucasian\",\"Caucasian\",\"African American\",\"African American\",\"Caucasian\",\"African American\",\"African American\",\"African American\",\"African American\",\"Caucasian\",\"Caucasian\",\"Caucasian\",\"African American\",\"African American\",\"Caucasian\",\"Caucasian\",\"Caucasian\",\"Caucasian\",\"Caucasian\",\"African American\",\"Caucasian\",\"African American\",\"Caucasian\",\"Caucasian\",\"African American\",\"Caucasian\",\"Caucasian\",\"African American\",\"African American\",\"Caucasian\",\"Caucasian\",\"Caucasian\",\"Caucasian\",\"African American\",\"Caucasian\",\"African American\",\"Caucasian\",\"Caucasian\",\"African American\",\"African American\",\"Caucasian\",\"African American\",\"Caucasian\",\"Caucasian\",\"Caucasian\",\"Caucasian\",\"Caucasian\",\"Caucasian\",\"Caucasian\",\"African American\",\"Caucasian\",\"African American\",\"Caucasian\",\"African American\",\"African American\",\"African American\",\"African American\",\"Caucasian\",\"African American\",\"African American\",\"Caucasian\",\"African American\",\"Caucasian\",\"African American\",\"African American\",\"African American\",\"Caucasian\",\"Caucasian\",\"African American\",\"African American\",\"Caucasian\",\"African American\",\"Caucasian\",\"African American\",\"African American\",\"Caucasian\",\"African American\",\"African American\",\"African American\",\"African American\",\"African American\",\"Caucasian\",\"Caucasian\",\"African American\",\"African American\",\"African American\",\"Caucasian\",\"Caucasian\",\"African American\",\"African American\",\"Caucasian\",\"African American\",\"African American\",\"African American\",\"Caucasian\",\"Caucasian\",\"Caucasian\",\"Caucasian\",\"African American\",\"African American\",\"African American\",\"African American\",\"Caucasian\",\"Caucasian\",\"Caucasian\",\"African American\",\"African American\",\"African American\",\"African American\",\"African American\",\"Caucasian\",\"African American\",\"African American\",\"African American\",\"Caucasian\",\"African American\",\"Caucasian\",\"African American\",\"Caucasian\",\"Caucasian\",\"African American\",\"Caucasian\",\"Caucasian\",\"Caucasian\",\"African American\",\"African American\",\"Caucasian\",\"African American\",\"Caucasian\",\"African American\",\"Caucasian\",\"African American\",\"African American\",\"African American\",\"African American\",\"African American\",\"Caucasian\",\"African American\",\"African American\",\"African American\",\"Caucasian\",\"Caucasian\",\"African American\",\"African American\",\"African American\",\"African American\",\"Caucasian\",\"African American\",\"Caucasian\",\"African American\",\"Caucasian\",\"Caucasian\",\"African American\",\"Caucasian\",\"Caucasian\",\"African American\",\"Caucasian\",\"African American\",\"Caucasian\",\"African American\",\"Caucasian\",\"African American\",\"African American\",\"Caucasian\",\"Caucasian\",\"African American\",\"African American\",\"African American\",\"Caucasian\",\"Caucasian\",\"Caucasian\",\"African American\",\"Caucasian\",\"Caucasian\",\"African American\",\"Caucasian\",\"Caucasian\",\"Caucasian\",\"Caucasian\",\"African American\",\"African American\",\"Caucasian\",\"Caucasian\",\"Caucasian\",\"Caucasian\",\"African American\",\"Caucasian\",\"Caucasian\",\"Caucasian\",\"Caucasian\",\"Caucasian\",\"Caucasian\",\"African American\",\"Caucasian\",\"African American\",\"Caucasian\",\"African American\",\"African American\",\"Caucasian\",\"Caucasian\",\"Caucasian\",\"African American\",\"African American\",\"Caucasian\",\"African American\",\"African American\",\"African American\",\"African American\",\"African American\",\"African American\",\"African American\",\"Caucasian\",\"African American\",\"Caucasian\",\"African American\",\"African American\",\"Caucasian\",\"African American\",\"African American\",\"African American\",\"African American\",\"African American\",\"African American\",\"Caucasian\",\"Caucasian\",\"Caucasian\",\"Caucasian\",\"Caucasian\",\"African American\",\"African American\",\"African American\",\"African American\",\"Caucasian\",\"African American\",\"African American\",\"African American\",\"Caucasian\",\"Caucasian\",\"African American\",\"Caucasian\",\"Caucasian\",\"African American\",\"Caucasian\",\"African American\",\"Caucasian\",\"African American\",\"Caucasian\",\"African American\",\"Caucasian\",\"African American\",\"African American\",\"African American\",\"Caucasian\",\"African American\",\"Caucasian\",\"African American\",\"Caucasian\",\"African American\",\"Caucasian\",\"Caucasian\",\"African American\",\"African American\",\"Caucasian\",\"Caucasian\",\"Caucasian\",\"Caucasian\",\"Caucasian\",\"African American\",\"African American\",\"Caucasian\",\"African American\",\"African American\",\"Caucasian\",\"Caucasian\",\"Caucasian\",\"African American\",\"African American\",\"African American\",\"African American\",\"African American\",\"African American\",\"African American\",\"Caucasian\",\"African American\",\"Caucasian\",\"African American\",\"Caucasian\",\"African American\",\"Caucasian\",\"African American\",\"Caucasian\",\"African American\",\"African American\",\"Caucasian\",\"Caucasian\",\"African American\",\"Caucasian\",\"Caucasian\",\"African American\",\"Caucasian\",\"African American\",\"African American\",\"Caucasian\",\"African American\",\"African American\",\"Caucasian\",\"Caucasian\",\"African American\",\"Caucasian\",\"African American\",\"African American\",\"African American\",\"Caucasian\",\"African American\",\"African American\",\"African American\",\"Caucasian\",\"African American\",\"African American\",\"African American\",\"African American\",\"African American\",\"Caucasian\",\"African American\",\"African American\",\"Caucasian\",\"Caucasian\",\"Caucasian\",\"African American\",\"African American\",\"African American\",\"African American\",\"Caucasian\",\"African American\",\"Caucasian\",\"Caucasian\",\"Caucasian\",\"African American\",\"African American\",\"Caucasian\",\"African American\",\"African American\",\"African American\",\"Caucasian\",\"African American\",\"African American\",\"African American\",\"African American\",\"African American\",\"African American\",\"African American\",\"African American\",\"African American\",\"Caucasian\",\"African American\",\"Caucasian\",\"African American\",\"Caucasian\",\"African American\",\"Caucasian\",\"African American\",\"Caucasian\",\"African American\",\"Caucasian\",\"African American\",\"African American\",\"Caucasian\",\"African American\",\"Caucasian\",\"African American\",\"African American\",\"African American\",\"Caucasian\",\"Caucasian\",\"Caucasian\",\"African American\",\"Caucasian\",\"Caucasian\",\"African American\",\"African American\",\"Caucasian\",\"Caucasian\",\"African American\",\"African American\",\"Caucasian\",\"Caucasian\",\"Caucasian\",\"African American\",\"African American\",\"African American\",\"African American\",\"Caucasian\",\"Caucasian\",\"African American\",\"Caucasian\",\"Caucasian\",\"African American\",\"Caucasian\",\"Caucasian\",\"Caucasian\",\"African American\",\"Caucasian\",\"African American\",\"Caucasian\",\"Caucasian\",\"Caucasian\",\"African American\",\"African American\",\"African American\",\"Caucasian\",\"African American\",\"African American\",\"African American\",\"African American\",\"Caucasian\",\"Caucasian\",\"African American\",\"African American\",\"African American\",\"Caucasian\",\"African American\",\"African American\",\"Caucasian\",\"Caucasian\",\"Caucasian\",\"Caucasian\",\"African American\",\"African American\",\"African American\",\"Caucasian\",\"African American\",\"African American\",\"Caucasian\",\"Caucasian\",\"Caucasian\",\"Caucasian\",\"Caucasian\",\"Caucasian\",\"African American\",\"Caucasian\",\"Caucasian\",\"Caucasian\",\"African American\",\"Caucasian\",\"African American\",\"Caucasian\",\"African American\",\"Caucasian\",\"African American\",\"Caucasian\",\"Caucasian\",\"African American\",\"Caucasian\",\"African American\",\"African American\",\"Caucasian\",\"Caucasian\",\"African American\",\"African American\",\"African American\",\"African American\",\"African American\",\"Caucasian\",\"African American\",\"Caucasian\",\"African American\",\"African American\",\"Caucasian\",\"African American\",\"African American\",\"African American\",\"Caucasian\",\"African American\",\"African American\",\"Caucasian\",\"Caucasian\",\"African American\",\"Caucasian\",\"African American\",\"African American\",\"African American\",\"African American\",\"Caucasian\",\"Caucasian\",\"African American\",\"African American\",\"African American\",\"Caucasian\",\"African American\",\"Caucasian\",\"African American\",\"African American\",\"African American\",\"Caucasian\",\"African American\",\"Caucasian\",\"Caucasian\",\"African American\",\"African American\",\"African American\",\"Caucasian\",\"Caucasian\",\"African American\",\"African American\",\"African American\",\"African American\",\"Caucasian\",\"African American\",\"Caucasian\",\"African American\",\"Caucasian\",\"Caucasian\",\"Caucasian\",\"African American\",\"African American\",\"Caucasian\",\"African American\",\"Caucasian\",\"African American\",\"African American\",\"Caucasian\",\"African American\",\"Caucasian\",\"African American\",\"Caucasian\",\"African American\",\"African American\",\"African American\",\"Caucasian\",\"African American\",\"African American\",\"Caucasian\",\"African American\",\"African American\",\"African American\",\"Caucasian\",\"Caucasian\",\"Caucasian\",\"African American\",\"African American\",\"Caucasian\",\"Caucasian\",\"Caucasian\",\"African American\",\"African American\",\"African American\",\"African American\",\"Caucasian\",\"Caucasian\",\"African American\",\"Caucasian\",\"African American\",\"African American\",\"African American\",\"Caucasian\",\"African American\",\"African American\",\"African American\",\"African American\",\"African American\",\"African American\",\"African American\",\"African American\",\"African American\",\"African American\",\"Caucasian\",\"Caucasian\",\"Caucasian\",\"Caucasian\",\"African American\",\"Caucasian\",\"African American\",\"African American\",\"African American\",\"Caucasian\",\"Caucasian\",\"African American\",\"African American\",\"African American\",\"African American\",\"Caucasian\",\"Caucasian\",\"African American\",\"Caucasian\",\"African American\",\"African American\",\"African American\",\"African American\",\"African American\",\"Caucasian\",\"African American\",\"Caucasian\",\"African American\",\"Caucasian\",\"Caucasian\",\"African American\",\"Caucasian\",\"Caucasian\",\"Caucasian\",\"African American\",\"Caucasian\",\"Caucasian\",\"African American\",\"African American\",\"African American\",\"Caucasian\",\"African American\",\"Caucasian\",\"Caucasian\",\"African American\",\"African American\",\"Caucasian\",\"African American\",\"Caucasian\",\"Caucasian\",\"African American\",\"African American\",\"Caucasian\",\"Caucasian\",\"African American\",\"African American\",\"Caucasian\",\"African American\",\"Caucasian\",\"African American\",\"African American\",\"African American\",\"African American\",\"African American\",\"Caucasian\",\"African American\",\"Caucasian\",\"African American\",\"Caucasian\",\"Caucasian\",\"Caucasian\",\"Caucasian\",\"Caucasian\",\"African American\",\"Caucasian\",\"Caucasian\",\"African American\",\"African American\",\"African American\",\"African American\",\"Caucasian\",\"African American\",\"Caucasian\",\"African American\",\"Caucasian\",\"African American\",\"Caucasian\",\"African American\",\"African American\",\"Caucasian\",\"Caucasian\",\"African American\",\"African American\",\"Caucasian\",\"Caucasian\",\"African American\",\"Caucasian\",\"African American\",\"Caucasian\",\"African American\",\"Caucasian\",\"Caucasian\",\"African American\",\"Caucasian\",\"Caucasian\",\"Caucasian\",\"African American\",\"African American\",\"African American\",\"African American\",\"Caucasian\",\"African American\",\"Caucasian\",\"Caucasian\",\"African American\",\"African American\",\"African American\",\"African American\",\"Caucasian\",\"Caucasian\",\"Caucasian\",\"African American\",\"African American\",\"Caucasian\",\"Caucasian\",\"Caucasian\",\"Caucasian\",\"Caucasian\",\"African American\",\"African American\",\"African American\",\"African American\",\"Caucasian\",\"African American\",\"African American\",\"African American\",\"Caucasian\",\"Caucasian\",\"Caucasian\",\"African American\",\"African American\",\"Caucasian\",\"Caucasian\",\"African American\",\"Caucasian\",\"African American\",\"African American\",\"African American\",\"African American\",\"Caucasian\",\"Caucasian\",\"African American\",\"African American\",\"African American\",\"African American\",\"African American\",\"Caucasian\",\"African American\",\"Caucasian\",\"African American\",\"Caucasian\",\"African American\",\"African American\",\"Caucasian\",\"African American\",\"Caucasian\",\"Caucasian\",\"Caucasian\",\"Caucasian\",\"Caucasian\",\"African American\",\"Caucasian\",\"Caucasian\",\"Caucasian\",\"Caucasian\",\"African American\",\"African American\",\"Caucasian\",\"Caucasian\",\"Caucasian\",\"Caucasian\",\"African American\",\"Caucasian\",\"African American\",\"Caucasian\",\"Caucasian\",\"Caucasian\",\"African American\",\"Caucasian\",\"Caucasian\",\"Caucasian\",\"African American\",\"Caucasian\",\"African American\",\"Caucasian\",\"African American\",\"Caucasian\",\"African American\",\"African American\",\"African American\",\"Caucasian\",\"African American\",\"African American\",\"Caucasian\",\"Caucasian\",\"Caucasian\",\"African American\",\"African American\",\"African American\",\"African American\",\"African American\",\"Caucasian\",\"African American\",\"Caucasian\",\"African American\",\"African American\",\"African American\",\"African American\",\"African American\",\"African American\",\"African American\",\"African American\",\"Caucasian\",\"African American\",\"Caucasian\",\"African American\",\"African American\",\"Caucasian\",\"African American\",\"Caucasian\",\"Caucasian\",\"Caucasian\",\"Caucasian\",\"African American\",\"African American\",\"African American\",\"African American\",\"African American\",\"Caucasian\",\"Caucasian\",\"African American\",\"Caucasian\",\"African American\",\"African American\",\"Caucasian\",\"African American\",\"African American\",\"Caucasian\",\"African American\",\"Caucasian\",\"African American\",\"African American\",\"African American\",\"Caucasian\",\"Caucasian\",\"Caucasian\",\"African American\",\"Caucasian\",\"Caucasian\",\"African American\",\"Caucasian\",\"Caucasian\",\"Caucasian\",\"African American\",\"African American\",\"African American\",\"African American\",\"African American\",\"Caucasian\",\"African American\",\"Caucasian\",\"African American\",\"Caucasian\",\"Caucasian\",\"African American\",\"Caucasian\",\"Caucasian\",\"Caucasian\",\"African American\",\"Caucasian\",\"Caucasian\",\"African American\",\"African American\",\"Caucasian\",\"African American\",\"Caucasian\",\"Caucasian\",\"Caucasian\",\"Caucasian\",\"Caucasian\",\"African American\",\"African American\",\"African American\",\"African American\",\"African American\",\"African American\",\"African American\",\"African American\",\"African American\",\"African American\",\"African American\",\"Caucasian\",\"African American\",\"African American\",\"Caucasian\",\"African American\",\"Caucasian\",\"African American\",\"Caucasian\",\"African American\",\"Caucasian\",\"African American\",\"Caucasian\",\"African American\",\"African American\",\"African American\",\"African American\",\"African American\"],\"x\":[0.3005230555954742,-0.0394104582693955,-0.3160522580467989,-0.311445938967336,-0.31866972157987467,0.3024366637525038,0.30327304740017724,0.30134181289642037,0.3001298750709784,0.28618517016556816,0.30221378197725435,-0.15234339233348346,-0.3222060558806395,0.30212804591543985,-0.39121591086383756,-0.3987790810940039,-0.31706186174214784,0.29860636078208497,-0.3164857518047649,-0.20147675275554705,-0.38655366165605315,-0.33138467272452843,-0.21651229338732658,-0.4028655559182716,0.29747575464146336,0.3007769557902452,0.30120646157738973,-0.30773896288089964,-0.34190486415277965,0.2986424215544144,0.272232695551214,0.3020963942928049,-0.26243866606481825,-0.23794641582253565,-0.2846975279962203,-0.24574122183071645,0.2705027964112977,0.30016322990142774,-0.35678434697134614,-0.22460432808258715,-0.22903077165951335,-0.3053603243713188,-0.33915144297758987,0.30046843439261406,0.3040039157860308,-0.2766020697649368,-0.3176529989006207,0.29002381676741956,0.3013178283382481,0.2957977013912851,0.3037388383037961,0.3039431464306087,-0.08393890646863936,-0.3102832336992564,-0.28766818307861813,-0.2183324747661306,-0.20938355892739216,-0.37473889750708633,0.30544488321014174,0.3032341133064318,0.3032702339499729,-0.3748143374461958,0.2994607734343478,-0.3729978881222268,0.30136319500033354,-0.3346367791884922,-0.28414056883610195,-0.3715266564639333,-0.31484114574845024,0.30170509553017233,-0.3021536074430064,0.2734101821413905,0.30098766793799553,0.2803876318744878,-0.3851442941627513,-0.33048400041300047,-0.2992393792580478,0.19933480494423578,-0.19917589265091845,0.2998923933868002,0.28662745404636936,-0.32049576038132577,-0.248900659532293,0.28402098129057823,0.30160322876525625,0.3030006420202787,-0.21495500260463513,-0.37953588794341336,-0.31279853930722,-0.4176351606412612,-0.34744773183301125,-0.41559518403842544,-0.16290211026969603,0.29713914940670183,-0.3414910853599532,0.30478869356394045,-0.3553406891919362,-0.3293889592208942,0.280853728936621,0.30458389156784704,-0.33195752415887614,0.29215237319958764,-0.3635425716630727,0.2657680158795766,0.30415862210953337,0.2993627685489778,0.2994640492973834,0.29369119059410265,0.3034881971179382,-0.34613045872917314,-0.0652649340212192,-0.18262314036080957,0.3052263845133187,0.299556887651944,-0.3646760714674381,0.3048458806952961,-0.34120410618558733,0.30326318003382086,-0.2945050742228685,0.3029083169188036,-0.31652153802365285,0.2665353725023941,0.303184755323119,0.2634808782425828,-0.40790433896563866,0.3032074228849744,0.30339930090990813,-0.3695533657876886,-0.3365860711302231,-0.3334849161164753,-0.31347602914139044,0.29777967568492625,0.3055484244838916,0.3068465939088957,0.3020456331051312,-0.3069368490636445,0.27995158843475476,-0.378108715882528,-0.2950393045604976,0.29705869240602867,-0.2686659008667649,-0.321458095637195,0.3020342371947605,-0.3551571774652871,-0.19543973481363952,-0.30353455039323757,0.3027153679104897,0.3008745807269716,-0.18482139501426165,0.30227645889417987,-0.33404355883024067,-0.2815033364132112,-0.2826240708289643,-0.346799803375656,0.3009646530050154,-0.37557747956845555,-0.32131338151648303,-0.3105195847727735,-0.3200572072739983,0.28602682219003334,-0.23677210601223667,0.3027678482656315,0.3011439824832692,-0.28599140375232535,0.3043660475646722,-0.045438873498325316,-0.1415525561231476,-0.3905039118831364,0.28294667224393527,-0.2620595460546488,-0.3332065297274188,-0.2684321931598703,-0.3641117006097392,0.2608337196150491,-0.42733788938847905,-0.2893421707048292,-0.2898477482544396,-0.34601584515195055,0.29985524130507296,-0.311943097399441,-0.32126283736067934,-0.15557190903137683,0.2783359981940518,0.27629520451046835,-0.36730643951417513,0.29518569333527306,0.30360040940550576,-0.2645453894976674,-0.3143484486296944,-0.39117959320484763,-0.31635123700547213,-0.25321540977621715,-0.3499443506061841,-0.332906662684566,-0.3914788447790732,0.30532731384397044,-0.38898630148697405,0.3013918582983602,-0.09282310986019165,-0.33241945080600466,0.3033902799157371,-0.3959685763551961,0.3010958923922971,0.30663176781254514,-0.3474383352190422,-0.2971604202426935,0.29902994270745586,-0.32347603750557996,-0.3270097564995358,-0.3590104011487758,0.3043413140359886,0.27649832996728546,0.29966907062032616,0.290297655818321,0.30093277098354576,-0.33968957641679204,-0.355521338706218,0.2968624433508946,-0.3434303138449372,0.3036137215241781,-0.332114491574601,-0.3098445277573173,0.3023898570912092,-0.3225165636941837,0.2998562564275762,0.28451847874599834,0.30258093978946826,-0.29835965201004594,-0.3492381754599021,-0.34011784858834926,0.3015063443064802,-0.30876428718321974,0.3026112069118026,0.3024400571271882,0.24876990550086125,0.30252720254234616,0.266943407262333,-0.24314284971524208,0.29765092891688977,0.3038141017255479,-0.3965230769280443,0.30205967967384,-0.20075109773844627,0.29849880248990485,-0.2639721815077812,0.3023457086561248,-0.18973680778273,-0.3426944008073505,-0.2152611174651129,-0.36761391213759875,-0.3204539306651046,-0.2431801452554437,0.2981915543631771,-0.3372336864678221,0.3049041918416028,0.2691632779688273,0.008465728573573365,-0.38883520814853645,-0.35800174486031167,-0.2733852935541046,0.30363333974539936,-0.41216628752107365,-0.42392921003281253,-0.2440732830246869,-0.259517857131285,0.2970084095051699,-0.40386214662482295,-0.2738745416215053,0.30346411539986895,0.301493212408038,0.2998919857013208,0.2915613822803559,0.30123640929640855,0.3031862628343996,-0.23484138161998105,0.3041965887435787,0.27175192339934456,0.27462108166199956,-0.2897735744059328,-0.1061651878998711,-0.34376294473102076,0.30154363186587047,-0.2948222446379211,-0.3597979291373397,-0.23978004911711565,0.30254994893006637,0.29103039588801366,-0.3544717316447087,0.2848747412231442,-0.3094169016621204,0.29776542407040835,-0.11840069504834516,0.3054261756334946,-0.3792968181563979,-0.36599225225517973,0.2877153304418819,0.292935987917524,0.2659645631909327,0.30266770794544867,0.29889703452836086,-0.34583961439886735,-0.3530347146937302,0.30135246132871735,0.27035455825051996,0.26791847180082695,-0.23099182457335096,0.2932452312848493,-0.3685736053610988,-0.27355917322186984,-0.33686895495067637,0.30560021946414007,-0.11419412666706312,-0.2340368635877615,-0.35656613188335395,0.30132665108347556,-0.33648557554178415,0.3011383276976231,-0.23106009562680396,-0.21227624336562334,-0.37680926192518105,-0.22572880921778998,-0.28479286016698,-0.311534124367621,0.3039809993649256,0.30249817524913536,-0.2221199759181714,-0.28103075531614813,-0.31486619281391853,-0.3402307714511662,0.30167566970064946,0.3000117569764084,-0.3434686052367876,-0.34786153795326613,0.28425103051561507,-0.25553209261055687,0.29975055407220214,0.3031219609549246,-0.2637184516458892,-0.34105982506251165,-0.325684268754108,-0.3629058637581049,-0.3661651106278446,-0.2833429209253431,0.3053026411871236,0.26851823417495246,-0.3570641285170183,-0.3250264350016229,-0.3769378014137155,-0.405021731420954,-0.1468136888262776,0.301141990544518,-0.1370540921604781,0.3033443137613776,-0.16305050932025306,-0.23203908366274947,-0.38843825118615805,-0.2555468474358415,0.2836782285675529,0.3023330181275826,-0.3925713029058182,-0.3228289750192421,-0.30464685855732226,-0.35939033836114515,0.30188750438675044,-0.3572795891540808,-0.3073465907009802,-0.20006670552888864,-0.39361596103164226,0.29949968303913166,-0.275478759029087,-0.18639062285165248,-0.4132205769906318,-0.11556338449956885,-0.27782300642877594,0.3029179879507614,0.3046922408920647,0.3005511157621796,-0.3811817350009836,0.2929702534816192,0.303401958937798,-0.29102907721438726,-0.38657407066762367,0.2997543940336555,-0.2146448876926282,-0.3096897157662599,0.28998063142460123,-0.3817090929750613,-0.2089797460313455,-0.28737129702975833,-0.375295267262775,0.30170309055124794,-0.31380563932917216,0.3009213051670269,-0.28125003321033154,0.3000475371404537,-0.2512704785095044,-0.3286614019039005,-0.2703627834679963,0.26767346258934455,-0.028686334628194483,0.2954623599362008,0.3024461379908625,-0.33893137218868186,0.3048440327121586,-0.3270988127114179,-0.3051219415379685,0.30547959474128555,-0.30900241172823895,-0.33548211937097533,0.2658677779292511,0.3016539218623978,0.274653899967667,0.3048657974924768,-0.24911890253049052,-0.32616837775602153,0.3001346999278079,-0.21325252501040357,0.30293898080467124,0.29864210254291107,-0.23732646643920843,0.3013118104034583,0.2977268707113874,-0.19493626303808434,0.2674542595696067,0.30369750279156027,-0.312134875214151,-0.29831328404253704,0.3042505220317876,-0.17398277021130545,0.30022036919667155,-0.38938372791196896,0.3009138342989394,0.30286234032578035,0.2799560135987662,0.29295900251671514,-0.35704025487054447,-0.35580805446042135,-0.27776155268308805,-0.2898222887749243,-0.29875187256547736,-0.2869828839738945,0.302722726047559,0.29808698433572994,0.305113374120368,0.3011547095113215,-0.07981485695337569,0.30135773802412474,0.30506676770304475,-0.4069563586972992,-0.34504348129081913,0.3019083689732135,-0.3437195664377609,-0.350099616147886,0.3028796702795872,-0.27149718023365715,-0.21727092560761227,-0.18668902242451896,-0.28096962959302724,0.29760035790522354,-0.026291989689317605,-0.3041926697624986,0.2778843771878643,0.3032924925779083,-0.18770993282583143,-0.2287990775508266,-0.1744534255557846,0.3011522019820791,-0.2875555864682116,0.30020237469193467,0.29741728156815256,0.29289518030760686,0.299185718368264,-0.24604429974099173,0.298017983609579,0.2989072894335736,0.29994629071338336,-0.2768275045264613,0.30435695104321536,-0.3108198107754955,-0.3496900838584189,-0.3484706063019942,-0.25590125640635875,0.2949796335690819,0.30283642854217774,-0.3669894071069885,0.2730039812313045,0.291976325936712,-0.38200398184981305,0.302188826328566,-0.3058734710231062,-0.37881430370316327,-0.2881711390608146,0.3017714003814231,0.29496184088643934,-0.2879909240858765,-0.26380099312167654,-0.3098365216661943,-0.3648753376940689,0.3033367027473577,-0.2390974408621167,0.3016505901450168,-0.37536710687469665,-0.29834833691845825,0.30461550892436606,-0.16313034842877253,-0.2420423042206424,0.29946086662769444,-0.296336017783059,-0.15230872533270354,0.28801345408752377,-0.29555368625373063,0.3044764885561181,0.2984965035696158,-0.1925840918978921,-0.2990140036977867,-0.32179509793377065,-0.23934230894058003,-0.3319243760630835,0.2982914197861648,0.3036955455102546,-0.384354430486006,0.3028363246806433,-0.31958098636312804,0.30304419542829886,0.27154724637341426,0.3020806690908412,0.30147401938546853,-0.34784099464862167,0.29105911799887774,-0.3502696164060676,-0.29944398816012896,-0.2600661128512369,-0.23814457537650915,-0.366409230158128,-0.28708758457231565,0.30016481518107874,-0.3849634528830697,-0.34997608093932575,0.2652847949415855,-0.3125421616537998,0.30286435922222277,-0.3839146333689956,0.28751696040793795,-0.3344616534383123,-0.36333380083624056,-0.24119444128169595,0.29895539492758383,0.30078215024724775,-0.20802944479957325,0.3044075581417588,0.30399807461190403,-0.3403545620022739,-0.2210413461382202,-0.30766293702436404,-0.07588563927749506,0.30224353883346666,-0.043236098905918716,0.2849297789172886,-0.30813440913285145,0.29858998911938706,-0.340088962864596,-0.3160777525451416,-0.2731843892682558,-0.2573078035610995,-0.22728641054748036,-0.2887337321756996,0.30359421714853496,-0.32432322953498727,-0.32763287146049075,0.30669744780291214,0.29738265174776946,-0.3369888510497453,0.3036800186512921,-0.30813147750624237,0.30387354287375246,0.2898190232821004,0.3047548740297386,0.2961795311443689,0.3010099401933819,-0.4161412721171674,-0.37758597368406643,0.2990750563333823,0.29893834338909,-0.3301644106693615,0.29264408317111584,-0.2783305908268247,0.30241043978309146,-0.24425561280370892,0.3018621303331043,0.2821205660672115,-0.3263253993624199,-0.3442476123419428,0.2680901025632507,0.3000198344529312,-0.2630788863450011,0.30095714071722346,-0.3291757985219337,-0.23714541787592366,0.3008967464066608,0.3012756906955807,0.300121912434923,0.3038925754271558,0.30200820921267646,-0.3337719232601606,-0.053746189753591536,0.2692169374788537,-0.3079352610169467,0.29914293639983025,-0.3990937873958882,-0.33445391292318893,0.3009545539520984,-0.3503684241292019,0.2920032354363197,0.2994629881762662,0.3008689908769802,0.30186705487240906,0.3000841971821021,0.300283914766463,-0.3633713007611295,0.30076778103968715,-0.29528051876405914,-0.3523906328428628,-0.3033804099830703,0.3005324999170911,0.2987543711843552,-0.2905621323746522,-0.3531530943316586,-0.1931742227035813,0.3022827172432917,0.29616410747395455,0.29031777505768697,0.3013189475579928,0.30172083167283437,-0.3572650829203368,-0.3199019682858424,-0.36732664417823724,-0.32587550044453617,-0.20196132736729297,0.30065023148753234,0.29919770881460755,0.3037323363197315,0.3049736205479409,0.2659186579019671,-0.12443206453266666,0.28185105930144905,-0.32187878123887337,-0.1977019229555532,0.30578230893432407,0.30232547177124264,0.3011653426708065,-0.35245702589218125,-0.30165852297247453,0.2989287920990869,0.30489520258981206,-0.33094879354868234,0.294104416832881,0.30165231584352403,0.2919211690781398,-0.3632090628457754,-0.3281554381512783,0.2993090666269302,-0.27414739666493776,-0.30571506906825685,-0.2532090133094708,0.2879449067251748,0.29837468510996734,-0.2846270756160941,-0.3928750890059531,0.2914805124300284,-0.3503484058101802,-0.22709654001561294,-0.26701950517358314,-0.3378810714642059,0.30131858288392993,0.3030758130918052,0.3024299936902577,-0.3127734467318366,-0.29737285751120957,0.2832668717085841,0.300831876310581,0.304190074848323,0.2793686771813492,0.30363182860223864,-0.36064175436332285,0.284394889636775,-0.3008005751784231,0.3015524907840099,0.3009439841918024,-0.25694321480678534,0.3018268611884124,0.29219789905352017,-0.2604802605435335,-0.3864532433401118,0.2996003429591179,0.30063495292881764,0.26675106544558524,0.304376110669923,-0.3512705093560372,0.2982331202203967,-0.2610695284155089,0.28401918809517046,0.27058190008396354,-0.28596250525237477,-0.4092027337255867,0.2937462254498008,-0.3520709007910829,0.3020826671459724,0.30265415615448527,0.2997590264861925,0.2990313724453772,0.3024728754187849,0.30020270182515735,0.3039972017934397,-0.35300965362823455,0.2992039722101689,-0.3039270085898483,0.3001027075595001,-0.3990305358508903,-0.3297535237131475,-0.2274404791874003,-0.056758494230694484,0.2897270818723139,-0.29097113068682634,-0.3834649691384291,0.3026272423576672,-0.21059596477129078,0.30199956033066305,-0.2789556551473501,-0.23487298847470492,-0.24637576193885694,0.30398086155072757,0.3012664530941924,-0.27300884411580356,-0.2688049822002934,0.2881191251102923,-0.1642007555879956,0.294453346629943,-0.3088207814060052,-0.24243626421715328,0.2906890943926857,-0.33795255202198343,-0.3573933299041916,-0.3572753291752528,-0.27355773300976305,-0.1603555607769033,0.29766673882522254,0.3011202870691138,-0.37207506845599736,-0.2214950220333286,-0.21842703274240138,0.29794619319699517,0.298867755848997,-0.3715087975098124,-0.33656098249087274,0.29897868060735405,-0.2696168906507535,-0.42040462899970366,-0.043508072023173056,0.3001260434866291,0.2888762458017522,0.3021568008434869,0.3011818841637241,-0.28977537035115497,-0.3281688164537146,-0.31227620649749255,-0.3182351510458971,0.3034336660310881,0.3015374809313059,0.30105352682727654,-0.33689475815311065,-0.2871172919090804,-0.3488641942699241,-0.33130573494322507,-0.32201055502264353,0.2737463440984601,-0.2330359267096436,-0.3452123737323796,-0.35049863935577513,0.2909582176005142,-0.28341967337726426,0.2985176175478975,-0.2158657296628622,0.3016919702530027,0.3050422968577818,-0.32469058650366733,0.30380275065288564,0.3014491622493024,0.30112353660790625,-0.41482261383238805,-0.2860353371096465,0.301220920540836,-0.37328298030119605,0.2908266770069734,-0.32815637903654116,0.3057673363543819,-0.405855795521571,-0.30850956287507364,-0.26858413770362755,-0.342622794914321,-0.319093425802688,0.30178230306026527,-0.312627372162956,-0.31273640882661974,-0.32724110680561275,0.29031083970831795,0.3054565252936111,-0.3884437011217537,-0.38475377418770446,-0.3659344724628064,-0.3389069485490876,0.266935582597699,-0.38288964483482024,0.30398051744445004,-0.4168877371553446,0.30184604377223434,0.2998906240352021,-0.22631313604715497,0.3023548133518342,0.29534184762741356,-0.2811998340821909,0.3013484243863669,-0.3444154787968738,0.26976451579986804,-0.3219779388528193,0.30355978977282133,-0.38528253649046595,-0.32003773354651927,0.3026096635205943,0.2884520928764934,-0.40811188114423114,-0.34517460380381526,-0.3292058705148747,0.3042879508762178,0.30439968102939224,0.2974718197884033,-0.349405753616496,0.29166268878649787,0.26428877328627315,-0.18421498919843926,0.29951068343901177,0.300635000762802,0.3015458729276128,0.2796922377276116,-0.12839899676617478,-0.3474230089947586,0.29898506231163513,0.3039955294396437,0.27164594481027243,0.3030490116194497,-0.36120028424888145,0.2948873976284866,0.3047705409335374,0.30303178389311874,0.3018467524815418,0.2734717054756037,0.2971801703018204,-0.34304220866879787,0.3059264547495564,-0.3872479410659664,0.29403189949542496,-0.32610987197896285,-0.2872682703763944,0.2956754620065489,0.2682993344054674,0.292175440783099,-0.3478857658874349,-0.32078187377789363,0.3026393258189504,-0.2748202919846524,-0.24077405720857376,-0.366701845913913,-0.3903075294860305,-0.27723895316561253,-0.298150342071725,-0.15145039187062204,0.30394412663563325,-0.18367080194138896,0.30333538251049635,-0.2949794201589774,-0.40522740331800694,0.29563738496379405,-0.37088062011123146,-0.29295040927737065,-0.3637409621286652,0.026529448127713285,-0.2802787807014772,-0.3655777292538481,0.30215262586585656,0.28271249856632474,0.2998325324444755,0.2841077271614889,0.30235623555591434,-0.32230240474849287,-0.3324530352807876,-0.2843115772978102,-0.2732545951141179,0.29224710191286263,-0.08824332428271124,-0.38055889206430965,-0.35538249140729333,0.30185124890194603,0.30545950049355347,-0.2991323926197713,0.3052638482812175,0.2981396847618997,-0.40353013185089615,0.3032758123584282,-0.2631461177075377,0.300402432516133,-0.2121986775447316,0.2970419523103971,-0.020556529845719065,0.3002548038381846,-0.33873941008969494,-0.3249520503959756,-0.291291134466643,0.2989197738142831,-0.30701522531214726,0.30252063033425636,-0.29606789666836214,0.3028632167416746,-0.13838671726332916,0.3014856892877256,0.3046786683225074,-0.4081698170232153,-0.3588107591956528,0.30277410025563306,0.304532388358825,0.29770479794402177,0.2987884369927209,0.29294673467519894,-0.23756018782520325,-0.33584290431731584,0.29924271577801553,-0.15078067617230329,-0.30675914570416,0.30280439336881704,0.29868093456745903,0.27323284533663045,-0.3399168691293636,-0.03328035513217653,-0.33848675211070967,-0.3241804645521851,-0.1403485516699887,-0.21088299111706565,-0.259402853819373,0.2860708697341932,-0.31964428033320574,0.3024915650967185,-0.23961570317055106,0.28117170620369325,-0.28984918589317,0.2691043970822658,-0.27967252190742126,0.3060002723710676,-0.40497359166947783,-0.349628055551878,0.29192616505172103,0.2995613685782547,-0.23110797708014932,0.293012862203482,0.3030335772809635,-0.3170177486822375,0.2996438815886025,-0.34471938868924884,-0.2682508116715639,0.30049220477555816,-0.2573609065573764,-0.2787115828952023,0.2782072769751436,0.2702816710748555,-0.30276982806513136,0.2597051000711366,-0.39051954959458796,-0.34607631511352865,-0.2705043175579722,0.28431279910148793,-0.2779704569996122,-0.02700083757089052,-0.354496149934504,0.30163595537130294,-0.37409610120830494,-0.378691780094309,-0.3936645690360587,-0.21142522388881682,-0.3522153531788354,0.3043488819825756,-0.23887949028351488,-0.30588159035294427,0.26900501404445737,0.3010599196453073,0.30482640499042807,-0.3426235916877377,-0.3090172156755015,-0.35400072681530514,-0.36781400942924464,0.30346170204463496,-0.3322815641630812,0.30068833225071795,0.3033999259164476,0.30496150412416,-0.29385428432997046,-0.24094113574553927,0.30114845853374467,-0.34641955495634036,-0.3526433607658286,0.04471762556763663,0.2999196060124425,-0.23424343940249603,-0.36888663361213986,-0.27724615755887555,-0.37956423631728664,-0.25770176903290715,-0.26519606526377476,-0.27563729733265263,-0.23807565831549887,-0.2048178090284858,0.3038071796586333,-0.3132816678635782,0.30180083485351794,-0.3132005045453837,0.30087653192801694,-0.2635718739820159,0.30422341659365987,-0.20609636380664678,0.3030268308982156,-0.37628473812121466,0.301530248840105,-0.3895927138125785,-0.10819228694953668,0.29844871870002104,-0.22934623555983197,0.3027376191090281,-0.250462015511101,-0.22741900375896038,-0.33687187974569666,0.2951019052604556,0.29906387670150003,0.28515503542220877,-0.0419007580335848,0.2962134677511098,0.2970066437678688,-0.3506081106518148,-0.2668915002688764,0.3041284583442254,0.29990180463757804,-0.22884915600523728,-0.20940322023930424,0.3026400246041023,0.3057309638500654,0.2968997577965031,-0.3149990007850857,-0.3920470396516989,-0.32727227564621914,-0.3391421980411277,0.3041691642106809,0.26362086869275514,-0.07781946028714108,0.1613617549470956,0.3056909562717541,-0.36046778944602326,0.30019325481076337,0.30583512524497125,0.29573039185046157,-0.304913206610384,0.3002163365794466,-0.3295039459085581,0.3019144149788087,0.3028794889605039,0.30262404874578935,-0.3499791752602685,-0.39838449819243554,-0.14004946791532955,0.30044331141531416,-0.2969264477800237,-0.3029020729772223,-0.2542480964709297,-0.32882053015781937,0.30217230143750523,0.3035820963167914,-0.38293398159260295,-0.3175896778504421,-0.21758986573254654,0.3010711017781477,-0.21582203347127252,-0.32595315996016905,0.2992439918293585,0.27304795985037034,0.30236027285850303,0.2951511130960718,-0.3392289206999083,-0.20210291109809297,-0.3557362220136114,0.30246539238848197,-0.2892606982041255,-0.24589306856763196,0.30449895034628055,0.26682647159310674,0.297704260190639,0.3013146505687616,0.2676807393326311,0.3021236619373299,-0.3055414234790305,0.30112778690129643,0.2828977586217046,0.30395523485496634,-0.35365348128877416,0.30335774879873495,-0.25247697246045037,0.30298522513518283,-0.3350354642333499,0.29548822122327684,-0.3193648703781132,0.3021592655747751,0.2993333788588482,-0.2909923561816583,0.30673389074307705,-0.26892816258694396,-0.2727737786798066,0.2972934875410624,0.3027102180329514,-0.3097921254855212,-0.18775190730982044,-0.3936543201535351,-0.37606947357495046,-0.28180108453540587,0.29292422428982906,-0.17393847736760343,0.29220062125136703,-0.29002613142869943,-0.30968610580432926,0.3044533062775239,-0.33752975597601975,-0.267466202738854,-0.1449964047303563,0.3015607277019469,-0.32828052278419295,-0.39188740970692426,0.301036496851795,0.2996118271064728,-0.2640119488571981,0.26737459480774756,-0.2666125811497558,-0.173978191028293,-0.10436464781032016,-0.11651368927716227,0.3040608501543226,0.30275517809575203,-0.25836186651051596,-0.3532234494267271,-0.1939542008690397,0.2946826586562753,-0.3390964246433431,0.29954240899386203,-0.3599415625285378,-0.34960833700913846,-0.36793015681867686,0.3017199639422061,-0.23308430366439783,0.30171820074406425,0.2975987598026666,-0.31341945974260904,-0.16255192907973345,-0.26291308900588867,0.2804501106167015,0.30508516746561765,-0.3085772823098392,-0.35914120013461354,-0.3159603145090356,-0.38135614208449287,0.3017622235766224,-0.2302287518870716,0.3009619110849183,-0.2905056968032284,0.3010408582394368,0.2995187950456988,0.30257737479532165,-0.15572413835890783,-0.3588070613568589,0.2980736712116842,-0.27822219699593315,0.29939028034454873,-0.3946705547007563,-0.23316129034928246,0.3010046365355901,-0.3187341514684657,0.30153708344338565,-0.3659450598207883,0.3022037223064476,-0.390763994289043,-0.29783141577003025,-0.30560092100228087,0.29644641834111973,-0.32283574224774375,-0.22237702213896834,0.30216649153052877,-0.2733779919413331,-0.07365304176885008,-0.19741786429655414,0.2982710249679541,0.303843251724445,0.30272675561194473,-0.18318264098995043,-0.357825887362875,0.3045309063366572,0.3019127196845571,0.30287569925523405,-0.36652433685240965,-0.39576815751506716,-0.3589046035766874,-0.2239969800713803,0.30387613104248545,0.3047844365149814,-0.3370657754312159,0.30000757338860196,-0.38393680004011826,-0.29842258490241946,-0.4014324845127023,0.2769973289289062,-0.4035647779817897,-0.39874054575428186,-0.3585725897973999,-0.19903446710688893,-0.32855331210631616,-0.2382107605715637,-0.3333549106952392,-0.33006684052762897,-0.29597999441510425,-0.2563292948842693,0.28588675131170455,0.3000863774066802,0.3020076838514055,0.26566266954703527,-0.26814934273767593,0.30280084123672263,-0.3063458552992243,-0.3213452628760594,-0.37146945699542183,0.3050819328259213,0.29818429021336146,-0.2849258263180552,-0.3327993369898293,-0.3828636627503979,-0.2090908446130495,0.2946688424136844,0.30098474018797094,-0.3538937552451907,0.3011918985587787,-0.3770125551479244,-0.30227900120492257,-0.36004362774713183,-0.3770967718824434,-0.0487584307849115,0.29719576837680256,-0.18314797101528174,0.3059129851771676,-0.3486324146538255,0.3018269412030469,0.3004031587983486,-0.39095339021416076,0.2675140169115074,0.3030864273256792,0.29703806726228305,-0.2376068534955431,0.2989326872189,0.28132990593911633,-0.31864252337389154,0.005625087858496133,-0.3799896530550806,0.30499142737154866,-0.3847783423212916,0.30673331821245076,0.2995851820271196,-0.2570281395672618,-0.2924333322987688,0.306454347089002,-0.36105485686952066,0.29898825697997977,0.2671809447655224,-0.27245832519165425,-0.3096908424055296,0.2981694564971194,0.29955504523389476,-0.26765152573667117,-0.34536488123839126,0.2997069030987419,-0.32215436619216914,0.30218080817065995,-0.268736370650556,-0.25685395802116917,-0.3366284123229121,-0.3297826620771561,-0.3574031367388562,0.3037889797895729,-0.3019880482417859,0.29975597337579585,-0.2795898529800152,0.27724189274785255,0.2971088721509058,0.29227639434185265,0.3057426034244345,0.29982452009291966,-0.3242529437570313,0.3002277036186509,0.2969819613975009,-0.19412342300648266,-0.32371165248076916,-0.391741090957025,-0.40921258183155235,0.3018573777076891,-0.3913675186198988,0.2986872488500331,-0.09431301258690494,0.30146764221367073,-0.2868230271127308,0.3039244834059378,-0.32523545732221243,-0.35032727003946534,0.26913623067027764,0.3018120010924264,-0.27513443714452296,-0.38104565363272036,0.3022290605759524,0.3009185968598809,-0.30437127207370135,0.29998153328137755,-0.30028668077377946,0.29800134987380195,-0.3108437562731789,0.30451541201649573,0.22059776356689878,-0.33522456888865604,0.26507020371505313,0.3031154084415359,0.30110837753971864,-0.2428150520575609,-0.2583636767023011,-0.3208954510587672,-0.36965958565186985,0.28744044049346346,-0.3923049816681795,0.2826125852374338,0.2783174936848451,-0.182624139617959,-0.3591038128968376,-0.1768413154781626,-0.3212479357269263,0.3013164542137464,0.30071475129426245,0.29554529277596375,-0.2797941022575914,-0.3521666397199778,0.282574686998256,0.3013826616248871,0.30275128793528083,0.30016694586447057,0.30578643013991325,-0.2524767234511919,-0.34213350224994865,-0.40985511670675107,-0.2898877584619612,0.2893251527001999,-0.36074241264787765,-0.35926266045221544,-0.3751532197394088,0.3013140391197756,0.30284646178681845,0.3000430588888858,-0.3221981023233466,-0.2425573276859205,0.3025191440546993,0.3017761642827328,-0.24500509571024348,0.29889867947886645,-0.03515612729221391,-0.08420613521080343,-0.3405173884079872,-0.19461554076530874,0.3001864555533968,0.2996896287865105,-0.21506930929104567,-0.13557120919862592,-0.3689990321124677,-0.36036353326488935,-0.1428874092929992,0.2956988323076888,-0.33750066135893403,0.2998013478560691,-0.3744429005245747,0.30421793955511095,-0.3198669893570883,-0.23315907354645668,0.30316399608391026,-0.3903215182099248,0.28082854575710103,0.3026165614076901,0.2952725699653978,0.3005966400147256,0.304801359201134,-0.24374799869326128,0.30272906749028544,0.2975248756223498,0.27217855845008126,0.30255798330154676,-0.3788774484358797,-0.283544450722596,0.29500674652543385,0.269496345109166,0.2993347307808804,0.2979504955082638,-0.32621166084609465,0.29928535356718444,-0.25237888211568454,0.2998729203214737,0.30007307409756273,0.28821142539805095,-0.2873027112099142,0.29200500263471246,0.2976023521454252,0.30237095576874007,-0.1855351887383381,0.3033825388924447,-0.2976412013811787,0.3004327613412533,-0.10744831889889263,0.2676257128904619,-0.24463680716305514,-0.01981404518247009,-0.2808273918740048,0.3007815491568755,-0.31171263618742284,-0.2658325183824593,0.3031594123163219,0.3035560224154593,0.2998756755214759,-0.17702712307782228,-0.22540614801614933,-0.32059449440374094,-0.3493173375518261,-0.42702114113667716,0.3011591415583331,-0.2533164473180629,0.306512373245648,-0.38978567164605865,-0.022832588316694012,-0.315241512481153,-0.2693399175980227,-0.29749737959131867,-0.34279001142464216,-0.2999600873972181,-0.10621029653909764,0.30206702814514136,-0.32669485353894334,0.3037525019008129,-0.11972792623724753,-0.37528562185252934,0.2969848298556809,-0.3292997731369241,0.30193929393649616,0.275163750481451,0.307530549217613,0.289148481808146,-0.2985109069977332,-0.3485893655788224,-0.21332127292427838,-0.23201340305972804,-0.31080230790791474,0.3007749695843703,0.3015306326609086,-0.3873526129817041,0.3016893384504346,-0.3044902543926985,-0.26041711713212945,0.30258506624575726,-0.290391837303105,-0.4345839837510345,0.29921871231926195,-0.26937003057177683,0.30054346949599675,-0.20762610958137537,-0.32907456083922504,-0.39492483386441124,0.30337970492647887,0.30575854658963275,0.30505283506426095,-0.28135825585581525,0.3003614776593943,0.3048924156552881,-0.18250716908571957,0.29477413837362165,0.29313478547500343,0.30262327126781485,-0.3297419988561348,-0.25573081452243623,-0.34081004190855646,-0.059240009749754595,-0.21679927113055825,0.2988782851070269,-0.31076921023932697,0.2995016622802474,-0.34334037966526526,0.3013355812823488,0.2781288903899381,-0.3073715851652511,0.28187884436104543,0.2999530318019129,0.30196790742299656,-0.33475003074572274,0.30473911737342907,0.3049557396050539,-0.3628707729179551,-0.37480100105664216,0.2791576543784364,-0.16023045075628536,0.29573409760968405,0.29312256998394387,0.2813419330819625,0.3020025001357075,0.30277765487171676,-0.3251590224893875,-0.2156560552871764,-0.21272507931315243,-0.3988977985082266,-0.08971821084983615,-0.3295603466175491,-0.3492691857149094,-0.41035303623626357,-0.19130885458889701,-0.2794439383885894,-0.27550033958317505,0.30075234999189016,-0.023626304105367216,-0.28324307083729855,0.3001052611022229,-0.3474470485102401,0.3004248691323306,-0.416115847270652,0.3028940906644187,-0.35992348519843886,0.2879513610941452,-0.24062414502443433,0.27380168150462153,-0.3014294080545779,-0.17154475654939563,-0.3685487075355941,-0.3956720769409354,-0.31076798637013686],\"y\":[0.021467323167901755,-0.04037917090024002,0.00014016636417555953,0.006728749302946733,0.002675244377441622,0.02636696282582945,0.013216177842960237,-0.006937572365854536,0.012771466708095395,-0.059388385812825704,0.03443640776120491,0.008677545479081766,0.0009833853383169968,0.025663931841326173,-0.002927453550456377,-0.00235073095767014,0.007205423302398535,0.018299467471726723,-0.0036973275366677352,0.002854375665235851,0.004191237920526284,0.00015709277051220401,0.008736293763300184,0.003157512513405938,-0.007910352239447683,0.010408770839222066,0.006308914164913006,0.002187152312141475,0.0023520742799090786,0.005517496380487302,-0.15332193228789473,0.01976883684008209,-0.0015795726255138265,-0.0026065456992297805,0.003802776678651822,-0.0001311059519260206,-0.19230587292629336,0.00982709042734058,0.006054996326379998,0.00920713489754305,-0.0033104756770598763,0.010581521461721005,-0.0013240159222866399,0.019833892930492612,0.002800776428706162,0.004040899855568099,-0.0038055076391340014,-0.0070520391671755256,0.04201568041285843,0.014261299446200516,0.025262605387073218,0.02486294728994553,-0.010853060906505214,0.009234685050853399,0.008816513150876592,0.00825839851520746,-0.007193436445987687,0.004298285837257572,0.03449761967205006,0.03323830299104767,0.008135760005883971,0.00398847166955857,0.017399114061611976,0.0005169489583012022,0.023442708639867523,0.0042979458119811785,-0.0008858329854877438,0.002158088482443937,0.006298370680601639,0.018597022972434436,0.002675545495646842,-0.16393228528545817,0.02092246212109269,-0.11047625995127133,-0.0008197159719690821,0.0054716481029604466,0.002716007420889974,-0.049369921162556674,-0.016033033653072085,0.011846211573563173,0.014073710475433128,0.007778241704577522,0.000862664931917457,-0.030630622097756546,0.009313763807243462,0.01792310536312688,0.008968921412483215,-0.00021924111333713057,0.007471801071993203,-0.010586025209720417,-0.004172603052428205,-0.0021315168302727156,0.016249101360871997,-0.003759470085826732,-0.008800611351006548,0.019687697702532557,-0.0024889677613648435,-0.0016506243868061544,-0.09730500984025474,0.02333294544377863,0.0018264708301028308,0.01490920258777524,-0.005314044054729883,-0.18609596361538083,0.02086809468824272,0.022334527382469608,0.016228274683653933,-0.018914606427346162,0.02329795002941359,-5.836192226063877e-05,-0.02612491155667772,0.008992168670753803,0.010650058818595336,0.010825646833804091,0.004683073805947367,0.033515903873908175,-0.011178288789545233,0.034881173627207086,-0.003966643506847166,0.01491654879490715,-0.0043917055292924025,-0.18807291116421837,0.025897132278997387,-0.022880453831303642,0.000912225025051509,0.023178968498588377,0.022014376295272153,0.002268961547566326,-0.006029692036490319,0.0018442521382708717,0.011144808861076846,0.012187520721202577,0.011473967681566905,0.019766199780373306,0.02500360787789186,0.000563994641839109,0.023032116223615652,-0.0011344083266026297,0.002560415578937972,-0.008136588185517272,0.003222957633664215,0.003749378718037586,0.03791995559217349,-0.00401578527493406,0.005491426097682601,-0.0075648439270726,0.02346456635077576,-0.00019525491476052092,0.00403775796465343,0.030983414711171723,0.004594070738334501,-0.004035527881247055,-0.004875289152534724,-0.0014015930325010062,0.02732188744978753,-0.00047343449719559113,0.0017319073859865751,0.0005360035716714688,0.0026929853562899435,0.007590916900001373,-0.00398882929026415,0.011008186411986044,0.01737707635440458,0.010059742586264218,0.01780531145788433,0.009119041422154318,0.008210638078544425,-0.0023539680573858206,-0.11484640414811284,0.002006610437620042,-0.0010731272148662729,8.19255947529243e-05,-0.003071539004869867,-0.039459597147689575,-0.0014862562634892636,0.0009251733947519923,-0.00023156421076791418,-0.002908684706557823,0.020576869418786826,0.002820706197478362,-0.00293518607461778,0.012331564643070838,-0.11701793209832896,-0.04516099725849485,-0.0030463142594375743,0.012704939748053097,0.017127969129171017,0.0060004553565894715,0.0022139254460073242,-0.005401193034272811,0.004837785486252039,-0.00948844787083928,-0.010796360926678895,-0.006721148296362848,-0.004277960744213767,0.021180873986035097,0.0028733619528117293,0.035512332394412365,-0.012839455980145518,0.002877358051534948,0.02135813608030679,0.0005551898910698816,0.0027149457146162024,0.02518043513723251,0.0037232105305613056,0.0009882119697442438,0.01591977074507975,-0.001259539917821938,-0.003116615393873631,-0.007101641374687286,0.028157057164772632,-0.09508531507172874,0.02128775901084602,-0.05785519642084766,0.02206415378678267,-0.0011533324639917822,0.004665313887122661,-0.017101042499488146,0.0013737404856956563,0.026313044777461183,-0.0026969890044766425,0.0038932494624034377,0.004427729241031245,-0.004563840716337793,0.026487657673273,0.026415593696448372,0.01149868918841873,0.002582886880759604,-0.002606782925049184,-0.00264795874894718,0.0026426569462757615,0.005331444846957679,0.021925785773750334,0.006091366823697021,0.03282533690327248,0.009523513186914403,-0.1831470442836375,0.005142062284720438,0.02212827260613641,0.035491739698806764,-0.0008158360535154359,0.027102996240452135,-0.0009920810554247177,0.023101926045664415,0.0035451024905788667,0.024761961671446762,0.005119643301280244,-0.0030338771767081754,-0.0004007908366527194,-0.000995309336697282,8.523471908533496e-05,-0.0018844041155882249,0.01171429300222975,-0.006935400939292302,0.043798669520898774,0.020478505122139636,0.005162394942882096,-0.008339876806195324,-0.0004112240646513636,0.0018813638492113718,0.026800766097952892,-0.00599293238490459,5.234999877313825e-05,-0.005248247534073979,0.00773896160454945,0.025591724969151634,-0.0013310741806138774,0.01028490257380543,0.032259625342242686,0.0325528373058269,0.0031997237082627156,0.010218944322971765,0.021326391015311537,0.009910901958148016,0.0005239612959414778,0.013777836134075277,-0.18726559606037926,-0.11113371623744228,-0.0010955883898625546,0.010758846237632697,0.011174794439045803,0.018770979875429843,-0.0032768514949341075,0.0006929790524757275,0.0035629659832494454,0.012090063319554823,-0.011243419498158446,-0.001406850203673755,-0.08893158810248487,0.004069039895126842,0.0022598881480744124,0.00421832743564606,0.01855502182746306,0.0013623900248801307,-0.004135750221569809,0.02241843550736469,0.02244180649803708,-0.051882908188090146,0.01901554180105612,0.012553212999223498,-0.0013453286636904733,0.0007328673520705355,0.007567893486781911,-0.20387072379596974,-0.1879937137763673,0.00459271345370806,0.021162099184746208,-0.004591653252828753,-0.0009542764568098754,0.005235948691779071,0.03383947963619366,0.00823381186061859,0.00493070930800838,0.0016339659406439018,-0.007602018930721542,0.0011902185670654767,0.0005643080601587024,0.009883529370702394,0.009400823345099365,0.0012997657201159372,0.011626914151762573,0.0032509933307855237,-0.001557422159451629,0.026735939143329515,0.010775746203425403,-0.0030081404868643425,-0.0029410384932485557,0.0034769275052794154,-0.001234693946303347,0.028837963048273522,0.005790235341949917,0.006505087502331401,0.0007617963776261179,-0.08659210702871532,0.002587272058145616,0.009698559776566381,0.021031975620942972,-0.0004992318904755795,0.0004365167472677401,-0.0035529362806479277,-0.0006561755762171055,0.0006623026626044654,0.00024952068479022516,0.01703769816066374,-0.1915051896633579,-0.001480100306117845,-0.0030481265906786197,-0.002988736517610358,-0.0025360502180277605,0.007800376470530091,-0.003161418241888335,0.011895903435027335,0.034483736790485595,0.0005116882848904165,-0.0006391484603382373,-0.0033790746118028997,0.001958116828479007,-0.0776823784679367,0.0032953124661984335,0.0051845904048665285,-0.0013892211234785897,0.004313727240306691,-0.0031836567657814773,0.026052634389330278,-0.006166230685428658,0.005063783788307855,-0.006961532344005582,-0.0030338936448454272,0.02940147015798981,-0.0015430928095778972,0.001795640050808117,0.0011929208865781595,0.01229443615615219,0.006614427860613034,0.02131072633751245,0.03315769521383813,0.0023018664215685492,0.0004666604665042981,0.020303610013530756,0.02180679784320533,0.0005226989222034494,-0.0043087738412804655,0.007387724337341159,-0.012227291091021159,-0.0005578506615872945,-0.04760273397203347,-0.0025849643650678548,-0.0008599930635990947,0.005542666873110155,-0.0021444524296051542,0.02361376226033856,-0.0048372890171164366,0.020055141081687024,-0.003460999271803764,0.004595050370667628,0.004930523541022391,-0.000755607852599939,0.0036220323907472612,-0.1851174123870969,0.003721205264013079,0.01579458183499704,0.027480162663069362,-0.0009643234217311689,0.03410381353420637,0.004673707103213764,0.002387210529326917,0.029171617667970225,-0.0011964407290178942,-0.0012188934048016015,-0.17358842572929567,0.01206849722471874,-0.0073248407617641014,0.023647412048012597,0.003186499014671561,0.004606981008549434,0.002600606793519324,0.005421703205473165,0.005349900771124631,0.00801574478333505,0.006797587456774563,0.015163051480664299,0.007955980240740936,0.010877449179969405,-0.17962049756906323,0.011219499915105876,0.006664455092247557,-0.0031078294823683873,0.013092418490805625,0.01079427745976767,-0.0015830989834077374,-0.003294405581751976,0.011700686355949856,0.02233649869966867,-0.10090836269878647,-0.03464139445826988,-0.0003574855170292351,-0.003536279738917707,0.002014829416021501,-0.0027678427714361345,0.0037302496635357456,0.009333783914877207,0.02921817127999229,0.023031659300191267,0.023855420468712824,0.005803004275637442,0.0076282138957296354,-0.009096783396415809,0.029770864317360018,-0.005667706966754882,0.0011713687209335434,0.026501852922960836,0.005033490358019027,-0.00037422461831912587,0.03645140827366219,0.0014785984489586335,0.007478085833929749,-0.0005876551268386604,0.00198994968906034,0.025601306779118236,-0.005252630014800422,0.008672324825228898,-0.11656831012120827,0.03927175983425835,-0.002012313489535809,0.01762263629849905,0.011407567190230018,0.019382180039831325,0.0040698328778964845,0.03537087107326308,0.017483373435641856,-0.08268505489368301,0.01484029700172927,0.0015829846302768734,-0.009392399389435088,-0.002675437552940626,0.005993843828397212,0.006318503655228597,0.021967933553240088,0.004780242088011283,0.001117787422375588,-0.013637734843548086,0.005244182143422452,0.022205439040389224,0.015421778891553715,0.0052981313325192875,-0.19408585149325783,-0.03249483756321118,-0.0019289021764101629,0.0016872643509175155,0.012538405523557799,-0.0018284036824295225,0.002289110855796971,0.004667715350942323,-0.040767349264317645,-0.0008904617280893921,0.004645008210182954,0.0011354557340781447,-0.0001041023541223064,0.019004308521541856,0.0042307688999986375,0.010894972943573332,0.002710419170560804,0.0028066425656035053,0.029342114508693905,-0.00419341125048744,0.008263548696662766,0.022813745528991493,0.0006493385647605676,-0.0072166351884858605,-0.022743865954171872,-0.006588871200947277,0.037600180914411016,0.01413410320363268,0.002121393249963493,5.583358861576776e-06,0.0003098173256104132,0.007914615031862417,-0.0011237457034649237,-0.009640861369568711,0.0017877604902073198,-0.0022914645297048733,0.02289647975857334,-0.004121702507959664,0.020159987597721484,-0.186534497809866,0.0147960030453482,0.02967678145628431,0.0035381618150853943,-0.04061250242708528,0.0033593676974052068,0.008999712451851187,0.008120550105138269,0.001751350913336818,-0.0050846928792134235,0.0008093871502801575,-0.010767689614254559,-0.006099126213393259,-0.0014585821705314216,-0.1806252940491281,0.006180721473737238,0.02221328423057376,-0.005211978030095715,-0.07098105374979705,-0.003918601141235871,-0.004902151757168832,0.0044770692823965135,0.01555262595322484,0.021787635786325886,0.0005146169320354181,0.024156689043714964,0.00695063671655121,0.003456406613177995,0.0006400993991328466,0.0017187785152925677,0.016745992546919445,0.012481776725787447,0.00986505737069384,-0.04634099294216984,-0.0025304856356319406,-0.005183165174298444,0.004001181718537825,0.0036767286122810707,-0.0006053620370709899,-0.006424828714469699,-0.002733379624761359,0.0017324380685746989,0.025621855830320728,-0.0011979492376436986,0.00481500619174044,0.029004498787405297,0.013901494674460217,0.0018744655027277868,0.019859133291168583,0.002185956035040561,0.02890066583054941,0.014675663136986648,0.03432168112589333,0.020127133203686965,0.018065366309907994,0.0017185087012641647,-0.000557694413318676,0.011011925716621823,0.018128071081897706,0.003596752675750789,0.0076201447335246635,0.002788663840235409,0.014233792247683773,0.0037670496355264164,0.0285544821412798,-0.05515935062617659,-0.000596433445530948,-0.003183000173149466,-0.186529575194102,0.020368372865966718,-0.0004295925131703025,0.0017795319425137084,0.005146362708173396,-0.0022021130555047713,0.03136373346889736,0.002994174978249906,0.017760684927498913,0.015627455214048052,0.015972275547364842,0.002232626166848172,0.011362974397025011,-0.16925110437049634,-0.007066112420255027,0.0029675430936601426,-0.009059175342668443,-0.0006744329238195601,0.017162701737354374,-0.0035569679355911842,0.008795377226105773,0.027280478057198347,0.013362799050770178,0.019596101000897995,0.006755536620998913,0.01532663970861118,-0.0005948852095032503,0.008412322749989726,0.003952903391525368,-0.0036514809926237383,0.00018905894398172295,0.015611340601006534,0.016702710048829547,0.0013100014103522083,0.005243255851911166,0.01163596017755209,0.029366602018984892,0.0008217041050949595,-0.041432664134026846,0.01753800367929718,0.03230221006321756,-0.005482927299895832,0.005508070712880498,0.002174489720509669,0.0015360251140759944,0.004164714068815202,0.017397792670021516,0.02547059346170405,0.007531877901254041,0.03076759047431072,-0.1948212000032928,0.00964578362497673,0.00956134592520002,-0.0002242229848220623,0.005712789676167946,0.034757043810930977,0.016747810161524615,0.01792350597022429,0.0013407643634637933,-0.00013194270421487225,0.022743940434132467,0.015947671166165644,0.0021026473426159977,0.01822380096928772,0.0272185365928403,-0.04267660416478224,0.0032827455700613194,-0.0062037116210589315,-0.0020003584451305984,-0.003188663229654296,0.0002815922495093979,0.005195631195971905,-0.052338059369334486,0.027739750301513204,-3.43718712061275e-05,-0.002612094245759376,0.018360448695611712,0.00492048230085124,0.011915954821202704,0.0013825217974468681,-0.0009722399958602606,0.009334377490458526,0.03598463520783895,0.01990687863920605,-0.0014181913736608601,-0.00018926110533239616,-0.04383334913606196,0.019535928097042677,0.013958617381461346,0.026919317051712584,0.023709519151050084,-0.004365422615058393,-0.09564051918828792,0.007223924360217468,0.01528433368690142,0.0006130345309067073,0.009925249962647664,0.013798381116693428,0.009885273743752818,0.006014129650046139,-0.0009991769621796184,-0.0018347578188155783,0.024562045983177756,-0.10206395265195467,0.018916059566114744,-0.008786150877616482,0.01345092152614002,0.00458218526782415,-0.036981034197021805,-0.1758955326183432,-0.005742264345682404,-0.004147912077523762,-0.032994510352716916,-0.0010169725736587578,0.03068385815950701,0.01808419704270998,0.023447840852937805,-0.01754818628573839,0.039929618530191065,-0.0006830146910460781,0.010117143465471018,-0.003454104049457279,0.013910883360392274,-0.003177328647110544,0.007185364755474203,-0.005871268588858348,-0.006581424842489206,-0.0015891053626811624,0.011092297143528693,-0.04345975903221888,-0.0008829860487501271,-0.0013834212731361917,0.02169969238001469,0.01314712812399535,0.026717304722652366,0.0011967498582460944,-0.01914562299994283,0.004495801052010207,0.0173279176392216,0.028050251182870876,-0.005520124525679823,0.009578172462936402,-0.03793244150125188,-0.0025683502057529486,-0.03556551503651588,-0.0033692756792803,0.005621162049445781,0.02591434402931036,-0.005496663143969752,0.004033994177324775,0.002195823660167336,0.00015969547481405904,-0.0025752591201571875,-0.004966349686533447,0.009986940541785859,-0.002878732424498004,0.007814055467016554,0.004723964017196355,0.008261110291507816,0.00955017452900426,-0.0004257239914011154,-0.008965686290840437,0.02912341915087663,-0.003795255806117541,-0.003801341963246913,-0.06048263791387959,0.023611185497279943,-0.038352797881589476,0.00045506471389178345,0.017674169222594602,0.007197539909829364,-0.008250344704723637,0.0015116187301719996,-0.004919950697312445,0.02994686256578973,0.01696308035269155,0.006820333189168138,-0.003522938927372209,-0.0017625060120114104,0.007470094453131763,0.009572855173905836,0.0013560354940816727,-0.17589811635154565,0.002212061826837404,0.004230771219815095,0.0016431946088616611,-0.049254858526412565,0.0009949501977113062,0.025187348689545877,0.007447904589065842,0.007920483172622839,0.028808601475758606,-0.02042608543102582,0.013890424131374639,0.023285532663670394,0.006600662986683291,-0.008947146025117574,0.0027852156637291447,0.025321260687925392,0.0031022882508261714,-0.03402415032881603,0.00037095885233251875,0.020741145122633715,-0.0017275932478356918,0.003081297615063371,0.007366622793480691,-3.1151370600548456e-06,0.0019031787762047916,0.020426183093675932,0.006434698749714577,-0.004608016742475874,0.002823208088127477,-0.06075693517825618,0.048258063324953124,-0.005401887501891071,-0.0015666643795872988,0.0068983169287572385,-0.00310872140242489,-0.18229408833713093,-0.0035213392486598233,0.017592577776331445,-0.002011783953540176,0.019089112421209753,0.023314746691457,-9.158257154631075e-05,0.007924604808139998,-0.0017710434272838371,0.003333647058013958,0.027902267050848105,-0.0017761434606228224,-0.1298175550730941,-0.006103051906972773,0.03479064275925943,7.770620446141085e-05,0.003645776025743572,0.02382489732255147,0.021992679995160004,-0.0036878167845187083,0.003562880924573768,0.00907000973853262,0.032116569233787716,0.02672656989787765,-0.02161059266347518,0.0049591647109667025,-0.009506844827194145,-0.18909972019986332,0.008045254800105196,0.00786680106956126,0.00810789161978731,0.01722021553684386,-0.047781864270340035,0.01427082731659861,-0.0020052073529297034,0.03445303601441909,0.02956562904963937,-0.1787637452997906,0.0278092864064105,-0.008700465517294732,-0.030708623089583657,0.01871102382005403,0.01911815186452316,0.008833735910196214,-0.1602483656070818,-0.021145109234739213,-0.00615281211811115,0.03527938277877678,0.0014280290347168819,-0.018499415458124724,0.004965347127268474,-0.006115396462558636,-0.021588799792302448,-0.18404131268612886,-0.04682983415463078,0.0033315857967928593,-0.003087049426065761,-0.004643210775259755,0.0038860311436827114,0.0005685616838594888,0.0009565416921861439,0.00046305113652380167,0.010078687753762321,0.005381664914056879,0.0051491566659228,0.024406903280022495,-0.008972131372414935,0.01268468602795695,-0.0020661698613467965,-0.003649139210901438,0.02211896857151075,-0.00317381758821717,0.004169840183987521,0.00041249095133869185,0.010207025377133805,0.0032750086946316203,-0.004548309643634508,-0.010813062937525302,0.011499563833108312,0.016824565737253844,-0.098804043332347,0.002064227898478391,0.0015344872083789005,-0.001788401914840921,0.004584014076526999,-0.016209654507579312,-0.0425383937348854,-0.009478213584503055,-0.0021627381787120703,0.000449700454305625,0.022624368996937545,0.018863167434665748,-0.006341487343539497,0.02837012345653805,0.03126253363056068,-0.007369278852352958,0.01653780800482011,0.005243120912603587,0.010853661658442778,0.0015171209448671468,-0.025014021772766796,0.006641947147364709,0.02065482458441672,-0.0005708620311062812,0.0034639639571489205,-0.004386144055536156,0.023234170852637608,0.0008661162286626246,0.03319481216490735,0.007866897027907969,0.02493713165435537,-0.0048176394206955195,0.020893587430830488,0.019798326746331966,0.0008149016099032952,-0.002319707842599076,0.03344960019293378,0.01915745586436716,-0.00455663353397017,0.028812628239960777,0.02000421037141087,0.0031811211859997697,0.004574182074001794,0.01714855430224281,0.005331005450982524,0.0003408418396446106,0.017063606912208016,0.001294533440035906,-0.17956407103097818,-0.0005355838299398453,0.006246914093677495,-0.0020335090819415206,0.003972058814353005,0.0035925373973015543,0.008062430590780031,0.006282440304650057,0.02009684400061836,-0.003191395274867142,0.02998735507673086,-0.023115279491302907,-0.05554597651087208,0.0019352507860320735,-0.17736520623411559,0.0022699815941379293,0.033342195201941184,-0.004989400400379018,0.009528221176011294,0.018561797547220316,0.0325155019962826,0.0020842320036669987,0.013694898794738461,0.03565557537695967,0.003217489647875195,0.011331040886272447,2.4875281944239038e-05,0.0003982494607972478,0.027794642542124697,0.0019553788780469,0.0015948415877714802,-0.11116443788069282,-0.17087189839656497,0.00425587598702897,0.015949911692709144,-0.0012763279816674486,-0.003960554381312947,0.004429122874489333,-0.02639224642885927,0.0026618538741293514,0.009208939839815532,0.0032089613709271876,0.004153282840189387,-0.0028897755542917477,-0.0025998815132382046,-0.005294977394363676,0.0043674682995048265,-0.0023326861108517063,0.017462509677314775,0.004516355640437032,-0.0017645049941060074,-0.192850256651002,0.004846468100919265,0.02031959389750193,-0.005589165598164552,0.0018022267284690911,-0.0026401879905934454,-0.002993598515910878,0.02212917884951398,0.0016710586889104825,0.008801381872857068,0.027171733390738802,0.01783730707038127,0.004368419820369356,0.005008162525566915,0.012005154195830921,0.005352584581150774,0.004850858200161226,0.009739543710354551,0.018582545968405046,0.001992495101066073,-0.006686380053059915,0.005045314168335007,-0.0005455794924313433,0.008350733836355081,0.0003429853415383133,0.0011702162155574948,0.005568806423131187,0.005057781530951726,0.021624091454185614,0.0018330123810569039,0.006367826100003701,0.0008034007663845726,0.018462493275031334,-0.0008151646584997829,0.024537776178847167,0.009298110444045748,0.028780914949007315,-0.0012227818595242099,0.02831961159057783,-5.695111741737359e-06,-0.0005285482278521896,-0.011207839556517891,-0.0013021251333429481,-0.0013345619268398722,0.000255163152134705,0.0015661256994643014,0.0015320418490224164,-0.06099605495365107,0.005955350901938419,-0.04855759766907786,-0.020591128735546516,0.004090987496951337,0.0033043556343531114,-0.0029362456014363036,0.005741107387259967,0.03513775702133526,0.0028798738512896068,0.0024633899092744516,-0.0025632541929932035,0.031018745038214623,0.02789879803251759,-0.0046847271469516154,-0.0022884466441249495,-0.003460629592093278,0.00345530845729106,-0.002570287686472078,0.017743071234055236,-0.1945456980212093,-0.014231476122868254,0.015019804948409373,0.02654503235029151,-0.002435163349828926,0.015583141860848235,0.028098840789807417,0.011842333903899323,0.011473816022356587,0.022610050413711433,-0.002182004226859739,0.0034980062970696047,0.032655882643661024,0.02841575347301049,-0.0016119635866123794,-0.0016050582928117286,0.0028611708330133568,0.018996181058480326,-0.004548440003092607,-0.0010155053464232146,0.005334806529546374,0.005731362589824315,0.019314640347767167,0.02001671683189344,-0.0031252855781053316,0.0023430059670390157,0.005184231853753259,0.032006434472103225,0.013879331659912312,0.005576354724905476,0.013536778390516457,-0.1875169297304788,0.026133640261481832,0.0035934254328054264,-0.0008534947129553245,0.0035679249542509574,0.00283367938248401,0.014554651449822946,-1.6123490478557635e-05,0.0021475919638334496,0.031093604987606018,-0.17945262109585805,-0.007175538788516838,0.012627578347464408,-0.18998054454905827,0.03764832093027496,0.003127663633524013,0.009869285397128683,-0.08406069194356781,0.02784630101495597,0.0016231224208644987,0.00846359365743477,0.0017700983932020385,0.009245173884873222,0.0003948570725404494,-0.013813661892416805,-0.0009971677178503605,0.0290547728988806,0.01264737412030342,0.00029083629385159447,0.029787542572101092,0.0007126149344719547,-0.0017010436694272235,-0.027889858215436682,0.009022252973969582,-0.001545685271462922,0.007262920104076663,-0.00032133912163758045,0.0007062199269504684,0.002447108630816701,0.0024891484489077496,0.01026477825904763,-0.06475045146442238,0.010310335208780665,0.002145354424532126,0.030114853337202038,-0.0028274751262512667,-0.0007152446906660147,-0.012190162092966701,0.022940091685844547,0.005060670197864238,-0.004567616565379605,0.01330079133218056,0.008617178344666177,-0.0021611230176166343,-0.18987707172051072,0.001964098482236646,0.007813198196907001,0.0026129995453046846,0.006126997185644037,0.03431994070699589,0.027188788095385257,0.006879153520832931,-0.00012696184645034336,0.014844151240183309,0.02358306240651206,0.003960951316730522,-0.010888229094560725,0.0018245869765592996,0.0004172994540927609,0.003107264901143378,0.016179015491672468,0.00247156351526712,0.020303390330148552,0.007291338370509633,0.0003325550840904558,0.0080917998413284,0.009488311547056738,-0.0944385501551104,0.006288932086242799,-0.0008991981700931124,-0.0009813304169637156,0.001375099380783838,-0.0036041424659985655,0.01165235041388938,0.007358832295147882,0.015997460597599645,0.010137594349229354,0.023161089725831346,0.024096807234282185,0.01740897497469606,0.007890849178226099,-0.006126306060701901,0.022568403008937716,0.006970168602526672,0.006328334717422915,-0.006721327014490043,0.0013836168853745938,0.0204481714834151,0.006682389207629108,0.013516589688529944,-0.0022313832539216354,0.017008338882994255,-0.0014975807002149742,-0.002256995241130279,-0.0037135225380045675,-0.0076854054179703235,-0.000602683865640205,0.00039334958579146636,0.011684412067159375,0.0012147155554083139,0.00833427007991481,-0.004156966517272511,0.009561845209804933,0.010748344752103737,0.03167573219735695,0.008776339376333842,-0.0009898545328617247,0.04167637819172944,0.029334114816437055,0.025410829060043362,-0.002563988863634631,-0.004690118787328832,-0.00998588833289373,0.010231181841995694,0.0148961688322071,0.02256390418141652,-0.0027878504783511457,0.012941058793166633,0.0014663658350593275,-0.0018877458987160104,-0.0019839835661918945,-0.003464515954357871,-0.005517628452612544,-0.007696131015350564,0.0020967475841746326,0.012281447166608603,0.0008966948505466038,0.006378925017991929,0.001888148310094607,0.0026550197946425434,0.006862628931944058,-0.003469652216855089,0.020262918819174917,0.013420998591107257,0.024601520471743597,-0.1871896582287135,-0.0017596330771513116,0.024206059063332102,0.0014866191440913324,-0.002550294243002875,0.0030153605995975,0.030237353807458987,0.018695733892656236,0.004610889978480418,0.002175937716732119,0.00038042432118117793,0.002770673920118091,0.017849789240882763,0.012782989389377582,-0.0038859301787336677,0.023613830464404628,-0.000976107930451063,-0.0026882166891766556,-0.006355362607919019,0.006463809551768691,0.017495434237433872,-0.01316674792031777,0.012908590224236278,0.037568051147497096,0.0020391395894900285,0.022190092318216226,0.010754400704911663,-0.0026102770878121038,-0.1805069350394556,0.017627968852879428,-0.02184051138836472,-0.0018731656243108831,0.0027482385325755844,-0.10314726957089582,0.0014307713091737879,0.0058262248208657535,-0.008375902185207066,0.016243708969363464,-0.00048618361948069987,0.025343326639947757,-0.007177044882405135,-0.003227275538919642,0.0002649516320663009,0.03495356637490243,0.0016509762095540514,-0.024436093571442653,-0.17873317918058088,0.006056588534143165,0.004700655428899805,-0.03191882107550717,0.004279562726355797,0.0026707517128904536,0.0018104101423757442,0.01245802052634509,0.002990304259249164,0.02517594811682178,0.00706772986368838,0.013388024205120412,0.0025082413293077773,0.0010500535704569753,-0.0029930098313745443,0.020574947324870505,0.00385219805952695,0.018704844042405973,-0.001282250057246488,-0.15059360512719872,-0.0007013410080753419,0.02014057998457477,0.0350589755065447,0.011155719456069748,-0.0036448042770754964,0.01656801837986531,0.016475840819751494,0.013577536403798714,-0.00469304477787915,-0.00569371567006635,-0.0044898828410987295,0.0027937676517071955,-0.002253766016679506,-0.008527403545963375,0.007135736546319259,0.007002669905682205,-0.009053189157191324,0.02985269163974673,7.938781879360305e-05,0.0007068553194360164,-0.19469128065630298,-0.009538524345721926,0.003993144119780846,-0.0019177983337710961,0.025878978932135668,0.016897072372444602,-0.0008125198281222544,-0.003673856281664901,0.0027345395621411516,0.02632353464160166,-0.0014625194880870176,0.021402551004459928,-0.012914536296228466,-0.00019759757835559192,-0.1895551387708046,0.008602197518163315,0.0015089146118437298,-0.0012286645290807614,0.0014345847949383936,-0.0066825418472177475,-0.0014324544289849228,-0.047973444890343046,0.004539859199523663,-0.09082516226358196,-0.12615884789026,0.003056739114891259,-0.0018052861311411855,0.0031285146316223813,0.0001472000332767119,0.020679109044114782,0.004967254905065517,0.015128839158234791,0.001340964852141137,0.0008539787423100865,-0.08593003322418369,0.02235424340457675,0.010507119162702023,0.019926706969653808,0.02035511241226351,0.002679528959505074,0.0035159342065625094,-0.006458484898321483,0.0012495264324162182,0.020709590117605158,-0.001934700297981287,0.00400717569424032,-0.008690940436378917,0.02754714693283163,0.01965267425737249,0.02106168462657814,-0.003383987596397239,-3.6925879202094574e-05,0.011850655870302576,0.015001452102020287,0.004913821105241282,0.01502207160437631,0.007466919441154199,0.003328258947396064,-0.002331899941792834,-0.0009201605700971385,0.019312225483076366,0.018174546685621986,0.010360909187740686,0.013652552322597072,-0.002966563398653847,-0.003695719503424002,0.010969905444674601,0.020954980407319506,-0.00017720646886657047,0.00649553391108337,-0.000885039665547041,0.02104274764828686,0.007092898265015279,-0.007031319375520751,0.014667210008880114,-0.0034909058955149962,-0.10148518824350115,0.02025155176027292,-0.008609810805628377,0.021174451664704906,0.02755010059201739,0.011638122463581172,0.018776464175858088,0.004412901474037016,-0.11959732612272485,0.013994637791459402,-0.001707385182234718,-0.0012108427547806813,-0.03161402894753606,-0.1912982156147553,0.028388407019440662,-0.019257999290613673,0.008233316303079219,-0.0009249769427084492,0.012689054737377475,0.02526232413701751,0.008339821526679711,0.016568973986617847,0.0018339842336224672,-0.041860388916105364,-0.005802571675123562,0.029560108612292198,-5.5556968196937026e-05,0.01835169016956439,0.0036320920721278098,0.014801153880733954,0.0051298157339719555,-0.18492919874416724,0.008457182828469356,0.00883253293073323,0.005017745285699755,0.018330037035461866,-9.763435514487363e-06,0.005033015766224679,0.026658433988465863,0.022712318219256775,-0.004347608560022843,0.00583755027760982,0.0031771647213881178,-0.0012444480844401463,0.007727835184708471,-0.0063329564852813375,0.015742220904689425,0.008607156548960476,0.052268835529653924,-0.005499925446764912,0.01468786239617645,0.004097043475066325,0.002239243153300736,-0.0017416968575604702,0.0027241739330820143,-0.0007427222265678786,0.005807340090423862,0.0036816991842381817,-0.000722433841135133,0.031930949327025546,-0.02281742518831885,-0.0003829346019766814,0.023310746190464377,0.007182258021531881,-0.0019400351460810133,-0.14497497236425705,0.030651373274858028,-0.049310226182154394,0.002233385107371104,0.0030167695764141155,0.006357211709685438,0.006682721182645013,0.008402284564794582,0.009610674584232726,0.004441938460803056,0.0003808876855417319,0.010658259203546952,0.006442169282600176,-0.002976138734883587,0.01852797290289844,-0.002580001916696296,-0.0008129645707891087,-0.004469458555404846,-0.007098709225076965,0.009436095050245607,0.009058504193159948,-0.002865008127549086,0.0025372528505149612,0.02887825818416579,0.03601189407056355,0.013428887447374692,0.006545036233604264,0.024386706266716136,0.0038171834217181405,0.009625691392749077,0.016451959995748396,0.018964301110044043,0.02906728024688586,-0.003518920937210703,-0.0003894420522076184,-0.00437902332948378,0.01971425418161659,-0.0027156841874038558,0.001889564482123525,-0.005818468553780055,0.013708535229896767,-0.00235817010664376,0.008580383292165933,-0.10864619129256542,0.005559622623214576,-0.10003658698526958,0.015055485047468082,0.026761870516641206,-0.0014725810385454773,0.028258767278577665,0.024872590902879077,-0.00828450410814664,-0.0060954925759116535,-0.1079043204577771,0.0039085536118583005,-0.025248818449626346,-0.03889092664088725,-0.11243710140985017,0.011254074391752045,0.030524474148754477,-0.004465411718309344,0.007424245134149712,0.01067234620594306,-0.005222035360650511,0.020528606831970688,0.004068925415209756,0.004343869154264649,0.0011636856373627243,0.006377104027724966,0.0050065557874782625,-0.001256000256839009,0.0429179381207526,0.008506701267093847,0.0034983761858225406,0.003563012246109707,0.0026228788832498347,0.01403092466095485,0.0010228169409749086,0.02369356021338069,-0.0059005693767820435,-0.07769765836600617,-0.002203191153056029,-0.11070720172163787,-0.0013929376746940486,0.0043491986528596555,-0.0006758116389717524,-0.00566571025576838,1.2453112291580149e-05]},\"selected\":{\"id\":\"d768c369-e629-410b-8038-c154b8fe06e4\",\"type\":\"Selection\"},\"selection_policy\":{\"id\":\"8423c9e3-4a99-4090-8e1d-61aadf6adf13\",\"type\":\"UnionRenderers\"}},\"id\":\"9011d1a9-ccef-4110-9959-f4405a282953\",\"type\":\"ColumnDataSource\"},{\"attributes\":{},\"id\":\"e1be7cb4-c644-4656-9ef5-0948e86018c0\",\"type\":\"PanTool\"},{\"attributes\":{\"fill_alpha\":{\"value\":0.1},\"fill_color\":{\"value\":\"#1f77b4\"},\"line_alpha\":{\"value\":0.1},\"line_color\":{\"value\":\"#1f77b4\"},\"x\":{\"field\":\"x\"},\"y\":{\"field\":\"y\"}},\"id\":\"099e4a15-caa5-43ac-affa-6168f3af021b\",\"type\":\"Circle\"},{\"attributes\":{\"dimension\":1,\"plot\":{\"id\":\"648740a0-d7ff-445d-a1c7-873952cb7bdc\",\"subtype\":\"Figure\",\"type\":\"Plot\"},\"ticker\":{\"id\":\"bf872336-ce3d-4a25-b674-7ee9debbc124\",\"type\":\"BasicTicker\"}},\"id\":\"2fbf6575-f198-4a21-91fa-742b8e58364c\",\"type\":\"Grid\"},{\"attributes\":{\"fill_alpha\":{\"value\":0.5},\"fill_color\":{\"field\":\"label\",\"transform\":{\"id\":\"2e023410-95f5-4fe8-8e92-c4f78e7e196c\",\"type\":\"CategoricalColorMapper\"}},\"line_alpha\":{\"value\":0.5},\"line_color\":{\"field\":\"label\",\"transform\":{\"id\":\"2e023410-95f5-4fe8-8e92-c4f78e7e196c\",\"type\":\"CategoricalColorMapper\"}},\"x\":{\"field\":\"x\"},\"y\":{\"field\":\"y\"}},\"id\":\"0ef606d8-d922-4ade-b752-b8a5319791f9\",\"type\":\"Circle\"},{\"attributes\":{\"bottom_units\":\"screen\",\"fill_alpha\":{\"value\":0.5},\"fill_color\":{\"value\":\"lightgrey\"},\"left_units\":\"screen\",\"level\":\"overlay\",\"line_alpha\":{\"value\":1.0},\"line_color\":{\"value\":\"black\"},\"line_dash\":[4,4],\"line_width\":{\"value\":2},\"plot\":null,\"render_mode\":\"css\",\"right_units\":\"screen\",\"top_units\":\"screen\"},\"id\":\"80cfa6ae-4f0a-4182-8119-7b3639154d6c\",\"type\":\"BoxAnnotation\"},{\"attributes\":{\"axis_label\":\"PC2\",\"formatter\":{\"id\":\"27a70cfa-e175-452a-9f30-6fef00e39764\",\"type\":\"BasicTickFormatter\"},\"plot\":{\"id\":\"648740a0-d7ff-445d-a1c7-873952cb7bdc\",\"subtype\":\"Figure\",\"type\":\"Plot\"},\"ticker\":{\"id\":\"bf872336-ce3d-4a25-b674-7ee9debbc124\",\"type\":\"BasicTicker\"}},\"id\":\"4f6de94e-1f03-4d27-9cbb-28c58048b96b\",\"type\":\"LinearAxis\"},{\"attributes\":{},\"id\":\"bf872336-ce3d-4a25-b674-7ee9debbc124\",\"type\":\"BasicTicker\"},{\"attributes\":{},\"id\":\"7756eb53-81d8-4975-8e6c-72e178b90eac\",\"type\":\"BasicTicker\"},{\"attributes\":{\"plot\":{\"id\":\"648740a0-d7ff-445d-a1c7-873952cb7bdc\",\"subtype\":\"Figure\",\"type\":\"Plot\"},\"ticker\":{\"id\":\"7756eb53-81d8-4975-8e6c-72e178b90eac\",\"type\":\"BasicTicker\"}},\"id\":\"2620024a-6df1-4dc8-a1af-73d35948a905\",\"type\":\"Grid\"},{\"attributes\":{\"factors\":[\"African American\",\"Caucasian\"],\"palette\":[\"#1f77b4\",\"#ff7f0e\"]},\"id\":\"2e023410-95f5-4fe8-8e92-c4f78e7e196c\",\"type\":\"CategoricalColorMapper\"},{\"attributes\":{\"axis_label\":\"PC1\",\"formatter\":{\"id\":\"8a3596a5-6857-4218-ba38-d5af114de55b\",\"type\":\"BasicTickFormatter\"},\"plot\":{\"id\":\"648740a0-d7ff-445d-a1c7-873952cb7bdc\",\"subtype\":\"Figure\",\"type\":\"Plot\"},\"ticker\":{\"id\":\"7756eb53-81d8-4975-8e6c-72e178b90eac\",\"type\":\"BasicTicker\"}},\"id\":\"4f827d3a-4e94-45e9-b5b0-0d2b8416e0e7\",\"type\":\"LinearAxis\"},{\"attributes\":{\"callback\":null},\"id\":\"5160cb16-25bb-4f03-a2e2-8c8a5e6c45cb\",\"type\":\"DataRange1d\"},{\"attributes\":{},\"id\":\"4d2df4c3-b09e-4d08-b3cf-ed8e598939f0\",\"type\":\"LinearScale\"},{\"attributes\":{},\"id\":\"f98fc5fd-0bc7-4418-8abf-827f7d749060\",\"type\":\"LinearScale\"},{\"attributes\":{\"callback\":null},\"id\":\"9b2083d9-96a7-493d-8598-bfaaffe81a12\",\"type\":\"DataRange1d\"},{\"attributes\":{\"active_drag\":\"auto\",\"active_inspect\":\"auto\",\"active_multi\":null,\"active_scroll\":\"auto\",\"active_tap\":\"auto\",\"tools\":[{\"id\":\"e1be7cb4-c644-4656-9ef5-0948e86018c0\",\"type\":\"PanTool\"},{\"id\":\"ff212873-bb55-4bf1-8407-52433a68b1fd\",\"type\":\"WheelZoomTool\"},{\"id\":\"4644270a-936a-4255-9aa6-481d05b812c7\",\"type\":\"BoxZoomTool\"},{\"id\":\"3dbf4af9-7db0-4bff-8863-4783cc87cbf4\",\"type\":\"SaveTool\"},{\"id\":\"fcedd168-7f0e-409f-9ca5-045126c40d1c\",\"type\":\"ResetTool\"},{\"id\":\"955ad832-5c05-4b4c-b863-d0c1070741c4\",\"type\":\"HelpTool\"}]},\"id\":\"e7dc8d22-445c-462c-a4cd-e97caa39bd6a\",\"type\":\"Toolbar\"},{\"attributes\":{\"plot\":null,\"text\":\"PCA Caucasian\"},\"id\":\"7dee85ff-7748-4eea-8b36-88c2130b69ee\",\"type\":\"Title\"},{\"attributes\":{},\"id\":\"d768c369-e629-410b-8038-c154b8fe06e4\",\"type\":\"Selection\"},{\"attributes\":{\"background_fill_color\":{\"value\":\"#EEEEEE\"},\"below\":[{\"id\":\"4f827d3a-4e94-45e9-b5b0-0d2b8416e0e7\",\"type\":\"LinearAxis\"}],\"left\":[{\"id\":\"4f6de94e-1f03-4d27-9cbb-28c58048b96b\",\"type\":\"LinearAxis\"}],\"renderers\":[{\"id\":\"4f827d3a-4e94-45e9-b5b0-0d2b8416e0e7\",\"type\":\"LinearAxis\"},{\"id\":\"2620024a-6df1-4dc8-a1af-73d35948a905\",\"type\":\"Grid\"},{\"id\":\"4f6de94e-1f03-4d27-9cbb-28c58048b96b\",\"type\":\"LinearAxis\"},{\"id\":\"2fbf6575-f198-4a21-91fa-742b8e58364c\",\"type\":\"Grid\"},{\"id\":\"80cfa6ae-4f0a-4182-8119-7b3639154d6c\",\"type\":\"BoxAnnotation\"},{\"id\":\"dc01af9c-846e-41de-8a12-a5216c93836a\",\"type\":\"Legend\"},{\"id\":\"3dcb144a-7cd6-4a5b-b398-65bafac68c48\",\"type\":\"GlyphRenderer\"}],\"title\":{\"id\":\"7dee85ff-7748-4eea-8b36-88c2130b69ee\",\"type\":\"Title\"},\"toolbar\":{\"id\":\"e7dc8d22-445c-462c-a4cd-e97caa39bd6a\",\"type\":\"Toolbar\"},\"x_range\":{\"id\":\"9b2083d9-96a7-493d-8598-bfaaffe81a12\",\"type\":\"DataRange1d\"},\"x_scale\":{\"id\":\"f98fc5fd-0bc7-4418-8abf-827f7d749060\",\"type\":\"LinearScale\"},\"y_range\":{\"id\":\"5160cb16-25bb-4f03-a2e2-8c8a5e6c45cb\",\"type\":\"DataRange1d\"},\"y_scale\":{\"id\":\"4d2df4c3-b09e-4d08-b3cf-ed8e598939f0\",\"type\":\"LinearScale\"}},\"id\":\"648740a0-d7ff-445d-a1c7-873952cb7bdc\",\"subtype\":\"Figure\",\"type\":\"Plot\"},{\"attributes\":{},\"id\":\"8423c9e3-4a99-4090-8e1d-61aadf6adf13\",\"type\":\"UnionRenderers\"}],\"root_ids\":[\"648740a0-d7ff-445d-a1c7-873952cb7bdc\"]},\"title\":\"Bokeh Application\",\"version\":\"0.13.0\"}};\n",
       "  var render_items = [{\"docid\":\"9cf01df4-b8a6-4473-850a-4da16a48981e\",\"roots\":{\"648740a0-d7ff-445d-a1c7-873952cb7bdc\":\"cfd846e2-ce7d-4674-b4ab-c7b7b5ed3c00\"}}];\n",
       "  root.Bokeh.embed.embed_items_notebook(docs_json, render_items);\n",
       "\n",
       "  }\n",
       "  if (root.Bokeh !== undefined) {\n",
       "    embed_document(root);\n",
       "  } else {\n",
       "    var attempts = 0;\n",
       "    var timer = setInterval(function(root) {\n",
       "      if (root.Bokeh !== undefined) {\n",
       "        embed_document(root);\n",
       "        clearInterval(timer);\n",
       "      }\n",
       "      attempts++;\n",
       "      if (attempts > 100) {\n",
       "        console.log(\"Bokeh: ERROR: Unable to run BokehJS code because BokehJS library is missing\")\n",
       "        clearInterval(timer);\n",
       "      }\n",
       "    }, 10, root)\n",
       "  }\n",
       "})(window);"
      ],
      "application/vnd.bokehjs_exec.v0+json": ""
     },
     "metadata": {
      "application/vnd.bokehjs_exec.v0+json": {
       "id": "648740a0-d7ff-445d-a1c7-873952cb7bdc"
      }
     },
     "output_type": "display_data"
    }
   ],
   "source": [
    "pca = hl.plot.scatter(mt_common.scores[0],\n",
    "                      mt_common.scores[1],\n",
    "                      label = mt_common.Race,\n",
    "                      title = 'PCA Caucasian', xlabel = 'PC1', ylabel = 'PC2')\n",
    "show(pca)"
   ]
  },
  {
   "cell_type": "markdown",
   "metadata": {},
   "source": [
    "Save in Google Dataproc:"
   ]
  },
  {
   "cell_type": "code",
   "execution_count": null,
   "metadata": {},
   "outputs": [],
   "source": [
    "output_file('pca', title = \"COPDfreeze4_pca\" mode = 'cdn')\n",
    "save(pca)\n",
    "client.get_bucket('path_to_').blob('COPDfreeze4_pca.html').upload_from_filename('pca') "
   ]
  },
  {
   "cell_type": "markdown",
   "metadata": {},
   "source": [
    "### 5.4. Optional: Project new samples on existing PCs"
   ]
  },
  {
   "cell_type": "code",
   "execution_count": null,
   "metadata": {},
   "outputs": [],
   "source": [
    "ef pc_project(\n",
    "        # reference: https://github.com/macarthur-lab/gnomad_hail/blob/master/utils/generic.py#L131\n",
    "        mt: hl.MatrixTable,\n",
    "        loadings_ht: hl.Table,\n",
    "        loading_location: str = \"loadings\",\n",
    "        af_location: str = \"pca_af\"\n",
    ") -> hl.Table:\n",
    "    n_variants = loadings_ht.count()\n",
    "    mt = mt.annotate_rows(\n",
    "        pca_loadings=loadings_ht[mt.row_key][loading_location],\n",
    "        pca_af=loadings_ht[mt.row_key][af_location]\n",
    "    )\n",
    "    mt = mt.filter_rows(hl.is_defined(mt.pca_loadings) & hl.is_defined(mt.pca_af) &\n",
    "                        (mt.pca_af > 0) & (mt.pca_af < 1))\n",
    "    gt_norm = (mt.GT.n_alt_alleles() - 2 * mt.pca_af) / hl.sqrt(n_variants * 2 * mt.pca_af * (1 - mt.pca_af))\n",
    "    mt = mt.annotate_cols(scores=hl.agg.array_sum(mt.pca_loadings * gt_norm))\n",
    "    return mt.cols().select('scores')\n",
    "eigenvalues, scores, loadings = hl.hwe_normalized_pca(mt_common.GT, k = 10, compute_loadings = True)\n",
    "mt_common = mt_common.annotate_cols(scores = scores[mt_common.s].scores)\n",
    "mt_common = mt_common.annotate_rows(pca_af = hl.agg.mean(mt_common.GT.n_alt_alleles()) / 2)\n",
    "loadings = loadings.annotate(pca_af = mt_common[loadings.key, :].pca_af)\n",
    "related_scores = pc_project(related_mt, pca_loadings)"
   ]
  },
  {
   "cell_type": "code",
   "execution_count": null,
   "metadata": {},
   "outputs": [],
   "source": [
    "eigenvalues, scores, loadings = hl.hwe_normalized_pca(\n",
    "    mt_common.GT, k = 10, compute_loadings = True)"
   ]
  },
  {
   "cell_type": "code",
   "execution_count": null,
   "metadata": {},
   "outputs": [],
   "source": [
    "mt_common = mt_common.annotate_cols(scores = scores[mt_common.s].scores) "
   ]
  },
  {
   "cell_type": "code",
   "execution_count": null,
   "metadata": {},
   "outputs": [],
   "source": [
    "mt_common = mt_common.annotate_rows(pca_af = hl.agg.mean(mt_common.GT.n_alt_alleles()) / 2)"
   ]
  },
  {
   "cell_type": "code",
   "execution_count": null,
   "metadata": {},
   "outputs": [],
   "source": [
    "loadings = loadings.annotate(\n",
    "    pca_af = mt_common[loadings.key, :].pca_af)"
   ]
  },
  {
   "cell_type": "code",
   "execution_count": null,
   "metadata": {},
   "outputs": [],
   "source": [
    "related_scores = pc_project(related_mt, pca_loadings)"
   ]
  },
  {
   "cell_type": "markdown",
   "metadata": {},
   "source": [
    "### 5.5. Optional: PCA manually"
   ]
  },
  {
   "cell_type": "code",
   "execution_count": null,
   "metadata": {},
   "outputs": [],
   "source": [
    "x = pca_scores.scores[0]\n",
    "y = pca_scores.scores[1]\n",
    "label = mt.cols()[pca_scores.s].Race\n",
    "collect_all = nullable(bool)\n",
    "\n",
    "if isinstance(x, Expression) and isinstance(y, Expression):\n",
    "        agg_f = x._aggregation_method()\n",
    "        if isinstance(label, Expression):\n",
    "            if collect_all:\n",
    "                res = hail.tuple([x, y, label]).collect()\n",
    "                label = [point[2] for point in res]\n",
    "            else:\n",
    "                res = agg_f(aggregators.downsample(x, y, label=label, n_divisions=n_divisions))\n",
    "                label = [point[2][0] for point in res]\n",
    "\n",
    "            x = [point[0] for point in res]\n",
    "            y = [point[1] for point in res]\n",
    "        else:\n",
    "            if collect_all:\n",
    "                res = hail.tuple([x, y]).collect()\n",
    "            else:\n",
    "                res = agg_f(aggregators.downsample(x, y, n_divisions=n_divisions))\n",
    "\n",
    "            x = [point[0] for point in res]\n",
    "            y = [point[1] for point in res]\n",
    "\n",
    "            \n",
    "arg = list(set(label))\n",
    "color=[]\n",
    "for i in label :\n",
    "    if i == arg[1]:\n",
    "        color.append('red')\n",
    "    elif i == arg[2] :\n",
    "        color.append('black')\n",
    "    else : \n",
    "        color.append('blue')"
   ]
  },
  {
   "cell_type": "code",
   "execution_count": null,
   "metadata": {},
   "outputs": [],
   "source": [
    "p = figure(title = 'PCA')\n",
    "fields = dict(x = x, y = y, label = label, color = color)\n",
    "source = ColumnDataSource(fields)\n",
    "p.circle( x = 'x', y = 'y', legend = 'label', color = 'color', source = source)\n",
    "show(p)"
   ]
  },
  {
   "cell_type": "markdown",
   "metadata": {},
   "source": [
    "# 6. GWAS"
   ]
  },
  {
   "cell_type": "markdown",
   "metadata": {},
   "source": [
    "### 6.1. GWAS table"
   ]
  },
  {
   "cell_type": "markdown",
   "metadata": {},
   "source": [
    "Plots were made for common and rare, or common, or rare variants. In which common is > 0.05 (Gibson et al Common and rare variants: 20 arguments)."
   ]
  },
  {
   "cell_type": "code",
   "execution_count": 8,
   "metadata": {},
   "outputs": [],
   "source": [
    "mt = mt.filter_rows(mt.variant_qc.AF[1] > 0.01)"
   ]
  },
  {
   "cell_type": "markdown",
   "metadata": {},
   "source": [
    "13438678 variants have MAF of 1% (rare and common) for 1752 participants"
   ]
  },
  {
   "cell_type": "markdown",
   "metadata": {},
   "source": [
    "### 6.2. Firth logistic regression with Affection status\n",
    "Correcting for:\n",
    "- population stratification (population structure) with 2 JPCs within population.\n",
    "- 1.0 is input variable number of alternate alleles, with input variable the genotype dosage derived from the PL field.\n",
    "- pack-years\n",
    "- Note: not for age, because it is known that age is positively linearly correlated to COPD severity, and in this data set the age is inverse to the case/ctrl, which would not benefit the regression."
   ]
  },
  {
   "cell_type": "code",
   "execution_count": null,
   "metadata": {},
   "outputs": [],
   "source": [
    "gwas = hl.logistic_regression_rows(\n",
    "            test = \"firth\",\n",
    "            y = hl.float(mt.AffectionBool),\n",
    "            x = mt.GT.n_alt_alleles(),\n",
    "            covariates = [1, hl.float(mt.PackYear), \n",
    "                          mt.scores[0], mt.scores[1],\n",
    "                         mt.scores[2], mt.scores[3],\n",
    "                         mt.scores[4], mt.scores[5],\n",
    "                         mt.scores[6], mt.scores[7],\n",
    "                         mt.scores[8], mt.scores[9]]) "
   ]
  },
  {
   "cell_type": "markdown",
   "metadata": {},
   "source": [
    "### 6.3. Linear regression with FEV1 or FEV1FVC variables (lung function)"
   ]
  },
  {
   "cell_type": "code",
   "execution_count": null,
   "metadata": {},
   "outputs": [],
   "source": [
    "gwas_lin = hl.linear_regression_rows(\n",
    "            y = hl.float(mt.FEV1FVC),\n",
    "            x = mt.GT.n_alt_alleles(),\n",
    "            covariates = [1, hl.float(mt.PackYear), \n",
    "                          mt.scores[0], mt.scores[1],\n",
    "                         mt.scores[2], mt.scores[3],\n",
    "                         mt.scores[4], mt.scores[5],\n",
    "                         mt.scores[6], mt.scores[7],\n",
    "                         mt.scores[8], mt.scores[9]]) "
   ]
  },
  {
   "cell_type": "markdown",
   "metadata": {},
   "source": [
    "### 6.4 QQ-plot"
   ]
  },
  {
   "cell_type": "markdown",
   "metadata": {},
   "source": [
    "- Observed against expected p-value: variants that are further away from the diagonal line are more causally linked to COPD condition.\n",
    "- To what extend was the correction of population stratification successful. "
   ]
  },
  {
   "cell_type": "code",
   "execution_count": 68,
   "metadata": {},
   "outputs": [
    {
     "name": "stderr",
     "output_type": "stream",
     "text": [
      "2019-06-07 17:12:43 Hail: INFO: Ordering unsorted dataset with network shuffle\n"
     ]
    }
   ],
   "source": [
    "qqplot = hl.plot.qq(gwas.p_value)"
   ]
  },
  {
   "cell_type": "code",
   "execution_count": 69,
   "metadata": {},
   "outputs": [
    {
     "data": {
      "text/html": [
       "\n",
       "\n",
       "\n",
       "\n",
       "\n",
       "\n",
       "  <div class=\"bk-root\" id=\"e4408621-918d-4340-81d8-79743545f9ff\"></div>\n"
      ]
     },
     "metadata": {},
     "output_type": "display_data"
    },
    {
     "data": {
      "application/javascript": [
       "(function(root) {\n",
       "  function embed_document(root) {\n",
       "    \n",
       "  var docs_json = {\"ac635b92-3314-4a9a-8eef-3d8d2f0d8eca\":{\"roots\":{\"references\":[{\"attributes\":{\"axis_label\":\"Observed p-value (-log10 scale)\",\"formatter\":{\"id\":\"50067d6d-7841-46fa-bf44-0dd7cfc06cb4\",\"type\":\"BasicTickFormatter\"},\"plot\":{\"id\":\"060d3ea9-160a-4b59-9f6e-e58e046fda36\",\"subtype\":\"Figure\",\"type\":\"Plot\"},\"ticker\":{\"id\":\"d45817ff-80ef-4b3e-852e-d379a413014e\",\"type\":\"BasicTicker\"}},\"id\":\"e056b2b2-77c6-4a32-bcbb-0d8aa95f5a45\",\"type\":\"LinearAxis\"},{\"attributes\":{\"axis_label\":\"Expected p-value (-log10 scale)\",\"formatter\":{\"id\":\"b5de464c-8111-423a-90c9-968f0228661a\",\"type\":\"BasicTickFormatter\"},\"plot\":{\"id\":\"060d3ea9-160a-4b59-9f6e-e58e046fda36\",\"subtype\":\"Figure\",\"type\":\"Plot\"},\"ticker\":{\"id\":\"c471c983-d3d1-4d9a-82f5-4acf45d02fdb\",\"type\":\"BasicTicker\"}},\"id\":\"419360b8-aca7-41ff-9b7e-8d03799e0d52\",\"type\":\"LinearAxis\"},{\"attributes\":{},\"id\":\"e2e3cb96-53bd-4063-a51b-054088a7c384\",\"type\":\"LinearScale\"},{\"attributes\":{\"below\":[{\"id\":\"419360b8-aca7-41ff-9b7e-8d03799e0d52\",\"type\":\"LinearAxis\"}],\"left\":[{\"id\":\"e056b2b2-77c6-4a32-bcbb-0d8aa95f5a45\",\"type\":\"LinearAxis\"}],\"renderers\":[{\"id\":\"419360b8-aca7-41ff-9b7e-8d03799e0d52\",\"type\":\"LinearAxis\"},{\"id\":\"580d04c2-45db-4cec-9c2a-e20287b08cd0\",\"type\":\"Grid\"},{\"id\":\"e056b2b2-77c6-4a32-bcbb-0d8aa95f5a45\",\"type\":\"LinearAxis\"},{\"id\":\"54bf2476-a14c-4ece-ad03-81d0eb6a8e29\",\"type\":\"Grid\"},{\"id\":\"97bbfaa6-b87c-4162-b857-64b7890308a3\",\"type\":\"BoxAnnotation\"},{\"id\":\"4fb92487-d01d-405e-9b0a-a374a794c509\",\"type\":\"GlyphRenderer\"},{\"id\":\"3bcd80f6-dd12-48db-b425-6c27833b3902\",\"type\":\"GlyphRenderer\"}],\"title\":{\"id\":\"793f64f0-7563-41c2-8bba-eddeba701d85\",\"type\":\"Title\"},\"toolbar\":{\"id\":\"271a0fa1-1752-4a99-ab73-4ef6d63eebe8\",\"type\":\"Toolbar\"},\"x_range\":{\"id\":\"36548386-14d0-44c8-a7c7-63bfc5bf7cf3\",\"type\":\"DataRange1d\"},\"x_scale\":{\"id\":\"e2e3cb96-53bd-4063-a51b-054088a7c384\",\"type\":\"LinearScale\"},\"y_range\":{\"id\":\"fc64acf3-15c8-44d5-8c94-a184de84dd97\",\"type\":\"DataRange1d\"},\"y_scale\":{\"id\":\"ec6709b2-1766-459b-87ac-6831f10b6c85\",\"type\":\"LinearScale\"}},\"id\":\"060d3ea9-160a-4b59-9f6e-e58e046fda36\",\"subtype\":\"Figure\",\"type\":\"Plot\"},{\"attributes\":{},\"id\":\"b5de464c-8111-423a-90c9-968f0228661a\",\"type\":\"BasicTickFormatter\"},{\"attributes\":{\"line_color\":\"red\",\"x\":{\"field\":\"x\"},\"y\":{\"field\":\"y\"}},\"id\":\"9f22bf97-fd1e-4ee4-8ffe-03a28641089a\",\"type\":\"Line\"},{\"attributes\":{},\"id\":\"50067d6d-7841-46fa-bf44-0dd7cfc06cb4\",\"type\":\"BasicTickFormatter\"},{\"attributes\":{},\"id\":\"ec6709b2-1766-459b-87ac-6831f10b6c85\",\"type\":\"LinearScale\"},{\"attributes\":{\"callback\":null},\"id\":\"36548386-14d0-44c8-a7c7-63bfc5bf7cf3\",\"type\":\"DataRange1d\"},{\"attributes\":{\"plot\":null,\"text\":\"Q-Q Plot\"},\"id\":\"793f64f0-7563-41c2-8bba-eddeba701d85\",\"type\":\"Title\"},{\"attributes\":{\"active_drag\":\"auto\",\"active_inspect\":\"auto\",\"active_multi\":null,\"active_scroll\":\"auto\",\"active_tap\":\"auto\",\"tools\":[{\"id\":\"0b788b12-75fa-437f-bede-33b0348d61cf\",\"type\":\"PanTool\"},{\"id\":\"b3477c69-36ed-4736-b458-2b0f133cc057\",\"type\":\"WheelZoomTool\"},{\"id\":\"9f9e4abb-e2fc-4f7c-b89c-5fc0b03f980f\",\"type\":\"BoxZoomTool\"},{\"id\":\"2a724f8a-fefc-42aa-8f95-6cb1f19391d2\",\"type\":\"SaveTool\"},{\"id\":\"73bfe932-92b9-43b1-b4c8-9854434b8fe8\",\"type\":\"ResetTool\"},{\"id\":\"f0abbd9d-d242-47e3-ac72-abbcb9a29883\",\"type\":\"HelpTool\"}]},\"id\":\"271a0fa1-1752-4a99-ab73-4ef6d63eebe8\",\"type\":\"Toolbar\"},{\"attributes\":{\"plot\":{\"id\":\"060d3ea9-160a-4b59-9f6e-e58e046fda36\",\"subtype\":\"Figure\",\"type\":\"Plot\"},\"ticker\":{\"id\":\"c471c983-d3d1-4d9a-82f5-4acf45d02fdb\",\"type\":\"BasicTicker\"}},\"id\":\"580d04c2-45db-4cec-9c2a-e20287b08cd0\",\"type\":\"Grid\"},{\"attributes\":{},\"id\":\"d5b584d2-c31a-4553-b6b9-f58be6d71263\",\"type\":\"UnionRenderers\"},{\"attributes\":{},\"id\":\"c471c983-d3d1-4d9a-82f5-4acf45d02fdb\",\"type\":\"BasicTicker\"},{\"attributes\":{\"data_source\":{\"id\":\"3d04f509-2348-47ad-8dc7-8eb5ca49eb9c\",\"type\":\"ColumnDataSource\"},\"glyph\":{\"id\":\"64473bc9-4e8f-4b84-981c-910bbca0e4a9\",\"type\":\"Circle\"},\"hover_glyph\":null,\"muted_glyph\":null,\"nonselection_glyph\":{\"id\":\"a4f0a717-6e2c-4338-aaf9-ba3ca3da1e5b\",\"type\":\"Circle\"},\"selection_glyph\":null,\"view\":{\"id\":\"ef432fdf-149b-4d6a-9684-1db21c25f021\",\"type\":\"CDSView\"}},\"id\":\"4fb92487-d01d-405e-9b0a-a374a794c509\",\"type\":\"GlyphRenderer\"},{\"attributes\":{\"fill_color\":{\"value\":\"black\"},\"x\":{\"field\":\"x\"},\"y\":{\"field\":\"y\"}},\"id\":\"64473bc9-4e8f-4b84-981c-910bbca0e4a9\",\"type\":\"Circle\"},{\"attributes\":{\"data_source\":{\"id\":\"5b3098cc-3c68-420a-bdd3-60d25038908f\",\"type\":\"ColumnDataSource\"},\"glyph\":{\"id\":\"9f22bf97-fd1e-4ee4-8ffe-03a28641089a\",\"type\":\"Line\"},\"hover_glyph\":null,\"muted_glyph\":null,\"nonselection_glyph\":{\"id\":\"3bc76a28-a888-4c89-84dd-a4ebcdebc117\",\"type\":\"Line\"},\"selection_glyph\":null,\"view\":{\"id\":\"892e48f8-5aa6-4f6c-afde-731d8c2b59ed\",\"type\":\"CDSView\"}},\"id\":\"3bcd80f6-dd12-48db-b425-6c27833b3902\",\"type\":\"GlyphRenderer\"},{\"attributes\":{\"callback\":null},\"id\":\"fc64acf3-15c8-44d5-8c94-a184de84dd97\",\"type\":\"DataRange1d\"},{\"attributes\":{\"bottom_units\":\"screen\",\"fill_alpha\":{\"value\":0.5},\"fill_color\":{\"value\":\"lightgrey\"},\"left_units\":\"screen\",\"level\":\"overlay\",\"line_alpha\":{\"value\":1.0},\"line_color\":{\"value\":\"black\"},\"line_dash\":[4,4],\"line_width\":{\"value\":2},\"plot\":null,\"render_mode\":\"css\",\"right_units\":\"screen\",\"top_units\":\"screen\"},\"id\":\"97bbfaa6-b87c-4162-b857-64b7890308a3\",\"type\":\"BoxAnnotation\"},{\"attributes\":{},\"id\":\"73bfe932-92b9-43b1-b4c8-9854434b8fe8\",\"type\":\"ResetTool\"},{\"attributes\":{},\"id\":\"f0e6f705-ac6b-494e-92d2-79c61e06d701\",\"type\":\"Selection\"},{\"attributes\":{\"dimension\":1,\"plot\":{\"id\":\"060d3ea9-160a-4b59-9f6e-e58e046fda36\",\"subtype\":\"Figure\",\"type\":\"Plot\"},\"ticker\":{\"id\":\"d45817ff-80ef-4b3e-852e-d379a413014e\",\"type\":\"BasicTicker\"}},\"id\":\"54bf2476-a14c-4ece-ad03-81d0eb6a8e29\",\"type\":\"Grid\"},{\"attributes\":{},\"id\":\"2a724f8a-fefc-42aa-8f95-6cb1f19391d2\",\"type\":\"SaveTool\"},{\"attributes\":{\"overlay\":{\"id\":\"97bbfaa6-b87c-4162-b857-64b7890308a3\",\"type\":\"BoxAnnotation\"}},\"id\":\"9f9e4abb-e2fc-4f7c-b89c-5fc0b03f980f\",\"type\":\"BoxZoomTool\"},{\"attributes\":{\"line_alpha\":0.1,\"line_color\":\"#1f77b4\",\"x\":{\"field\":\"x\"},\"y\":{\"field\":\"y\"}},\"id\":\"3bc76a28-a888-4c89-84dd-a4ebcdebc117\",\"type\":\"Line\"},{\"attributes\":{\"callback\":null,\"data\":{\"x\":[0,7.84119222232929],\"y\":[0,7.84119222232929]},\"selected\":{\"id\":\"1caca45e-30bb-448e-9aa7-4c4930ef61a8\",\"type\":\"Selection\"},\"selection_policy\":{\"id\":\"d5b584d2-c31a-4553-b6b9-f58be6d71263\",\"type\":\"UnionRenderers\"}},\"id\":\"5b3098cc-3c68-420a-bdd3-60d25038908f\",\"type\":\"ColumnDataSource\"},{\"attributes\":{},\"id\":\"dc0743b9-dca6-4d9a-92c1-629e4b1c735d\",\"type\":\"UnionRenderers\"},{\"attributes\":{},\"id\":\"b3477c69-36ed-4736-b458-2b0f133cc057\",\"type\":\"WheelZoomTool\"},{\"attributes\":{\"fill_alpha\":{\"value\":0.1},\"fill_color\":{\"value\":\"#1f77b4\"},\"line_alpha\":{\"value\":0.1},\"line_color\":{\"value\":\"#1f77b4\"},\"x\":{\"field\":\"x\"},\"y\":{\"field\":\"y\"}},\"id\":\"a4f0a717-6e2c-4338-aaf9-ba3ca3da1e5b\",\"type\":\"Circle\"},{\"attributes\":{},\"id\":\"d45817ff-80ef-4b3e-852e-d379a413014e\",\"type\":\"BasicTicker\"},{\"attributes\":{},\"id\":\"f0abbd9d-d242-47e3-ac72-abbcb9a29883\",\"type\":\"HelpTool\"},{\"attributes\":{},\"id\":\"1caca45e-30bb-448e-9aa7-4c4930ef61a8\",\"type\":\"Selection\"},{\"attributes\":{\"source\":{\"id\":\"3d04f509-2348-47ad-8dc7-8eb5ca49eb9c\",\"type\":\"ColumnDataSource\"}},\"id\":\"ef432fdf-149b-4d6a-9684-1db21c25f021\",\"type\":\"CDSView\"},{\"attributes\":{\"source\":{\"id\":\"5b3098cc-3c68-420a-bdd3-60d25038908f\",\"type\":\"ColumnDataSource\"}},\"id\":\"892e48f8-5aa6-4f6c-afde-731d8c2b59ed\",\"type\":\"CDSView\"},{\"attributes\":{},\"id\":\"0b788b12-75fa-437f-bede-33b0348d61cf\",\"type\":\"PanTool\"},{\"attributes\":{\"callback\":null,\"data\":{\"x\":[2.376354238317791,3.789501816270663,4.733904851484363,2.44018598590802,0.456690603414782,2.6440140017716547,0.8992117240115823,0.18286158094447363,2.875115495454469,4.179943596612889,2.211129469379847,3.3155768445643083,1.808802879050555,0.03046967984868212,2.336778191363349,5.253295295174115,0.07681597448408022,5.03845142295935,5.174114031432744,2.622555627075662,5.049175294824444,1.0188883699529894,3.283010426045196,2.8530451963269887,3.82754375485289,1.8497972715540085,3.0210108902414947,2.971081137692341,4.1201823571261,0.12273629212336129,5.827326545208088,1.6906614491608398,0.7548784843572789,2.4568042155696106,1.4910950192041867,3.7226687745349323,0.46715306811315926,2.607886118753925,4.200473159682773,4.74995866324414,0.8189380507522769,7.128356565753899,1.0043292813708056,0.19962127135424335,1.232709724018299,1.3986905101723015,1.29119062958122,2.219598160122859,3.587401752185545,0.17403832675957948,0.1906153948908875,4.4507495903818795,0.010686710262252944,5.247542962560024,4.649790044396478,1.8528171662671662,3.664911512114508,0.5320673955798193,3.144504826976616,2.5417805013948054,2.4279297644896047,5.7304165322000316,3.775017443678451,3.415538532334928,4.652685353435285,4.461838569469125,2.0552690209226765,2.798430120736979,2.504693841849265,1.1295019725159674,4.596877639441942,3.221590662252865,0.7353616564483131,2.4625598685510868,1.7855846041926162,3.3227877228667038,2.7797012757366644,2.1847235445597626,1.8553645449878327,0.3336348362476972,3.0506980131393973,2.3745284742879984,3.3818001757034835,0.5868198819521134,1.0823454880186447,1.230479395085727,1.1080218078388377,4.158474887738213,2.7165348929507083,3.0792936720335593,2.5607186054813575,1.4956108145648783,1.7180112934307603,4.63142689787031,0.03567120373163999,2.1731740928750662,4.115097893350945,2.866451650860413,2.0489473721506584,0.8669504647243934,0.46318257210795394,5.2198715187168,2.9105831780823004,1.3089916277106666,4.190838640886407,2.6543735074675125,3.2908312183431403,5.897907627299859,0.22851391354609982,4.829503465796062,0.7753698755819917,3.3884679044345565,0.7730349483200589,4.836100474932046,4.753608220618684,2.6589174876761885,0.07581072138034979,3.2242363340484,2.412219602516894,0.34716669133381794,1.9048657919074474,4.764744548341535,3.6247020175510594,1.5398674680902644,4.558982637695448,2.5817398643303986,4.222021510262772,0.760791538014573,4.68119850952985,4.573262107818903,3.1015373742203285,3.511776002059094,1.3598027806948163,2.2670850772975206,0.9281850958431835,2.2496222665483323,4.723522851419693,3.436038502865251,3.36134919471283,5.785933866081821,0.12768867956605778,4.402444922545767,5.302281750055101,1.0273205779551091,0.037802304202761094,3.7717571223115103,5.6512352861524064,2.6378221967753785,1.6208595887741033,3.7026593190443653,3.7292022188767158,2.752363899307161,1.7053713174784293,1.4580893519336633,1.4100342717492773,3.500888294633815,3.5984131683548113,1.9850512826171502,2.992651580299034,3.491267256568794,0.5642157532897984,1.6232595090041124,2.0313839871293187,2.754837702827042,3.189186857796886,1.485457957489384,3.926686359390498,2.9431261250683374,0.3425163877819099,1.9107910143439601,1.9024711645301442,2.2073467445640964,0.7488931011976737,2.7253905330877792,2.698297620974739,5.335964842812325,3.192295414083718,3.740788776568137,1.3537950547226814,5.214542682015031,0.06535928231096912,1.8897209172995875,0.7223287979385585,1.0053036979984804,1.6635347784801473,4.744541172698198,2.905848190717928,2.9568933682593523,2.3340567674691632,3.1768733242759595,5.395962810538677,1.5679214436058075,3.692034861043538,0.31509214984518513,2.3284235367781023,0.11314820879783287,0.20893644902391328,0.5647010738467165,2.6128270991579816,4.585531107068603,0.47238010735847363,0.5633296938835788,3.958976056880762,4.645482971232061,2.591810725646005,5.027985983116117,1.1280977852876366,2.019189899390982,4.935231949322894,0.8296475127005394,0.8416318191409426,0.19030735698212614,4.797942750159858,3.6268864660113653,1.146708702972162,0.9858438099303383,1.9700392940402722,1.1983177975288204,6.827326570089918,6.1741140240603505,0.006261567556810165,0.6203500471246395,0.34892775122273634,4.105104092559,2.7764250272697546,0.6052350677048994,4.546293190466411,2.186566923770351,4.186845097912941,4.349482059595569,0.669620215289486,4.2952094207749525,0.8209908020449597,2.0527621451984284,1.1391381757225816,2.5736372841861175,2.2389147862811276,5.748145310219054,3.67259835486693,5.011085263450317,3.2419786348719972,1.6068092058316092,2.429152085656873,3.752327381810046,4.209278477274979,0.45860048262004016,2.8350160889122487,0.3743208317724024,3.2141721259790703,4.310130656131876,3.0665649166745634,0.4790310432295875,0.38792862688004087,1.764534047294415,3.3721770340787045,0.8837437493315767,0.8735236214619891,0.6909211873247729,0.9223514876958642,0.3242962853553342,1.4670200337461528,2.254797633531901,3.0857416675676976,2.66881327549819,2.8977033029308803,1.655718544812722,0.20987640251368841,5.387993875505661,1.7290653944193408,1.8776828842257423,3.1062995379041065,2.3524622571322342,1.47582303542437,3.0842089374952897,1.32056522568136,2.4994263496583184,1.6810806575758765,2.7432330944598164,4.239615575388548,1.9465444055365668,4.506142543876307,1.7667401237355027,4.093327247896757,5.636994838476307,1.7407727525492425,1.341337684077001,0.9965727248775971,0.28632302142257887,1.5880270619509549,5.548572958224005,0.3530341402018301,2.443663746140508,4.5892804528182705,1.732530591954719,1.180891934544456,1.6149870907360664,4.320821528512616,0.9819488032390147,0.21884789540540792,2.386905551562457,2.2283555947871614,3.4686304684099394,4.900469853533354,2.8465280682780163,4.632812226220084,0.2391709653798897,5.41235318702934,4.087754215744502,1.84384234264034,1.581749745519718,1.6964205444020308,4.4908668150287685,5.494888097636956,3.404736708766965,5.090930069715556,4.759140690267213,3.729895695187149,0.9797557477736739,0.13090157288070692,4.348039236214348,0.3811877634596201,3.88333768855272,2.787516012369723,5.183873874753859,3.906160496479746,2.59778549123377,5.15522870421319,0.8005955875771742,1.9578513257674888,3.880628733617777,2.9948815313982564,3.396928952441876,2.586502821291203,4.044495741537106,1.3347281786235892,1.5921315253160815,0.32202603039101096,4.880383279008672,4.216666376914165,4.562508716428852,4.5262965495441065,1.3787848623999197,2.7965649727024795,0.5164376777153209,3.098891597656189,3.1607617733189923,0.9993866705087907,3.458946670686467,0.20169674668483917,2.735694759545959,3.6091850702245325,5.28950745398128,3.6378362508952096,3.0651733509310426,4.994817640307915,1.0672216118981406,1.44889230947525,2.6311365303781002,4.787912427243851,4.013745576616706,0.3647690931846087,5.014413208981092,1.1685950937815448,3.8525846650395543,0.056728391998666104,4.098567077226749,5.124035164461643,0.0006525834779337882,4.484903888513717,1.2492503468076355,2.3711731567061354,1.3245745120925057,3.451571521011013,2.6036489456173793,1.9195847533421642,3.9540059551174602,0.016791341867200327,5.364928556461069,0.1684541179417989,4.870677964536552,6.049175305883035,0.6481838192600767,2.861725103076887,3.009959534295706,1.97831584264057,2.5152232910110737,0.19974356392792225,4.95517029205354,4.580581855784436,1.9393690243104247,3.5320894328337586,3.575080512923645,1.769576798996242,2.6196787025354005,4.9916359795274765,1.4646038263680772,1.83439102829329,2.026527028840529,1.826983591998247,4.130097214173142,4.700221758727139,1.2727980334769131,5.007782625751442,5.137130470596027,5.295847635971897,3.8030461722981967,2.3682810347126932,1.8233536088969764,4.375540125626925,0.830311252672742,3.6974756143959873,2.4686304460990867,4.174596837625113,2.844151483654095,4.642635126533255,0.39126891610217307,0.2464197475751466,4.47902167858944,0.14179647063255446,4.952265299510134,5.164568707756814,3.4209567046368576,4.503044101231038,4.476110230015106,0.18795067587478131,2.981144110758947,3.8323498665912603,0.30387867216796893,0.642371918986437,3.8212886074857293,0.09508181287439868,1.1048682917825943,4.591798110645012,4.861184833988475,0.6614816561597704,4.812386212083172,2.505852405267773,0.7271245864920759,0.9697284461579594,4.885318499768808,0.15343984026479204,3.735308066725014,3.0029078084281515,2.482413836618905,0.8352707704110053,4.229631361963446,4.2504095980311645,3.617945588027386,1.9550187398581653,5.277098188414879,2.8553321063317383,1.1574144186517021,3.198733298594861,0.2766812302346515,1.1226870942278897,1.2133896334782097,5.357504533728335,4.391163924416295,4.612482690687068,3.9730204978390455,0.0234217419421093,1.041611376334698,1.4250651567620602,2.8707019567447083,0.49923178474928587,4.662973678516548,6.350205301547017,0.3600278965317355,0.46950933288106966,1.2930179938773751,1.4932258156552367,1.524778105728242,1.9829581035439907,4.227989407207935,1.5177783581432345,2.6259840469177025,3.3396226963766407,4.0434229799041,4.908248475215668,1.959526247794329,2.509294549721064,5.404080656248289,0.36955355852466715,4.85419870854921,4.676570121290906,0.16225915507215213,1.1846251719998622,4.2990527778709025,3.648637310884845,2.4845289532786334,4.7959180871287,3.1336435646017002,4.964003674180529,0.543380591462458,3.713383205150767,4.236261944986875,4.057949242603245,3.1096144567772894,2.0070790829489824,3.934953647841019,4.401629355249044,3.3504949168728824,0.4104678040800419,0.6666595315282166,5.060170685931194,4.304882317280877,2.817323580080925,2.6925599342811815,4.5648754511267375,4.303580099056885,5.00125175439112,3.936067925406129,3.90201445307802,0.4901980877902399,6.225266578761955,0.42800853182993515,3.3083522185177863,1.2603166740470306,4.358979238267226,1.2988996626496845,0.7810944825402061,1.076742181649518,0.6987738265396517,0.4106852033034203,2.933842221884065,2.2033850162881747,4.715056777815551,4.529566049485131,2.923395917965332,4.527383659154067,1.784512880703529,0.28069203986422864,5.447115314555073,3.201654047097886,0.3070058228276023,3.30546958541612,2.9382490407028037,2.449364973698992,5.308812621415424,2.555531413354369,1.5659875308889195,4.4444093974821675,1.9955303367280657,2.9686089228886443,0.2986236364330065,3.5523609244029473,4.770421707840361,0.6582809600230942,4.982228505193831,3.5350704901009697,4.052444794765468,1.22282727188601,2.362427335961862,3.062291641976285,1.8973204399325294,1.0447528943250952,2.2976973066130575,1.3834841137652973,4.5339640087306545,3.585157977041343,1.816678966012618,1.5736469599990885,3.356989587672089,4.356769073014129,3.7837677897705877,4.623206562552163,0.39959243394649213,4.8208604990365975,4.3694446604959785,4.873084035768763,0.7859782841358187,1.4822273865098836,0.1224764501622901,3.7786905689957506,3.274597501813489,2.269963737531485,1.805193183815116,2.7634867350220587,1.1506288445031314,4.011748807435136,0.8596994972270878,3.7664399267018354,3.2637861361575493,1.871340706997361,1.4205965283615702,0.947756472716349,4.69699278654294,2.5471922494004753,3.5781281825836135,1.193201609466307,0.9103462325844281,3.9513975738821507,3.2312245085555724,4.146537928443097,0.8408329311060672,2.948460233297624,1.668709284840961,0.29160130745312535,2.3807816024484816,3.9236940354193774,4.181904274658063,2.343468346065916,0.08246465005324041,0.5072322178037755,4.778108541495491,0.9006986104074404,3.2528901502134375,0.2627877268825368,0.7838175014274295,3.5293472975741227,3.604870238901868,5.188837297405388,2.9274240025833347,1.612620426482325,0.5743198400459272,0.15796283516330617,3.6811985171128834,1.8037016949485232,3.117420871120955,1.0957216639708436,4.728682828907587,3.0039827839655997,2.1522542951533246,0.042976635889353076,3.8642474110057448,6.0144131783573025,0.14476206607726394,3.3839070780712555,1.8312507019709714,2.194277453323426,1.3301155302867238,1.602977413526385,4.607218479551687,2.7686917742152444,4.187840082723612,1.8604178646423049,2.9762211399903036,3.85837688959855,4.232934013066674,5.343026701510381,1.6422776144304847,0.9581646868629722,3.9616304946933263,0.5570194190435245,0.553656983454232,2.58520768811831,2.1911246116698684,1.4368489220361518,4.127488818811089,1.2092962429442777,3.2149666221221436,1.4539418678751195,4.940835830376106,3.818726378650213,1.1783194633923688,2.321871297851524,3.167600472745958,4.459970609373999,4.842799241490426,0.5059290781546348,1.8834834582716804,0.2607111538657856,3.9402721702552572,2.6331731087544488,4.060542023126158,4.102641156720581,0.9565476266028837,5.230729452941199,4.9269594182208385,0.4067296611032348,1.0350939039523077,1.7620344602795424,2.035088975141,3.373931763694828,4.739190472756895,0.09312179209990888,0.35692254029009557,3.860950140615868,3.121078304264734,1.5575370017222367,3.865431061109427,3.437186608307718,2.200852738931885,1.6447521203735305,0.7943556355915566,2.8049600589030197,3.932456900296232,1.5284254717696155,0.8882290921300888,0.1370485559218182,3.041925516692032,5.2650336698445095,2.8902853482258184,2.036756425776314,4.24526319480243,0.6291943822656965,0.907233767834678,2.54333596706911,1.7792034068227764,1.4154510708356967,1.3473138482127835,0.48795690816717413,0.6546438107817462,3.6901307445881826,0.7097563427250437,1.4719027933561502,0.7892144771505998,3.413356574073919,0.24814530673886454,2.2421930670396524,2.6670081328197743,2.002085472260691,5.056474538064354,0.872742026990139,1.56421030233009,1.1113562123334717,1.739541588316973,5.0419967058464,3.8383219199821497,0.4349314982609549,2.5535500193276355,6.651235297210998,2.1035344350727074,2.304706282660012,4.825160482131151,3.2691581774662906,0.06723777203001653,1.3949827285544978,4.262660490357307,3.2964867685459573,0.36287382486729375,1.0694892560036562,5.696992806202658,3.1427953516445184,2.9638847463262694,2.689798366141001,5.241865826040088,2.4978574683644235,1.7517722967597387,2.4728051439579,1.5777100021702235,0.8036531648201016,4.275876550217305,0.6722935591725309,4.903047278103791,5.128356540872069,3.505831687773225,1.5406197662737833,0.11607279018525404,1.3395965639261758,4.849602953887986,3.289067067689643,2.7302428490354465,3.116828397120072,1.6979912126074184,0.5240954750517409,2.8251388815103584,4.9580948469965325,2.1212192663057814,3.7961201292091933,1.9089449417097215,1.6498001387660601,4.432000153740786,0.3309143461115092,0.4014118520615629,2.084754568944325,5.169315145634424,0.5256282627484743,2.0954759946255144,5.596877631635878,4.147444631660363,4.063898542493213,1.8121764561524087,1.869023142672522,0.5392430682007076,0.15217877668903912,4.3401881636792945,2.1449106777406506,0.10303293335230722,1.1339698801812368,3.4214681515196474,1.965989327128034,4.9436651221972365,1.0853221832351854,0.3045668956089818,3.5239144705200522,5.584288496521793,0.18018401598950876,5.42078635957009,5.475144027096725,2.4151937436290085,4.8061372334997605,0.4202458721518451,4.515572703572298,4.285123779147756,1.320952090543012,2.681384662849076,2.4201396603116807,2.109140532695603,4.268018539792237,4.069551053037183,0.3785164643818122,2.281129476707582,4.137130481428932,5.0714517035043425,3.335964853086113,5.083033583604832,1.2640858129992953,4.334566146793893,2.928327296254078,5.094932814874696,1.0628515079316472,1.6594290584757316,4.48097359227687,3.995776697710742,3.4805824879754548,5.560154838324494,2.2931671211044184,1.405070031780529,5.66595855212505,3.2521964666711596,1.7225595546316133,3.8925756549686668,4.636994855599286,5.004504913873729,3.331296854345609,2.1335468554352026,1.816198250120001,1.5036290483103185,1.2042820590568843,3.4963043638868783,4.831691353291409,2.4065624334318136,5.259124842660513,4.910872588615551,0.8435580024288442,4.9699940414044255,2.3829538070423055,2.4340936486380373,3.333450437930332,0.5999204108228816,0.7685390848582032,0.6333836892477367,0.3165671321651087,4.162214800959896,0.7469560714515211,6.128356540872069,3.914307871674293,4.343026701510381,0.3375192568132348,2.0897562525935465,3.941400223008367,3.354204688837116,1.0728856954678854,2.5681389759571616,1.7357035407989043,1.235465910910718,2.7487066278039687,5.141584814814263,0.05501889961655087,2.0417084809468866,0.13485881642080946,5.079138537159472,2.8867104713300837,3.313310362694591,5.178966537209248,4.046289622405868,4.518762140124196,0.9177253243265013,3.1796013813999267,0.4183256437094733,4.976068192750898,0.06373484065708376,2.2594536128173814,3.366729370279233,0.547243205473932,2.087102047382486,3.475144049508803,5.063898560797088,3.095616957248519,4.616473192142711,0.7924126874090689,2.2147598950244056,5.086963879841679,4.15109031474098,1.0501423269931631,3.811547794705587,5.873084028396369,0.33402120190325607,2.7199469610563995,0.05342022560579242,1.9516692618710552,0.6509432573107505,4.916168931583335,5.031446517247765,0.2150286324029002,3.5434601922479088,1.6800367912248353,3.3016987723759965,2.91433437873027,6.283258519815397,4.035635896616736,5.982228524151416,2.076297768794605,3.7461593535016218,4.01743030867916,2.401433846783684,0.45553653156084106,1.2183819413091448,0.44361458288708194,2.435518437153245,1.4591280292303688,2.790458210204649,4.370201922146989,1.6047388203516832,1.5962828129608198,0.7463139097457876,1.2149422070973355,1.4308795911951344,1.3691738626927215,0.8496301582596353,0.22616611324958744,3.035776259567247,4.414865989051037,3.805930498445692,3.560859657383725,3.6771843771610833,0.2851125952927527,3.4263570567577886,4.5531687128852285,1.1704873987120274,4.6921939200802765,4.469391712176381,2.354672485578394,1.6718933341477944,4.453495415284293,0.22841846093082696,3.0461817789399652,4.0074537190383674,1.1333785614581584,0.6948851455803985,1.5837589935480647,3.3937167063827793,5.380168532823453,3.2420914923261326,2.077860767315621,3.463526589278108,5.098972745823839,2.714805338193966,4.892828106308993,5.572054032732388,4.905640090384847,1.3122266561523426,3.8437002737929533,4.918841523052818,3.350277688712038,5.6811985284874345,0.613219898178383,2.6493141823826742,0.4839413909339049,2.6888817648687073,0.31133806359239746,0.9197276397354054,4.240739250162464,0.5532086853937894,1.2812387664480707,2.117272698353938,2.175602854836272,1.4410282923074185,4.706752630087461,2.6162594276561704,0.9647676569966447,1.773662387857769,4.732157205501104,0.9721543162242758,3.9754569403721782,4.081861382975785,2.0933753582214063,2.7275768647387943,0.7651265934132727,1.9914204726615912,3.7689005151831205,0.4396481156185634,4.8020206649203265,4.330396902206329,1.020851843206772,0.25563724137485677,1.6881135605196682,4.091727653315972,1.7109878335177993,1.1891763955033252,4.425065160125624,2.165608501798747,3.6957078741944054,4.783964265986025,4.1963904525293065,4.3262673022469365,4.032490090160391,2.9450582088152526,0.6222987489506935,3.1499477612194844,5.350205290488425,1.0114318312162125,2.674992311904432,1.8395128585207483,3.876961687261478,3.9631122359719964,4.17122837073188,2.596341464123221,0.08609069949366352,2.3912116200424407,0.17005786154441585,3.0231871291220958,5.806137265095734,3.48628790227531,2.114037665938446,1.7003319696756087,4.437275075235665,5.3221765917700115,3.759140681193497,3.1119500572517143,1.9478493379047634,0.4497661547792561,3.984717314749463,1.2555699946808103,0.6382659660254362,5.465598703420795,5.766628699084777,3.7245499456163995,3.5077000689987408,4.364180408024929,0.49620521123666744,1.080779535681844,0.9663358059887761,0.591914649570013,1.7998220347902003,3.025717077590182,4.201499849197336,0.8793968033397586,1.9313132095329295,0.8623865470167646,4.2562002663425265,2.2571865812053455,4.386417466989337,1.0320201952578132,2.9540059494327227,0.9000529720936549,0.21794486576461872,1.3889883537029089,0.8235229784203291,2.8633735258593,1.937358525094659,0.7186621058793933,1.7461755394639868,4.410686036852925,1.989719172197522,0.6118903347747446,4.924236558216144,1.551591465825173,0.9141961933060686,0.529631363796926,0.14879898191151864,3.9794455573693237,0.6179005604305179,1.0929320292295428,0.3928735959381734,5.952265281816388,2.799854618361206,2.4914475978373547,5.713383182693321,3.5646382109080443,0.5047804011537078,2.058466564746229,1.5938139055087497,3.5935691926233213,5.623206587433993,2.982445733047019,2.124026577369077,1.9242338553280258,0.6301592133187807,2.232012256868687,2.0464154480864614,2.877351378337756,3.787912427243851,2.9021434407214732,1.8920863944892812,3.5277103313708564,2.140913754540654,1.1151909987810293,1.380591375212564,3.1770190297948995,1.059693959359744,2.0654513076000938,5.1197563639061086,1.974133481543297,4.380944723964684,3.7571039150209615,1.8741421014083193,4.768521048101371,2.7862893303141103,0.5105544529927922,4.718423420638901,4.337368058052976,6.42938653653605,0.10853576239168142,4.422492855755713,2.1608272844290273,1.370410399533011,3.158847446773912,0.7564028859499494,0.7036672733113148,1.7271007996746617,0.01522308461101947,1.9180059040302437,1.2383952225090689,3.491467640379515,5.236261944986875,4.287623324260393,4.109656041188944,4.814489312772639,4.277710317293504,3.670323347358681,6.086963861745803,0.5766528641467289,3.706095089656944,3.5226206579168458,4.946512966896043,5.372481699168324,0.5968961718088648,4.929699457277218,0.9878412718554915,2.0707665270730655,1.4429516451809523,5.42938653653605,0.09277313284731764,0.9321579596622981,3.9286013662994645,4.022846369632607,4.281401214719644,5.111323191365359,4.194869247455402,3.9932238924118457,1.400040112125421,5.017766853204355,4.001251746468547,3.090293030504645,2.4702306392865396,0.8045481685520776,0.6761444528703762,3.0367247552099403,0.27440275814841913,0.0738066779803636,3.718085600147338,3.1824450213773905,4.076818139514216,4.661488926858722,0.687590050442401,3.3644047337147143,4.066150733432284,4.163625642271458,0.7316356523834842,4.791896810692749,4.542895807916735,0.9498572945305828,1.9993695779050449,3.5565312924714583,2.341498699724863,5.515572677679012,0.02712645519964043,0.43160196614287566,1.4476059924713152,2.523342577137852,3.800384931217805,5.5262965495441065,3.4000027692686534,4.458110694603231,2.7708791028607678,2.3260481390747816,0.738740630437157,5.329015978780098,3.5493737140530652,4.9730204978390455,3.2854354328774953,1.5105628298256306,2.0164188982832094,4.9791374263343755,2.272740473012788,3.610632961024839,1.7476515740815302,1.6223402051366742,5.456258699877171,2.883090727517661,0.6410470303350911,2.5754329288031625,5.193858101972975,1.8628712885591652,3.5673744984868554,0.10345358693149632,5.132721348955389,0.5840690475971992,1.253958220186955,1.1599371029185392,2.70233353961185,4.49792868635853,2.131958718918204,3.9077255051355113,3.834331440303425,2.345575881690421,4.611160651795857,2.520354993754351,0.5366564216587046,0.5816355388653395,4.108409872628306,5.283258500857812,5.209278470879649,2.8362556060084234,6.5262965744259365,4.033536151129912,0.8933498004735304,1.332356343635919,1.3739470355128693,2.15548289134588,2.572114385866472,1.2440892401570702,4.8779365415452665,1.7087410910993683,5.103050660584308,0.04515101481450752,3.5456115789267235,3.2113764980500967,5.271024037068407,1.1752945180770924,1.2875205385484054,1.6796857686019226,0.9362713197192697,4.362688002957015,2.767176655338008,1.1425807949503444,3.208442057787088,4.567255154306461,2.8275872034476452,3.122832859519432,3.193302949452659,4.082642479303417,5.11551930843662,2.3194302146369887,5.3154432046450735,5.849602953887986,3.2258097552467917,3.8249444661840335,2.169606359176367,0.8686098186511002,3.053686345779983,4.408197224827723,1.7932538533961788,5.924236583097974,2.8496258095940323,1.6349849480143328,2.5288118846649015,0.17658854129854784,1.314139609656952,4.685876793844957,5.48490387041784,0.2667478493908744,5.505107269431753,4.315443196478729,2.3926698193432627,2.0751244038649634,0.2694916923579042,4.130970158076805,1.283789920001491,3.6866614258687225,4.67047465615996,2.808085596005587,3.410104054636168,4.050625362107323,3.5139867184155515,3.1311449747075852,0.29391981309263804,2.8193655305037577,3.9467987776674636,1.6391576901491272,3.632812199085905,1.514156666111764,3.019656248027714,1.3064553956845308,4.961039229595189,2.744792503023608,3.8709179697575404,3.2333762522425746,1.162996774003552,3.7082357158870947,5.02114659610603,1.7784751334017483,4.073360671158596,3.2584797336576092,3.6643143453711744,1.090923281525476,1.0391472168894231,1.545098801700452,2.7074935246010257,0.47761515498655266,2.809500500070616,4.540645571052529,1.3561771745783688,3.0140125031509957,0.9929656160907379,4.254454961458305,1.5203603286407337,3.6144733646091267,1.6297937495943313,5.609842617079405,0.23706775027749818,4.51030847293896,3.5727784774038382,2.532628921456289,0.7162346523431058,2.1292695267836477,3.8905615554267845,3.128226292682718,4.119330808923103,2.4224671768980883,3.236651866914705,0.5721932884682366,0.1119277457661504,0.38286999353822865,3.5957295373853957,4.6644635600946005,3.453495397328695,4.288250457154289,1.9285246229746813,3.0735137666492838,1.5068333913927805,3.6788781610126855,0.8096558149521162,1.2745975132310468,2.0273625675354796,3.32339974009967,1.55627879310315,1.5484049732898495,1.0565728030887882,5.438160466260008,5.5372919406508565,0.045902228744380255,2.314808924560414,4.772330675494615,0.2522671554923189,4.265033691658717,2.9848109003414067,2.300276972435791,2.662037716755896,0.7054636511266363,3.4321749703715665,4.863538712092833,4.318796832409038,1.794931443050273,4.628669461613237,2.265515860067083,4.152924742192664,0.42908975664928506,3.448021016929912,4.293935843796547,2.245035860961376,2.283432244406323,0.2405143497045981,3.255850626718074,2.1115195248347676,4.217732144460215,2.9172894233201516,5.225266553880125,0.41707661215170333,2.564484046991562,1.4987257698102505,5.1460853188910916,2.4885813014444866,2.536846727526494,1.9003002658984096,0.515822638072534,3.621851524176597,3.9973798665414106,3.139084760220956,5.159873612294944,1.1987757081295718,5.107167229163742,2.895614486692783,0.021537698242162683,3.9087720373886214,0.9461251272295709,3.6432032034744672,5.052809581709842,1.1184898476160408,0.002182692774148473,1.5332606335605976,5.204077273767772,3.968488711228352,2.4521111749353817,3.657799054307555,1.2472830196357352,3.471492057628061,4.4381604770929135,2.91598249429639,2.7101381375308473,3.326130297238445,0.8555341061072737,4.448021016929912,2.4606514920747755,0.44735459691348267,0.7141562543591484,3.6357358214752558,3.442614819233912,4.464655637935438,0.6833048226173686,4.602017282439809,0.9432469144099519,1.3638314705393135,3.1510445677268186],\"y\":[2.4140056120864952,3.818844028121488,4.748911841042323,2.4786891012296466,0.46399125610881076,2.6866545889548195,0.9150357496523447,0.18477891316412562,2.9189273426611955,4.208775615499689,2.244814885484509,3.3506106111259464,1.8381760493878883,0.030212594687876862,2.3734424657852142,5.385892830134988,0.07714040685475768,5.098841578988368,5.319411767345274,2.6656047062342463,5.106865709683193,1.0372354252388163,3.317240583459558,2.8979552273079925,3.8548417615932373,1.8804490022784264,3.063956986288753,3.013783746390734,4.15449394113188,0.12375626028810616,5.999959510792308,1.7178599376975463,0.7675165340964406,2.496043122656684,1.5172423609518972,3.7567345415257196,0.474720044738545,2.6510072930855175,4.24156129181765,4.760725577016579,0.8327626777386385,6.5648376219991835,1.0224657471923566,0.2018335172447857,1.2549480729625642,1.4240162031488488,1.3146199036847535,2.2542707477987256,3.623390359297002,0.17580658161850204,0.1926672611973408,4.484052395521153,0.010165314137607078,5.385892830134988,4.686503354933298,1.8835695024145187,3.6969070963780495,0.5406115971900911,3.1860506872426817,2.582985194082682,2.467046874991559,5.960342850909891,3.8019902264107475,3.450360806160848,4.687162026996818,4.498959145197448,2.0873490550624587,2.840473379072517,2.5447669286423684,1.1492797727869146,4.644388268316184,3.259664944741647,0.7475321875659948,2.5014699439838255,1.8147100034327714,3.3567595077299743,2.8229390353630714,2.2181348528521787,1.8861124620203005,0.3386321710486545,3.0923075938887594,2.4125014310888533,3.417340817486619,0.596409876607691,1.1016881070419073,1.252720806692563,1.1278156913063315,4.189560685726678,2.759210588909623,3.1197731962508266,2.6032873571662547,1.5216593090981334,1.7454877899206924,4.667705561559408,0.03542881677559079,2.20645552251842,4.144206007085755,2.9101358918091096,2.0808877964215555,0.8819185829025666,0.4706358661487664,5.381485994658572,2.953768104156567,1.3332565390956892,4.224459003054693,2.6970293127261202,3.325903644695699,6.062625829436284,0.23122944064473513,4.841489423953976,0.7884974695815452,3.4238100037309227,0.7861597018829289,4.845228602563725,4.768988111075557,2.7008663460673454,0.07612348207074805,3.262691561965586,2.451478709588936,0.35239345817402445,1.9359363475035276,4.777246172498891,3.662899950916805,1.5652755030534617,4.6017342492927575,2.6246157798415237,4.259755446251604,0.7736491422624446,4.705491275679742,4.619878904940142,3.1415911340639364,3.544917731693106,1.384573594851893,2.302135782799468,0.9444820015099213,2.2846544979423093,4.739072678950849,3.468728461612875,3.3974061297873055,5.977209349785466,0.12879100007170632,4.434285829908219,5.391037839290579,1.0457340005675668,0.03760507292428668,3.7992313785224185,5.823537330223138,2.680721547299117,1.6466725824443642,3.7413516373108324,3.7628244181793855,2.795985923651869,1.7326850078433726,1.4840491886888179,1.4356070176500015,3.532325600273163,3.635329774312268,2.017536686595746,3.035794575867475,3.520228428266314,0.5733750431563428,1.6492006074767327,2.063539521775793,2.7985584725411297,3.229475407490334,1.5116772549662052,3.9445347941834648,2.984997522988205,0.3476547420230448,1.94211204002933,1.933525421724071,2.240817057604608,0.7614191227022877,2.769762884760121,2.740598689400735,5.422125483386891,3.2326870068291687,3.770663438314966,1.3785085416638907,5.365615979694902,0.06553020193625282,1.9209798831384794,0.7342421160506337,1.0234754498396725,1.6906399736716125,4.758067545247569,2.9489140992721024,3.0000263905080122,2.370309571161162,3.220319465001136,5.493073342377849,1.5931203682282777,3.7252395606122897,0.31966891003250963,2.364069568804772,0.11400482234562993,0.21135913267530348,0.5738698614035911,2.655532973946091,4.633559966744514,0.4800487251508924,0.5724326198553662,3.983766713225847,4.6813662879182845,2.6352649946365494,5.095468667060842,1.1478340058018148,2.0508962525734096,4.956252283003951,0.843771763695201,0.8559829382015027,0.192364332554139,4.8085766707771205,3.6652436913645863,1.1666420226486902,1.0035876073799814,2.0022102322342903,1.2194297010083244,6.5573341212340885,6.250703929750552,0.005692986090585386,0.6301784775655994,0.35418831886093033,4.139081331715047,2.8201049804735674,0.6147967007878262,4.591561017608829,2.2199272531198946,4.217732843583374,4.3875179629069345,0.680451116512712,4.337451984778525,0.8349212788402173,2.0847919604440928,1.1590851080784432,2.6161244192068778,2.2738597379983556,5.969948765502801,3.702350681832905,5.058341847316061,3.2809998085128864,1.632565486318597,2.468312205241846,3.781110181283126,4.247385202682046,0.4659877233571487,2.879034970439308,0.37993440630791225,3.2537050410205794,4.35039839170675,3.1066021940205095,0.48678695232864894,0.393825490479391,1.793243293524468,3.40647998619613,0.8992190445142476,0.8887878659864945,0.702114063149051,0.9384962143201192,0.32906676148229913,1.4929408607963364,2.289247796992448,3.1259351001187,2.710439428099373,2.940443119717601,1.6826152273788106,0.21232588273323932,5.493073342377849,1.7568978268938065,1.9086207407974833,3.1475999019351892,2.3896117239474157,1.5021519827586691,3.123899925835975,1.345035461610429,2.539083771833257,1.7082446556057016,2.7873587689619206,4.276602263493028,1.9782022953076013,4.556471369168407,1.7956119842265774,4.126744145013106,5.811253533464481,1.7687361000296848,1.3659068809413508,1.014526413370426,0.2903174558698863,1.613677593984045,5.564012553220178,0.35830692793053237,2.48215135956489,4.635989522406917,1.760373212370256,1.2013711206371447,1.6408789061588496,4.358494390430012,0.9995450968290577,0.22140500387031897,2.424752564740707,2.262992854155151,3.5020441637121107,4.891846678769607,2.8896255809359035,4.669247035242085,0.24206501409579434,5.506157600910826,4.118902118526358,1.8740809632332003,1.607146868048809,1.7235745660577824,4.535952640518172,5.527457424202556,3.4380090165581447,5.154543518422484,4.772547839772891,3.7637724419134932,0.9972968007139179,0.13202595072448195,4.384478477248479,0.38690999356417166,3.9023497426505918,2.830498024387446,5.326136344952193,3.9235249379730535,2.640971093141931,5.290689143340088,0.8141865651438693,1.9896051558612415,3.899253834886526,3.0382131063252293,3.432558222915964,2.6295462044409117,4.060910137862521,1.3592344059343884,1.6176928847946062,0.32674287568450655,4.884605906400281,4.2534431928549,4.603643728297093,4.576563270958878,1.4035346220768121,2.838669053375438,0.5248627805779581,3.1389269326855525,3.2038619530020354,1.0173802398089886,3.495378546001877,0.20392933620906212,2.7794069829479393,3.64748896116895,5.38723528850266,3.6740593042425442,3.1046624147408326,5.011761040045283,1.0861929786798787,1.474962034770852,2.674028742258985,4.795621048066039,4.035445436524643,0.37015927283854133,5.075159834561282,1.1888954373531075,3.8747525768537394,0.05676662127988544,4.130180681290448,5.235590556222612,3.8264059345427184e-05,4.526610269152233,1.2719530356294704,2.409103448506581,1.349061692916749,3.486964488508992,2.6471417462915867,1.9506434037122362,3.977841030272905,0.016384049980633683,5.446730895922733,0.17013125195195294,4.870920361154683,6.165504629445905,0.6586388747772691,2.905702464948187,3.052552167374442,2.0105009908364204,2.5553165508427784,0.2019590080111914,4.967252443862557,4.623802683499953,1.9711905361602289,3.5660624251150814,3.614136167103308,1.7985391844761645,2.662470865241507,5.0079254500559935,1.4905140295250299,1.8645604979689752,2.0585399250594913,1.857015566883244,4.16274429729265,4.718125331019251,1.295871408984864,5.050090693524868,5.264465707076236,5.390028489471159,3.8295988820010667,2.4063319359744053,1.8532484492855184,4.414265811677244,0.8444440891568117,3.734735481536224,2.5076282212923346,4.204484556657917,2.887138556295883,4.676788698206236,0.39722320244488335,0.24944379737687258,4.519887043925886,0.143093760542146,4.9668211639235,5.304910224616987,3.4561832679025764,4.548332391582004,4.517326147376536,0.18997297085489873,3.0243274817148156,3.8597597102399934,0.30831859720463983,0.6527320432183553,3.848343098231513,0.09568714857551108,1.1246055997704771,4.637640881055425,4.863328607154995,0.6721787316919828,4.827052331755076,2.5459502885484433,0.7391388591840774,0.9868743780113535,4.885832201455769,0.15489647861911737,3.7686926737111155,3.0452792590516795,2.521721366174676,0.8493914342594906,4.26601067456356,4.287009209100091,3.656603414058612,1.9870436642850657,5.385892830134988,2.899929520899763,1.1774649148909349,3.23924276073247,0.28037489938427607,1.1426111183719037,1.2349357905220761,5.442092427784799,4.425964726344741,4.66047620762139,3.996234272149845,0.023058447153697065,1.0603350011110007,1.4509474599226169,2.9141262235011274,0.507350600497264,4.693603715980633,6.403620202350144,0.36541395961626827,0.4771452599972401,1.3165049703815745,1.5193529352404234,1.5502900110353242,2.0153294026616746,4.262981835053448,1.5438840442125525,2.6688979699743913,3.374980864929797,4.060077271478381,4.902399439617154,1.9913903145636287,2.549464310797622,5.493073342377849,0.37504686975179485,4.8599305620707645,4.705491275679742,0.1638100334867463,1.2051663958093823,4.341705808899398,3.681521044604812,2.524136165095872,4.80836077132826,3.1765436594084484,4.9822801502633896,0.5520633473240957,3.7507170286399605,4.272104688744234,4.078059066081903,3.1507543129107543,2.0394853594909415,3.9568608435758303,4.433604059503856,3.38737084500275,0.41686034390348486,0.677429155521206,5.118615706984399,4.347694496712713,2.859781686044542,2.7348568938798383,4.6090445315537805,4.347542407119262,5.021392970624201,3.9585271938050495,3.920272417987654,0.4981231205815132,6.310928396622,0.43489436415484606,3.3444978537738397,1.2831435085367386,4.394298663953661,1.3225359939703738,0.7943195398895712,1.0958109826286977,0.7101048742868165,0.41708410156259695,2.9774770965450514,2.2369219530133484,4.7278134239262375,4.582922677795731,2.9673092100550718,4.57888297381556,1.8136347373647481,0.28452981383864007,5.527457424202556,3.2417121730807885,0.3114856979267804,3.3415435565414153,2.9816661057944414,2.488009030806259,5.3963154619974025,2.598268103094929,1.5911808408461157,4.477560138092824,2.0280652859642285,3.01130761967185,0.302929031346679,3.5869497630978766,4.7886295584116105,0.6688920085638771,5.003411138723222,3.5688158504496106,4.073108658746332,1.2447957265373433,2.400364636081948,3.102042230646337,1.928489417444187,1.0635808908774105,2.332600750569482,1.4084448891910715,4.584648378850455,3.6202252779549142,1.8463094793869348,1.5987852416500496,3.3930811142002915,4.393428477603194,3.8112317870021393,4.666864503779594,0.40575562374634194,4.8315439338187876,4.408072640904822,4.874321579447496,0.7992946126969535,1.5088358570541356,0.12347459283529498,3.8062964989693264,3.311067323492213,2.3051096540799243,1.8343922301399083,2.806409518416175,1.1705423887831645,4.032187589506087,0.8744936838678539,3.793585083865427,3.301603504887187,1.902289970912443,1.4464758517537915,0.9644687155605128,4.716151031405678,2.5887313395385396,3.6178233858943543,1.2141375917166533,0.9261569796299073,3.9749000983187073,3.269572601118615,4.177804759336906,0.8551293748026796,2.990374505134036,1.695949456464942,0.2957224335379764,2.4185578388335105,3.9417840826915915,4.2126872315503014,2.380389288116028,0.08287767771807664,0.5155250177271284,4.791034907496221,0.9165484919546517,3.290440733972493,0.26623079747243905,0.7971246122142152,3.5611851691407197,3.6415155899230522,5.331789178326593,2.9715004347899385,1.638494068857751,0.5836280854610624,0.15948257865413973,3.713395284559064,1.8328345307682945,3.160794530721868,1.1152026561903776,4.743896819415791,3.0469222862225114,2.1856827408450186,0.04287755976218416,3.8872590467420434,6.165504629445905,0.14608154395882028,3.4202564375317337,1.8612428077178793,2.2278850016224085,1.3546531766916168,1.628551621406321,4.655659037668885,2.811595210310056,4.22063112839075,1.8914344942205517,3.0189892067293855,3.8807235135566427,4.268528330501137,5.42865817737195,1.6687555515161583,0.9750795800067052,3.9874743769952157,0.5660509658819365,0.5626077780237905,2.628022033824973,2.224745698640592,1.4626911823487265,4.159804613387321,1.2306409889840682,3.2546283354116525,1.4801838108272078,4.956252283003951,3.84443423287869,1.1987031122293732,2.3574351787683456,3.2111942888867517,4.492853238164838,4.847991429091355,0.5142228045682824,1.914807110333558,0.2641020833217478,3.9655961777938584,2.6757498308097807,4.079798986597859,4.135284081898128,0.9734747172257977,5.385892830134988,4.938640985581402,0.4130485607248704,1.0536898531186747,1.7905304305616583,2.0672948646461253,3.408239987801928,4.749917253435648,0.09372558631582664,0.3622551947752334,3.8842292842457664,3.165822292701829,1.5826490241874092,3.889182304641185,3.4703447011641333,2.234776318187327,1.6711136147165542,0.8078994750514539,2.8471927913383914,3.953611654542474,1.5538768764076847,0.9039216684254098,0.13823905250922375,3.0839206023012125,5.385892830134988,2.9335945962566505,2.0690173629252993,4.283482053770628,0.6391657905141008,0.9230039269768968,2.584699639935988,1.80809550430275,1.441184904291332,1.371889766018323,0.4958302739905566,0.665205873708821,3.723189593603215,0.7212820963800696,1.4979900401901247,0.8026292943550196,3.4477914535822514,0.25123405213235606,2.2768819196505716,2.7084661893477713,2.0342502497794617,5.1184375898551036,0.887936548149168,1.5893573268964891,1.1312544186259512,1.767354717625034,5.100102863097968,3.8639809514260395,0.4418941201149012,2.5962117391999633,6.403620202350144,2.1366313248386777,2.3404226694872254,4.832586409978205,3.3060578667998253,0.06742441582756761,1.4202116940625802,4.296170025654082,3.332424266354205,0.3682655157148264,1.0884932921933357,5.885833931085388,3.183952157891344,3.0065931838772633,2.7320813808365694,5.385892830134988,2.537575362809505,1.7799262509770526,2.511838924053355,1.602914050069688,0.8172875133349236,4.311025241567632,0.6831654470032512,4.893143901417612,5.241038969812204,3.5384043190755583,1.5660432273390985,0.11698466164569422,1.3641241983206354,4.849702120008446,3.3233167898879454,2.7740739707271063,3.1597180033733046,1.7253154460306184,0.5326577504096828,2.868473363690466,4.975739258597823,2.1549029511741904,3.823285575567761,1.940252499367912,1.6763544254575922,4.465257252595618,0.3358359521066781,0.4076015304147746,2.1170708703270265,5.3127503834177405,0.5341954907785471,2.1281608423922624,5.743649664581046,4.178433810012131,4.084116635925,1.841982460211908,1.9000207609676387,0.5478666429486545,0.1535959236436769,4.377627636398748,2.178922928718222,0.10375997672398583,1.153897166811191,3.4567180298431337,1.9980353993447584,4.9630020961629215,1.1045238274598972,0.3090007349700622,3.553684789494582,5.666201264119451,0.18203475903590977,5.51917695460755,5.527457424202556,2.4544119106638447,4.821344445991415,0.42699926194629756,4.568483548041594,4.323487562588452,1.345480269294872,2.723184452936265,2.4589968392371495,2.1418252407863276,4.302883836565403,4.092905070274267,0.38423017708792984,2.316116831531081,4.165729915969101,5.1286874089643035,3.371795762110937,5.13232191100035,1.2870949323116339,4.3723242369507975,2.9722378926687667,5.159932028249209,1.0817870970563241,1.6865304302341242,4.523599040553724,4.012380722246263,3.5096294513049173,5.586797848323645,2.327741478507623,1.4305281480164318,5.827956051540806,3.2899900210178212,1.7502348939717547,3.9133847384882725,4.6729843506505535,5.03954268945781,3.3659129676067367,2.167538493813154,1.845809915107245,1.5295952853987467,1.2252783526890394,3.5264537127124322,4.84177609739348,2.445679557925916,5.385892830134988,4.90663108523165,0.8579610782870605,4.996184550410188,2.4209117762491523,2.4729074966963096,3.368721635052503,0.6094424972527639,0.7816719984137868,0.6435203310429012,0.32119757089241824,4.1930378085842985,0.759462165429204,6.165504629445905,3.9326239242146284,4.379038256057033,0.342557808598666,2.1222029501186217,3.966845933936937,3.389928728160857,1.0919276252275614,2.610653491804723,1.7635271014798986,1.2578337888195816,2.792037489063323,5.2760452676633625,0.05503001531104021,2.0737432991123597,0.13604020933381986,5.130094137859731,2.9291392716800306,3.3475599220406322,5.325256165284659,4.06417454789199,4.570976725071275,0.9337262204878821,3.223392891926864,0.4249882037162488,5.002468670282156,0.06387275339398911,2.294136193061638,3.4015688056761806,0.5560175711703016,2.119667046412798,3.5070093172053007,5.128338617475115,3.1352560325719825,4.6640983085579215,0.805964364141722,2.2490102815320223,5.133293011482605,4.181643712118302,1.069000080258676,3.8383113109894866,6.05804267124596,0.3390318025926005,2.763380698928652,0.053438261581831896,1.9834751614145438,0.661404473381482,4.909135978380664,5.09673314499832,0.21747377122144804,3.578044223419223,1.7071374504605026,3.336563304039441,2.9579954532372326,6.321283597516947,4.053573074914664,6.131280006999649,2.107981229674944,3.774720186654417,4.039253808527573,2.4399126995404954,0.4628082558264525,1.240127540687803,0.4506828521067224,2.4744765749548328,1.4850189825732363,2.833133701991673,4.408124329035277,1.6303833799353418,1.6218513520700932,0.7587841964176164,1.236529228425652,1.4568780775163608,1.393711369345498,0.8642204762695481,0.22885624551843162,3.079046209929395,4.447807192674504,3.832155474978427,3.5989709752163312,3.7081351229061013,0.28905691738014705,3.461221026646104,4.5994075839548145,1.1908035575641491,4.7106996539777874,4.5058595084996735,2.391903278675565,1.6991382135911512,4.485905342844632,0.23113275769635275,3.0874782273786696,4.0262763638702594,1.1532889060762586,0.706188460851691,1.6091937407816697,3.429335256806212,5.470893957018793,3.2811197470222204,2.1096741602968434,3.4991476846994356,5.174469551160454,2.757454324247374,4.88792658040586,5.659614318331125,4.89636068319781,1.3365918510698596,3.867319975697875,4.915373942053941,3.3870118676016103,5.828849877994831,0.6228970317392812,2.692250767406637,0.4917662950751765,2.7314174409902994,0.31582379978728553,0.9358197337944787,4.278117442468131,0.562148547978844,1.304488197954104,2.150937926994709,2.2091090033912293,1.4668122023640688,4.726653558014889,2.6586913248263544,0.9818586247058269,1.8024203665235976,4.748635009216378,0.9894708496079625,3.9989296463147648,4.111093799870622,2.125888304744413,2.77138957744949,0.7781493543586541,2.0236512499080317,3.7958878285241213,0.446690277458312,4.816292056420351,4.368983397141533,1.0392265346278462,0.25895279900013213,1.7152849853016863,4.123224307449598,1.7383727697465463,1.2099436648418316,4.458327848579373,2.1994525554392625,3.7324246257815306,4.791034907496221,4.236367279167908,4.3622629614929815,4.0507907887330274,2.9865170124743736,0.632168915626703,3.1917672216903274,5.429819507381564,1.0297057526790303,2.7170261497985564,1.8696283014805126,3.8959488189781504,3.98987918709681,4.202536579502,2.639811578632482,0.08661190311861287,2.429099541397228,0.1717688046270113,3.066918664881826,5.9839440509418,3.514216877386851,2.1474669247653186,1.7276428146508054,4.472435222151214,5.411609499834087,3.7899938111909757,3.1536797928790734,1.9795673012653916,0.4569397195058101,4.004911582932624,1.2784611704906401,0.6485394229864654,5.527457424202556,5.970509181955328,3.759547522965145,3.539992904153076,4.399240452449751,0.5042028394235049,1.1000098287643496,0.983513345841668,0.6014068544346655,1.828807644913755,3.0697692224736173,4.242965321151119,0.8947753315784513,1.9626634163867345,0.8772898863130308,4.292004562306994,2.2916870573896344,4.421821489373826,1.050534590326257,2.9966642890127395,0.9159260083753031,0.22046044529504372,1.4140604813467463,0.8375073703297543,2.9071984108343845,1.9689345678297117,0.7303746471820554,1.7740868720469365,4.4448228932853056,2.0218287341935772,0.6215229550458257,4.931762855211274,1.5769939992279949,0.9301012791579872,0.5381931617233515,0.15015223601527655,3.999591114399803,0.6276649925218735,1.1123205807184122,0.398864078858305,6.102483670576512,2.841875515825622,2.530938874873608,5.937585755261733,3.6025104409119546,0.5130543500124688,2.0903112821641887,1.6193811686665314,3.6294125304692906,5.791945630155195,3.0260516514568274,2.157928680305947,1.9552938202548116,0.6402131485805226,2.2670320178821064,2.078265345930097,2.921140721362672,3.8171792920881695,2.9444955552317436,1.92340420325214,3.559929940203856,2.174934501453156,1.1350636939407797,1.405351453141594,3.220572195674317,1.0785661095973795,2.097362752701129,5.219720547043462,2.006390148654271,4.416413847220045,3.788289258836246,1.905107367504038,4.781144002661024,2.8298044843965258,0.518905115133919,4.73761948601173,4.373380528300668,6.403620202350144,0.10933051196795822,4.454853228213476,2.1949441617583236,1.3949532728868999,3.2021052238951224,0.7691024606779024,0.7150715845137571,1.7547269727059975,0.014773531905136819,1.9494561738286658,1.2609133134840294,3.520228428266314,5.385892830134988,4.3293812371103915,4.143611535401593,4.8270550614115955,4.313458905550404,3.699545788173656,6.165504629445905,0.5860432862587367,3.7443874367617025,3.553526793640171,4.965061620066717,5.467944402948617,0.606422061857634,4.95437962905708,1.005631147673383,2.102629935748306,1.4688201734185993,5.51917695460755,0.09337869559833628,0.9484776814327597,3.947549652803258,4.043830291332715,4.317137167781381,5.194343235200895,4.2300576096653035,4.011147178239722,1.4253875270732093,5.075159834561282,4.023494263203798,3.1292235894375677,2.5089223425576215,0.8181328403284809,0.6871066703997818,3.0793633425960403,0.278032565598811,0.07408730143634859,3.7537103759189647,3.226136743795555,4.101040405113934,4.693553747022014,0.6986342795964215,3.399024640438193,4.087767099189082,4.194101563510093,0.7437820401297658,4.802999808950573,4.591004898388208,0.9666689810603607,2.0316881987303046,3.5919110128084317,2.3784419165788138,5.549487197947878,0.026816055404338252,0.4385166314236578,1.4736939172896018,2.5638341802450504,3.8269331754143656,5.549513908309052,3.4355824759634226,4.491893963258187,2.8141860093061863,2.361859280691328,0.7509784884440976,5.41496908432035,3.5838290846336243,5.000359140657002,3.3190552574451564,1.5366536489264588,2.0481085989895003,5.002612088798735,2.307684074992895,3.64876500173841,1.7755198715779497,1.648224245602181,5.527457424202556,2.9259540881558563,0.651424096702379,2.617847807176971,5.331789178326593,1.894076391416255,3.6044864006692015,0.10419052347621784,5.2582321902378,0.5936425123696989,1.276757826541827,1.1800057420740306,2.744773105105781,4.546722581556897,2.1657444557022827,3.9262619203205236,3.8626370708699924,2.3825303946705083,4.65882839275613,2.560778476541489,0.5452510937341338,0.5911633256098517,4.141319330715812,5.38723528850266,5.346778775237792,2.8803869448792994,6.403620202350144,4.051951318671948,0.9091428960791931,1.356793996608834,1.3985332377558894,2.1892863516922674,2.614277177361406,1.266582203856056,4.877226983490802,1.73605444947435,5.1746489296080345,0.04507661108138952,3.5797946348660896,3.2507606038181787,5.385892830134988,1.1956622892061148,1.310912938774394,1.7068061471210143,0.952745617934005,4.399078604202891,2.8098174947637053,1.1625438149566545,3.2475551103537157,4.613349606837815,2.8705890387084803,3.167496408987478,3.2339918933886094,4.114648590110598,5.194343235200895,2.3552712697729707,5.401974680241722,6.030551583779551,3.264046364989655,3.8534841789152217,2.2031389603835545,0.883611207059864,3.095107203031057,4.4405841198791665,1.8223684233156088,6.090173754154911,2.8935375661448735,1.6612543227973788,2.5697499829463006,0.17837810275896612,1.3384804570508615,4.705491275679742,5.527457424202556,0.2702391096029048,5.549487197947878,4.35384826882207,2.430789100858655,2.107230153602114,0.27304007176867584,4.16274429729265,1.3070248975423537,3.7194011888076144,4.704140958550637,2.850838846886587,3.4443935398414514,4.06952140037762,3.5474792470454033,3.174918492805357,0.29813534727026164,2.862569058621506,3.97205597943331,1.6653594009024406,3.6687216597675016,1.5401569476683397,3.0628335362070906,1.3304926844678933,4.9791999310981305,2.7886624914432527,3.893482750525222,3.2719074192010846,1.1832095664750453,3.745515141688714,5.089550341119884,1.8073119963733548,4.099999405072167,3.2961373882873053,3.695998548961903,1.1103145038173448,1.0578108729515057,1.5704641776136234,2.7501025829643857,0.4853382464103333,2.8523708527214,4.58876175220229,1.3808728012255813,3.0567989737861194,1.0108784252518148,4.290774609085635,1.5463923696941309,3.653799245745534,1.6558806315242562,5.743649664581046,0.23992294416530166,4.562803107138231,3.610413928908797,2.5736626842073935,0.7278672726555545,2.1632211695751247,3.9111406842833425,3.1724442647855398,4.152916687576825,2.461414834551898,3.2752488780338287,0.5814875310501092,0.11274619777147134,0.38864892189498357,3.632439074037341,4.699162822736168,3.489795808439314,4.32942893592529,1.9596570180139643,3.114271517821193,1.5329449409884277,3.71152760076736,0.8232268999426271,1.2977264200685532,2.0592937574087964,3.357010274631803,1.5815953377719536,1.5738856119789326,1.0753904817789208,5.526782675301723,5.556993582500745,0.04583194066274019,2.3504909002351773,4.790229135415465,0.2555284983093031,4.299275728779041,3.028999361489276,2.3353324718798634,2.7041175896831033,0.7168921497930324,3.4656679415753997,4.864375404331986,4.357253148896128,1.824065737654556,4.6670293713754205,2.300707876444335,4.184090104626283,0.4359682806705575,3.483252176598437,4.333204154924808,2.279575319240611,2.318487892330359,0.24343885921209057,3.2929981290516763,2.1444939638746954,4.256338394239993,2.9621079255347826,5.385892830134988,0.42368292417756725,2.607057151432694,1.5243943899634806,5.279120579504219,2.528436035205928,2.577617545563288,1.9311725909674047,0.5242631036313116,3.659671157386414,4.0144616057124605,3.1800383561443106,5.292107484048963,1.219866047665167,5.184930357288036,2.938158165270208,0.02114720429166405,3.9275377559648783,0.9627698528223712,3.6776252827717144,5.114468150881098,1.1383712820188134,0.0015718610766467741,1.5586760596324662,5.3426752631830805,3.993290336985627,2.49081291959137,3.690508479659493,1.2699334644215987,3.50506378490995,4.4748227748721146,2.9601868654555563,2.752997825363122,3.359866834470719,0.8702681935027102,4.480912177918078,2.4996461111681327,0.4545126819638049,0.7257476758547322,3.6717265030883306,3.4768264878037773,4.504220701206958,0.6943919655408776,4.648964921780162,0.9597872363956987,1.3885329615794169,3.1930754862178192]},\"selected\":{\"id\":\"f0e6f705-ac6b-494e-92d2-79c61e06d701\",\"type\":\"Selection\"},\"selection_policy\":{\"id\":\"dc0743b9-dca6-4d9a-92c1-629e4b1c735d\",\"type\":\"UnionRenderers\"}},\"id\":\"3d04f509-2348-47ad-8dc7-8eb5ca49eb9c\",\"type\":\"ColumnDataSource\"}],\"root_ids\":[\"060d3ea9-160a-4b59-9f6e-e58e046fda36\"]},\"title\":\"Bokeh Application\",\"version\":\"0.13.0\"}};\n",
       "  var render_items = [{\"docid\":\"ac635b92-3314-4a9a-8eef-3d8d2f0d8eca\",\"roots\":{\"060d3ea9-160a-4b59-9f6e-e58e046fda36\":\"e4408621-918d-4340-81d8-79743545f9ff\"}}];\n",
       "  root.Bokeh.embed.embed_items_notebook(docs_json, render_items);\n",
       "\n",
       "  }\n",
       "  if (root.Bokeh !== undefined) {\n",
       "    embed_document(root);\n",
       "  } else {\n",
       "    var attempts = 0;\n",
       "    var timer = setInterval(function(root) {\n",
       "      if (root.Bokeh !== undefined) {\n",
       "        embed_document(root);\n",
       "        clearInterval(timer);\n",
       "      }\n",
       "      attempts++;\n",
       "      if (attempts > 100) {\n",
       "        console.log(\"Bokeh: ERROR: Unable to run BokehJS code because BokehJS library is missing\")\n",
       "        clearInterval(timer);\n",
       "      }\n",
       "    }, 10, root)\n",
       "  }\n",
       "})(window);"
      ],
      "application/vnd.bokehjs_exec.v0+json": ""
     },
     "metadata": {
      "application/vnd.bokehjs_exec.v0+json": {
       "id": "060d3ea9-160a-4b59-9f6e-e58e046fda36"
      }
     },
     "output_type": "display_data"
    }
   ],
   "source": [
    "show(qqplot)"
   ]
  },
  {
   "cell_type": "markdown",
   "metadata": {},
   "source": [
    "Export for Google Dataproc"
   ]
  },
  {
   "cell_type": "code",
   "execution_count": null,
   "metadata": {},
   "outputs": [],
   "source": [
    "output_file('qqplot', title = 'COPDfreeze4_qq', mode = 'cdn')\n",
    "save(qqplot)\n",
    "client.get_bucket('path_to_').blob('COPDfreeze4_qq.html').upload_from_filename('qqplot') "
   ]
  },
  {
   "cell_type": "markdown",
   "metadata": {},
   "source": [
    "### 6.5. Manhattan-like plots"
   ]
  },
  {
   "cell_type": "markdown",
   "metadata": {},
   "source": [
    "- Chromosome position against p-value.\n",
    "- GWAS significanse level = 5.0 * 10e-8, suggestive: \n",
    "Suggestive: 5.0 * 10e-8 < P < 5.0 * 10e-6."
   ]
  },
  {
   "cell_type": "markdown",
   "metadata": {},
   "source": [
    "Multiple testing bonferroni\n",
    "- Bonferroni correction as a correction to the significance threshold, not the p-values.\n"
   ]
  },
  {
   "cell_type": "code",
   "execution_count": 79,
   "metadata": {},
   "outputs": [],
   "source": [
    "Bonferroni_line = -np.log10(0.05 / mt.count_rows())"
   ]
  },
  {
   "cell_type": "code",
   "execution_count": 80,
   "metadata": {},
   "outputs": [],
   "source": [
    "Suggestive_line = -np.log10(1 / mt.count_rows())"
   ]
  },
  {
   "cell_type": "code",
   "execution_count": 71,
   "metadata": {},
   "outputs": [],
   "source": [
    "manh = hl.plot.manhattan(gwas.p_value, \n",
    "                         title = \"Manhattan-like Plot\", \n",
    "                         size = 4,\n",
    "                         significance_line = 5e-08)"
   ]
  },
  {
   "cell_type": "code",
   "execution_count": 82,
   "metadata": {},
   "outputs": [],
   "source": [
    "line1 = Span(location = Bonferroni_line, dimension = \"width\", line_color = \"red\", line_width = 1)\n",
    "line2 = Span(location = Suggestive_line, dimension = \"width\", line_color = \"orange\", line_width = 1)\n",
    "manh.renderers.extend([line1, line2])"
   ]
  },
  {
   "cell_type": "code",
   "execution_count": 98,
   "metadata": {},
   "outputs": [],
   "source": [
    "manh.renderers.extend([line1, line2])"
   ]
  },
  {
   "cell_type": "code",
   "execution_count": null,
   "metadata": {},
   "outputs": [],
   "source": [
    "show(manh)"
   ]
  },
  {
   "cell_type": "markdown",
   "metadata": {},
   "source": [
    "Export for Google Dataproc"
   ]
  },
  {
   "cell_type": "code",
   "execution_count": null,
   "metadata": {},
   "outputs": [],
   "source": [
    "output_file ('manh', title = 'COPDfreeze4_manh', mode = 'inline')\n",
    "save(manh)\n",
    "client.get_bucket('path_to_').blob('COPDfreeze4_manh.html').upload_from_filename('manh') "
   ]
  },
  {
   "cell_type": "markdown",
   "metadata": {},
   "source": [
    "### 6.6 Optional: FDR correction on P-values"
   ]
  },
  {
   "cell_type": "markdown",
   "metadata": {},
   "source": [
    "Create pandas df of locus and P values from GWAS"
   ]
  },
  {
   "cell_type": "code",
   "execution_count": null,
   "metadata": {},
   "outputs": [],
   "source": [
    "pval = gwas.select(gwas.locus, gwas.p_value)"
   ]
  },
  {
   "cell_type": "code",
   "execution_count": null,
   "metadata": {},
   "outputs": [],
   "source": [
    "pval = gwas.select(gwas.locus, gwas.p_value)"
   ]
  },
  {
   "cell_type": "code",
   "execution_count": null,
   "metadata": {},
   "outputs": [],
   "source": [
    "pval_pd = pval.to_pandas(flatten = True)"
   ]
  },
  {
   "cell_type": "code",
   "execution_count": null,
   "metadata": {},
   "outputs": [],
   "source": [
    "pval = pval_pd.iloc[:,2]"
   ]
  },
  {
   "cell_type": "markdown",
   "metadata": {},
   "source": [
    "Perform FDR correction on P-values"
   ]
  },
  {
   "cell_type": "code",
   "execution_count": null,
   "metadata": {},
   "outputs": [],
   "source": [
    "def FDR(pvalues):\n",
    "    pvalues = array(pvalues)\n",
    "    n = len(pvalues)\n",
    "    new_pvalues = empty(n)\n",
    "    values = [ (pvalue, i) for i, pvalue in enumerate(pvalues) ]\n",
    "    values.sort() # is already sorted\n",
    "    values.reverse()\n",
    "    new_values = []\n",
    "    for i, vals in enumerate(values):\n",
    "        rank = n - i\n",
    "        pvalue, index = vals\n",
    "        new_values.append((n/rank) * pvalue)\n",
    "    for i in range(0, int(n)-1):\n",
    "        if new_values[i] < new_values[i+1]:\n",
    "            new_values[i+1] = new_values[i]\n",
    "    for i, vals in enumerate(values):\n",
    "        pvalue, index = vals\n",
    "        new_pvalues[index] = new_values[i]\n",
    "    return new_pvalues"
   ]
  },
  {
   "cell_type": "code",
   "execution_count": null,
   "metadata": {},
   "outputs": [],
   "source": [
    "adjPval = FDR(pval)"
   ]
  },
  {
   "cell_type": "code",
   "execution_count": null,
   "metadata": {},
   "outputs": [],
   "source": [
    "df = pd.concat([pval_pd, pd.DataFrame(adjPval)], axis = 1)"
   ]
  },
  {
   "cell_type": "code",
   "execution_count": null,
   "metadata": {},
   "outputs": [],
   "source": [
    "df.rename(index = str, columns = {0:\"adjPval\"}, inplace = True)"
   ]
  },
  {
   "cell_type": "markdown",
   "metadata": {},
   "source": [
    "Export to tsv format"
   ]
  },
  {
   "cell_type": "code",
   "execution_count": null,
   "metadata": {},
   "outputs": [],
   "source": [
    "df.to_csv(\"/path_to_/adjPval.tsv\", sep = \"\\t\", header=True)"
   ]
  },
  {
   "cell_type": "markdown",
   "metadata": {},
   "source": [
    "Convert to Hail table format"
   ]
  },
  {
   "cell_type": "code",
   "execution_count": null,
   "metadata": {},
   "outputs": [],
   "source": [
    "df2 = hl.import_table(\"file:///path_to_/adjPval.tsv\", \n",
    "                      types = {\"locus.contig\": hl.tstr,\n",
    "                               \"locus.position\": hl.tint32,\n",
    "                               \"p_value\": hl.tfloat64,\n",
    "                               \"adjPval\": hl.tfloat64})"
   ]
  },
  {
   "cell_type": "code",
   "execution_count": null,
   "metadata": {},
   "outputs": [],
   "source": [
    "df2 = df2.annotate(locus=hl.locus(df2[\"locus.contig\"], df2[\"locus.position\"]))"
   ]
  },
  {
   "cell_type": "code",
   "execution_count": null,
   "metadata": {},
   "outputs": [],
   "source": [
    "df2 = df2.select(df2.locus, df2.adjPval)"
   ]
  },
  {
   "cell_type": "markdown",
   "metadata": {},
   "source": [
    "Add adjusted P-values to MT file"
   ]
  },
  {
   "cell_type": "code",
   "execution_count": null,
   "metadata": {},
   "outputs": [],
   "source": [
    "mt = mt.annotate_rows(**df2[mt.locus]) "
   ]
  },
  {
   "cell_type": "markdown",
   "metadata": {},
   "source": [
    "# 7. Tophits"
   ]
  },
  {
   "cell_type": "markdown",
   "metadata": {},
   "source": [
    "## 7.1. Look into top hits from GWAS"
   ]
  },
  {
   "cell_type": "code",
   "execution_count": 87,
   "metadata": {},
   "outputs": [],
   "source": [
    "gwas_ordered = gwas.order_by(gwas.p_value)"
   ]
  },
  {
   "cell_type": "code",
   "execution_count": null,
   "metadata": {},
   "outputs": [],
   "source": [
    "gwas_ordered.p_value.show(25)"
   ]
  },
  {
   "cell_type": "markdown",
   "metadata": {},
   "source": [
    "Check allele frequencies (pathogenic variants are expected to be low-frequency)"
   ]
  },
  {
   "cell_type": "code",
   "execution_count": null,
   "metadata": {
    "scrolled": true
   },
   "outputs": [],
   "source": [
    "mt_hits.variant_qc.AF[1].show()"
   ]
  },
  {
   "cell_type": "markdown",
   "metadata": {},
   "source": [
    "Check which ones are SNPs"
   ]
  },
  {
   "cell_type": "code",
   "execution_count": null,
   "metadata": {},
   "outputs": [],
   "source": [
    "mt_snp = mt_top.filter_rows(hl.is_snp(mt_top.alleles[0], mt_top.alleles[1]))"
   ]
  },
  {
   "cell_type": "markdown",
   "metadata": {},
   "source": [
    "## 7.2. Filter on suggestive significance level"
   ]
  },
  {
   "cell_type": "code",
   "execution_count": 86,
   "metadata": {},
   "outputs": [],
   "source": [
    "signPval = gwas.filter(gwas.p_value < 5e-06)"
   ]
  },
  {
   "cell_type": "code",
   "execution_count": null,
   "metadata": {},
   "outputs": [],
   "source": [
    "n = signPval.count()"
   ]
  },
  {
   "cell_type": "code",
   "execution_count": null,
   "metadata": {},
   "outputs": [],
   "source": [
    "n"
   ]
  },
  {
   "cell_type": "code",
   "execution_count": null,
   "metadata": {},
   "outputs": [],
   "source": [
    "signPval.describe()"
   ]
  },
  {
   "cell_type": "code",
   "execution_count": null,
   "metadata": {},
   "outputs": [],
   "source": [
    "signPval.show(n)"
   ]
  },
  {
   "cell_type": "markdown",
   "metadata": {},
   "source": [
    "Filter MT file for selected variants"
   ]
  },
  {
   "cell_type": "code",
   "execution_count": 87,
   "metadata": {},
   "outputs": [],
   "source": [
    "signPval = signPval.key_by(\"locus\")"
   ]
  },
  {
   "cell_type": "code",
   "execution_count": 88,
   "metadata": {},
   "outputs": [],
   "source": [
    "mt_hits = mt.filter_rows(hl.is_defined(signPval[mt.locus]))"
   ]
  },
  {
   "cell_type": "markdown",
   "metadata": {},
   "source": [
    "For both african and american descent, a total of 89 variants were found at suggestive significance level."
   ]
  },
  {
   "cell_type": "markdown",
   "metadata": {},
   "source": [
    "They displayed the following allele frequency:"
   ]
  },
  {
   "cell_type": "code",
   "execution_count": null,
   "metadata": {},
   "outputs": [],
   "source": [
    "mt_hits.variant_qc.AF[1].show(n)"
   ]
  },
  {
   "cell_type": "markdown",
   "metadata": {},
   "source": [
    "### 7.3  (Optional: Prune hits)"
   ]
  },
  {
   "cell_type": "markdown",
   "metadata": {},
   "source": [
    "The pruning algorithm finds correlation between genetic variants and keeps the first in chronological sequence order of the linkage disequilibrium block. This is likely not to be the most significant hit or most functionally important and for this reason was not incorporated in following analyses. "
   ]
  },
  {
   "cell_type": "code",
   "execution_count": null,
   "metadata": {},
   "outputs": [],
   "source": [
    "pruned_t = hl.ld_prune(mt_hits.GT, r2 = 0.1, bp_window_size = 1000000000)"
   ]
  },
  {
   "cell_type": "markdown",
   "metadata": {},
   "source": [
    "27 variants were found out of linkage disequilibrium. "
   ]
  },
  {
   "cell_type": "code",
   "execution_count": 8,
   "metadata": {},
   "outputs": [],
   "source": [
    "mt_pruned = mt_hits.filter_rows(hl.is_defined(pruned_t[mt_hits.row_key]))"
   ]
  },
  {
   "cell_type": "code",
   "execution_count": null,
   "metadata": {},
   "outputs": [],
   "source": [
    "mt_pruned.variant_qc.AF[1].show()"
   ]
  },
  {
   "cell_type": "code",
   "execution_count": null,
   "metadata": {},
   "outputs": [],
   "source": [
    "mt_hits = mt_pruned"
   ]
  },
  {
   "cell_type": "markdown",
   "metadata": {},
   "source": [
    "### Samples per top hits"
   ]
  },
  {
   "cell_type": "markdown",
   "metadata": {},
   "source": [
    "Merge the data from the matrices globals, columns and rows into a single matrix"
   ]
  },
  {
   "cell_type": "code",
   "execution_count": 8,
   "metadata": {},
   "outputs": [
    {
     "name": "stderr",
     "output_type": "stream",
     "text": [
      "2019-06-07 19:52:16 Hail: WARN: entries(): Resulting entries table is sorted by '(row_key, col_key)'.\n",
      "    To preserve row-major matrix table order, first unkey columns with 'key_cols_by()'\n"
     ]
    }
   ],
   "source": [
    "t = mt_hits.entries()"
   ]
  },
  {
   "cell_type": "markdown",
   "metadata": {},
   "source": [
    "Check keys, because keys are kept anyways. "
   ]
  },
  {
   "cell_type": "code",
   "execution_count": 9,
   "metadata": {},
   "outputs": [],
   "source": [
    "t = t.key_by()"
   ]
  },
  {
   "cell_type": "markdown",
   "metadata": {},
   "source": [
    "You also want to keep GT scores besides the cols locked as keys"
   ]
  },
  {
   "cell_type": "code",
   "execution_count": 11,
   "metadata": {},
   "outputs": [],
   "source": [
    "t_GT = t.select(t.GT, t.dbGaP_Subject_ID, t.locus)"
   ]
  },
  {
   "cell_type": "code",
   "execution_count": 12,
   "metadata": {},
   "outputs": [
    {
     "name": "stdout",
     "output_type": "stream",
     "text": [
      "----------------------------------------\n",
      "Global fields:\n",
      "    None\n",
      "----------------------------------------\n",
      "Row fields:\n",
      "    'GT': call \n",
      "    'dbGaP_Subject_ID': int32 \n",
      "    'locus': locus<GRCh37> \n",
      "----------------------------------------\n",
      "Key: []\n",
      "----------------------------------------\n"
     ]
    }
   ],
   "source": [
    "t_GT.describe()"
   ]
  },
  {
   "cell_type": "code",
   "execution_count": 13,
   "metadata": {},
   "outputs": [],
   "source": [
    "t_pd = t_GT.to_pandas(flatten = True)"
   ]
  },
  {
   "cell_type": "code",
   "execution_count": 14,
   "metadata": {},
   "outputs": [],
   "source": [
    "t_pd.to_csv('path_to_csv', encoding = 'utf-8', index = False)  #write a csv in the local directory\n"
   ]
  }
 ],
 "metadata": {
  "kernelspec": {
   "display_name": "Python 3",
   "language": "python",
   "name": "python3"
  },
  "language_info": {
   "codemirror_mode": {
    "name": "ipython",
    "version": 3
   },
   "file_extension": ".py",
   "mimetype": "text/x-python",
   "name": "python",
   "nbconvert_exporter": "python",
   "pygments_lexer": "ipython3",
   "version": "3.6.8"
  }
 },
 "nbformat": 4,
 "nbformat_minor": 4
}
