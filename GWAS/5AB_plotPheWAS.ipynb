{
 "cells": [
  {
   "cell_type": "code",
   "execution_count": null,
   "metadata": {
    "collapsed": true
   },
   "outputs": [],
   "source": [
    "library( plotly )"
   ]
  },
  {
   "cell_type": "markdown",
   "metadata": {},
   "source": [
    "Create dataframe of Phenotype, adjusted pvalue and odds ratio from the pleiotropy or comorbidity analysis."
   ]
  },
  {
   "cell_type": "code",
   "execution_count": null,
   "metadata": {
    "collapsed": true
   },
   "outputs": [],
   "source": [
    "phewas.df = phewasOutput.df1[ ,c(\"Phenotype\", \"Pvalue\", \"OR\")]\n",
    "phewas.df$Phenotype = as.character(phewas.df$Phenotype)\n",
    "phewas.df$Pvalue    = as.numeric(phewas.df$Pvalue)\n",
    "phewas.df$OR        = as.numeric(phewas.df$OR)\n",
    "str(phewas.df)"
   ]
  },
  {
   "cell_type": "markdown",
   "metadata": {},
   "source": [
    "Calculate log of adjusted Pvalue\n",
    "-log10(p) is a way of transforming the p value such that a larger value indicates a more significant association. This is useful because generally the smaller the p value the more significant the test result but that's not great for visualization.\n"
   ]
  },
  {
   "cell_type": "code",
   "execution_count": null,
   "metadata": {
    "collapsed": true
   },
   "outputs": [],
   "source": [
    "phewas.df$logP = -log10(phewas.df$Pvalue)"
   ]
  },
  {
   "cell_type": "markdown",
   "metadata": {},
   "source": [
    "define Position in plot of each pheno\n"
   ]
  },
  {
   "cell_type": "code",
   "execution_count": null,
   "metadata": {
    "collapsed": true
   },
   "outputs": [],
   "source": [
    "phewas.df$Pos = c(1:nrow(phewas.df))"
   ]
  },
  {
   "cell_type": "markdown",
   "metadata": {},
   "source": [
    "Adjust dot size ot effect size"
   ]
  },
  {
   "cell_type": "code",
   "execution_count": null,
   "metadata": {
    "collapsed": true
   },
   "outputs": [],
   "source": [
    "phewas.df$dotSize = 1\n",
    "for(i in 1:nrow(phewas.df) ){\n",
    "  if(phewas.df$logP[i] > 0 ){\n",
    "    if(phewas.df$OR[i] > 0   & phewas.df$OR[i] <= 0.5){\n",
    "      phewas.df$dotSize[i] = 2\n",
    "    }\n",
    "    if(phewas.df$OR[i] > 0.5 & phewas.df$OR[i] < 1){\n",
    "      phewas.df$dotSize[i] = 1.5\n",
    "    }\n",
    "    if(phewas.df$OR[i] > 1   & phewas.df$OR[i] < 2){\n",
    "      phewas.df$dotSize[i] = 1.5\n",
    "    }\n",
    "    if(phewas.df$OR[i] >= 2  & phewas.df$OR[i] < 3){\n",
    "      phewas.df$dotSize[i] = 2\n",
    "    }\n",
    "    if(phewas.df$OR[i] >= 3  & phewas.df$OR[i] < 4){\n",
    "      phewas.df$dotSize[i] = 2.5\n",
    "    }\n",
    "    if(phewas.df$OR[i] >= 4  & phewas.df$OR[i] < 5){\n",
    "      phewas.df$dotSize[i] = 3\n",
    "    }\n",
    "    if(phewas.df$OR[i] >= 5 ){\n",
    "      phewas.df$dotSize[i] = 3.5\n",
    "    }\n",
    "  }else{\n",
    "    phewas.df$dotSize[i] = 1\n",
    "  }\n",
    "}"
   ]
  },
  {
   "cell_type": "markdown",
   "metadata": {},
   "source": [
    "Set figure parameters"
   ]
  },
  {
   "cell_type": "code",
   "execution_count": null,
   "metadata": {
    "collapsed": true
   },
   "outputs": [],
   "source": [
    "phewas.df$labelPlotly = paste0(as.character(phewas.df$Phenotype), \"(\", round(phewas.df$OR, 3), \")\")\n",
    "infun = function(x){\n",
    "  (max(x) + min(x)) / 2\n",
    "}\n",
    "\n",
    "f = list(\n",
    "  family = \"Courier New, monospace\",\n",
    "  size   = 18,\n",
    "  color  = \"#7f7f7f\"\n",
    ")\n",
    "\n",
    "x = list(\n",
    "  title     = \"Phenotype category\",\n",
    "  titlefont = f, \n",
    "  tickangle = -40, \n",
    "  ticktext  = phewas.df$Phenotype\n",
    ")\n",
    "\n",
    "y = list(\n",
    "  title     = \"-log10(P)\",\n",
    "  titlefont = f, \n",
    "  ticktext  = phewas.df$Phenotype\n",
    ")\n",
    "\n",
    "\n",
    "a = list(\n",
    "  x = phewas.df$Pos,\n",
    "  y = phewas.df$logP,\n",
    "  text = phewas.df$label,\n",
    "  xref = \"x\",\n",
    "  yref = \"y\",\n",
    "  showarrow = FALSE,\n",
    "  arrowhead = 7, \n",
    "  tickangle = 40\n",
    ")\n",
    "\n",
    "\n",
    "hline = function(y = 0, color = \"red\") {\n",
    "  list(\n",
    "    type = \"line\", \n",
    "    x0   = 0, \n",
    "    x1   = 1, \n",
    "    xref = \"paper\",\n",
    "    y0   = y, \n",
    "    y1   = y, \n",
    "    line = list(color = color)\n",
    "  )\n",
    "}"
   ]
  },
  {
   "cell_type": "markdown",
   "metadata": {},
   "source": [
    "Plot the figure based on the parameters"
   ]
  },
  {
   "cell_type": "code",
   "execution_count": null,
   "metadata": {
    "collapsed": true
   },
   "outputs": [],
   "source": [
    "plot_ly(data = phewas.df,  x = phewas.df$Pos, y = phewas.df$logP, hoverinfo = \"text\", text = phewas.df$labelPlotly)  %>% \n",
    "  layout(title = locus.names[l],\n",
    "         xaxis = x, \n",
    "         yaxis = y, \n",
    "         showlegend  = FALSE, \n",
    "#         shapes      = hline(-log10(0.05/n_ph)), \n",
    "         annotations = a, \n",
    "         margin      = list(l = 50, r = 50, b = 150, t = 50, pad = 4))\n",
    "\n",
    "# subplot(\n",
    "#   add_markers(p, size = ~as.numeric(phewas.df$OR), symbol = ~as.numeric(phewas.df$dotShape), name = \"default\"))"
   ]
  }
 ],
 "metadata": {
  "kernelspec": {
   "display_name": "R",
   "language": "R",
   "name": "ir"
  },
  "language_info": {
   "codemirror_mode": "r",
   "file_extension": ".r",
   "mimetype": "text/x-r-source",
   "name": "R",
   "pygments_lexer": "r",
   "version": "3.3.1"
  }
 },
 "nbformat": 4,
 "nbformat_minor": 1
}
